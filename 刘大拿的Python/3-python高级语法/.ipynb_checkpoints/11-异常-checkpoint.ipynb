{
 "cells": [
  {
   "cell_type": "markdown",
   "metadata": {},
   "source": [
    "# 异常\n",
    "- 广义上的异常分为错误和异常\n",
    "- 错误指的是可以人为避免\n",
    "- 异常指的是语法逻辑正确的前提下，出现的问题\n",
    "- python中，异常是一个类，可以处理和使用\n",
    "- 异常的分类\n",
    "        AssertError 断言语句（assert）失败\n",
    "        AttributeError 尝试访问未知的对象属性\n",
    "        EOFError 用户输入文件末尾标志EOF（Ctrl+d）\n",
    "        FloatingPointError 浮点计算错误\n",
    "        GeneratorExit generator.close()方法被调用的时候\n",
    "        ImportError 导入模块失败的时候\n",
    "        IndexError 索引超出序列的范围\n",
    "        KeyError 字典中查找一个不存在的关键字\n",
    "        KeyboardInterrupt 用户输入中断键（Ctrl+c）\n",
    "        MemoryError 内存溢出（可通过删除对象释放内存）\n",
    "        NameError 尝试访问一个不存在的变量\n",
    "        NotImplementedError 尚未实现的方法\n",
    "        OSError 操作系统产生的异常（例如打开一个不存在的文件）\n",
    "        OverflowError 数值运算超出最大限制\n",
    "        ReferenceError 弱引用（weak reference）试图访问一个已经被垃圾回收机制回收了的对象\n",
    "        RuntimeError 一般的运行时错误\n",
    "        StopIteration 迭代器没有更多的值\n",
    "        SyntaxError Python的语法错误\n",
    "        IndentationError 缩进错误\n",
    "        TabError Tab和空格混合使用\n",
    "        SystemError Python编译器系统错误\n",
    "        SystemExit Python编译器进程被关闭\n",
    "        TypeError 不同类型间的无效操作\n",
    "        UnboundLocalError 访问一个未初始化的本地变量（NameError的子类）\n",
    "        UnicodeError Unicode相关的错误（ValueError的子类）\n",
    "        UnicodeEncodeError Unicode编码时的错误（UnicodeError的子类）\n",
    "        UnicodeDecodeError Unicode解码时的错误（UnicodeError的子类）\n",
    "        UnicodeTranslateError Unicode转换时的错误（UnicodeError的子类）\n",
    "        ValueError 传入无效的参数\n",
    "        ZeroDivisionError 除数为零\n",
    "- 所有的异常都是Exception的子类"
   ]
  },
  {
   "cell_type": "markdown",
   "metadata": {},
   "source": [
    "# 异常处理\n",
    "- 不能保证程序永远正确运行\n",
    "- 但是，必须保证程序在最坏的情况下得到的问题被妥善处理\n",
    "- 异常处理语法\n",
    "        try:\n",
    "            尝试实现某个操作\n",
    "            如果没有出现异常，任务就可以完成\n",
    "            如果出现异常，将异常从当前代码块扔出去尝试解决异常\n",
    "        except 异常类型1:\n",
    "            解决方案1：用于尝试在此处处理异常，解决问题\n",
    "        except 异常类型2:\n",
    "            解决方案2：用于尝试在此处处理异常，解决问题\n",
    "        except (异常类型1, 异常类型2……):\n",
    "            解决方案：针对多个异常使用相同的处理方式\n",
    "        except：\n",
    "            解决方案：所有异常的处理\n",
    "        else:\n",
    "            如果没有出现任何问题，将会执行此处代码\n",
    "        finally:\n",
    "            不管有没有异常都要执行的代码\n",
    "- 流程\n",
    "    1. 执行try下面的语句\n",
    "    2. 如果出现异常，则在except语句中查找对应异常并进行处理\n",
    "    3. 如果没有出现异常，则执行else语句内容\n",
    "    4. 最后，不管是否出现异常，都要执行finally语句\n",
    "- 需要注意，除了except（最少一个）以外，else和finally可选\n",
    "- 多种异常的处理\n",
    "    - 处理多种异常时，需要优先处理具体的异常\n",
    "    - 先处理异常子类，再处理异常父类\n",
    "    - 一旦捕获到一个异常，就不会再处理之后的异常"
   ]
  },
  {
   "cell_type": "code",
   "execution_count": 1,
   "metadata": {},
   "outputs": [
    {
     "name": "stdout",
     "output_type": "stream",
     "text": [
      "Plz input your number:0\n",
      "你特娘的输入的啥玩意儿\n"
     ]
    }
   ],
   "source": [
    "# 简单异常案例\n",
    "try:\n",
    "    num = int(input(\"Plz input your number:\"))\n",
    "    rst = 100/num\n",
    "    print(\"计算结果是： {0}\".format(rst))\n",
    "except:\n",
    "    print(\"输入内容有误\")\n",
    "    # exit是退出程序的意思\n",
    "    # exit()"
   ]
  },
  {
   "cell_type": "code",
   "execution_count": 3,
   "metadata": {},
   "outputs": [
    {
     "name": "stdout",
     "output_type": "stream",
     "text": [
      "Plz input your number:0\n",
      "division by zero\n",
      "你特娘的输入的啥玩意儿\n"
     ]
    }
   ],
   "source": [
    "# 简单异常案例\n",
    "# 给出提示信息\n",
    "try:\n",
    "    num = int(input(\"Plz input your number:\"))\n",
    "    rst = 100/num\n",
    "    print(\"计算结果是： {0}\".format(rst))\n",
    "except ZeroDivisionError as e:v\n",
    "    print(e)\n",
    "    print(\"你特娘的输入的啥玩意儿\")\n",
    "    # exit是退出程序的意思\n",
    "    # exit()"
   ]
  },
  {
   "cell_type": "markdown",
   "metadata": {},
   "source": [
    "# 用户手动引发异常\n",
    "- 某些情况下啊，用户希望自己引发一个异常，可以使用\n",
    "- raise关键字来引发异常\n",
    "- 使用时，一般时认定在不满足某些条件下，认为抛出异常"
   ]
  },
  {
   "cell_type": "code",
   "execution_count": 6,
   "metadata": {},
   "outputs": [
    {
     "name": "stdout",
     "output_type": "stream",
     "text": [
      "用户手动引发异常\n",
      "NameError\n",
      "我肯定会被执行的\n"
     ]
    }
   ],
   "source": [
    "# raise 案例\n",
    "try:\n",
    "    print('用户手动引发异常')\n",
    "    raise NameError\n",
    "except NameError as e:\n",
    "    print('NameError')\n",
    "except Exception as e:\n",
    "    print('Exception')\n",
    "finally:\n",
    "    print('我肯定会被执行的')"
   ]
  },
  {
   "cell_type": "code",
   "execution_count": 12,
   "metadata": {},
   "outputs": [
    {
     "name": "stdout",
     "output_type": "stream",
     "text": [
      "用户手动引发异常\n",
      "xxxxx\n",
      "DanaError\n",
      "我肯定会被执行的\n"
     ]
    }
   ],
   "source": [
    "# raise 案例，自定义异常\n",
    "# 自定义异常必须时系统异常的子类\n",
    "class DanaError(ValueError):\n",
    "#     def __init__(self, contend='contend'):\n",
    "#         self.contend = contend\n",
    "#     def __new__(self):\n",
    "#         print(self.contend)\n",
    "    pass\n",
    "\n",
    "try:\n",
    "    print('用户手动引发异常')\n",
    "    raise DanaError('xxxxx')\n",
    "except NameError as e:\n",
    "    print('NameError')\n",
    "except DanaError as e:\n",
    "    print(e)\n",
    "    print('DanaError')\n",
    "except Exception as e:\n",
    "    print('Exception')\n",
    "finally:\n",
    "    print('我肯定会被执行的')"
   ]
  },
  {
   "cell_type": "code",
   "execution_count": 8,
   "metadata": {},
   "outputs": [
    {
     "name": "stdout",
     "output_type": "stream",
     "text": [
      "Plz input your number:0\n",
      "Exception\n",
      "反正我会被执行\n"
     ]
    }
   ],
   "source": [
    "# else语句案例\n",
    "\n",
    "try:\n",
    "    num = int(input(\"Plz input your number:\"))\n",
    "    rst = 100/num\n",
    "    print(\"计算结果是： {0}\".format(rst))\n",
    "except Exception as e:\n",
    "    print(\"Exception\")\n",
    "    \n",
    "else:\n",
    "    print(\"No Exception\")\n",
    "finally:\n",
    "    print(\"反正我会被执行\")"
   ]
  },
  {
   "cell_type": "markdown",
   "metadata": {},
   "source": [
    "# 关于自定义异常\n",
    "- 只要是raise异常，则推荐自定义异常\n",
    "- 在自定义异常的时候，一般包含以下内容：\n",
    "    - 自定义发生异常的异常代码\n",
    "    - 自定义发生异常后的问题提示\n",
    "    - 自定义发生异常的行数\n",
    "- 最终的目的是，一旦发生异常，方便程序员快速定位错误现场"
   ]
  },
  {
   "cell_type": "code",
   "execution_count": null,
   "metadata": {},
   "outputs": [],
   "source": []
  }
 ],
 "metadata": {
  "kernelspec": {
   "display_name": "Python 3",
   "language": "python",
   "name": "python3"
  },
  "language_info": {
   "codemirror_mode": {
    "name": "ipython",
    "version": 3
   },
   "file_extension": ".py",
   "mimetype": "text/x-python",
   "name": "python",
   "nbconvert_exporter": "python",
   "pygments_lexer": "ipython3",
   "version": "3.6.7"
  }
 },
 "nbformat": 4,
 "nbformat_minor": 2
}
