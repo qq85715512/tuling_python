{
 "cells": [
  {
   "cell_type": "markdown",
   "metadata": {},
   "source": [
    "# 1. 模块\n",
    "- 一个模块就是一个包好python代码的文件，后缀名称是.py就行，模块就是个python文件\n",
    "- 为什么用模块\n",
    "    - 程序太大，编写维护非常不方便，需要拆分\n",
    "    - 模块可以增加代码重复利用\n",
    "    - 当作命名空间使用，避免命名冲突\n",
    "- 如何定义模块\n",
    "    - 模块就是一个普通文件，所以任何代码可以直接书写\n",
    "    - 不过根据模块的规范，最好在模块中编写以下内容\n",
    "        - 函数，单一功能\n",
    "        - 类，相似功能的组合，或者类似业务模块\n",
    "        - 测试代码\n",
    "- 如何使用模块\n",
    "    - 模块直接导入使用\n",
    "        - 模块文件名称遵守变量命名规范\n",
    "        - 导入模块时，会执行一次模块中的所有代码，要避免直接print()等\n",
    "    - 语法\n",
    "        - import moudle_name\n",
    "            - 调用方法：moudle_name.function_name\n",
    "            - 调用类：moudle_name.class_name\n",
    "        - import moudle_name as 别名\n",
    "            - 导入的同时给模块起一个别名\n",
    "            - 其余用法跟第一种相同\n",
    "        - from moudle_name import function_name, class_name\n",
    "            - 选择性导入\n",
    "            - 使用时直接使用导入的内容，不需要前缀\n",
    "        - from moudle_name import *\n",
    "            - 导入模块中的所有内容\n",
    "            - 该方法容易造成命名污染，出现相同的命名\n",
    "- `if __name__ == \"__main__的使用`\n",
    "    - 该命令，表示只有调用程序本身时才执行该代码块的内容\n",
    "    - 可以有效避免模块被导入时执行的问题\n",
    "    - 建议所有程序的入口都已此代码为入口"
   ]
  },
  {
   "cell_type": "code",
   "execution_count": 3,
   "metadata": {},
   "outputs": [
    {
     "name": "stdout",
     "output_type": "stream",
     "text": [
      "我是模块p01\n"
     ]
    }
   ],
   "source": [
    "# 使用模块案例\n",
    "# 定义学生类\n",
    "class Student():\n",
    "    def __init__(self, name='NoName', age=18):\n",
    "        self.name = name\n",
    "        self.age= age\n",
    "    def say(self):\n",
    "        print('my name id {0}'.format(self.name))\n",
    "          \n",
    "def sayHello():\n",
    "    print('hi')\n",
    "    \n",
    "print('我是模块p01')"
   ]
  },
  {
   "cell_type": "markdown",
   "metadata": {},
   "source": [
    "# 2. 模块的搜索路径和存储\n",
    "- 什么是模块的搜索路径\n",
    "    - 加载模块的时候，系统会在哪些地方寻找此模块\n",
    "- 系统默认的模块搜索路径\n",
    "    - import sys\n",
    "    - sys.path 属性可以获取路径列表\n",
    "-添加搜索路径\n",
    "    - sys.path.append(path)\n",
    "    \n",
    "- 模块的加载顺序\n",
    "    - 搜索内存中已经加载好的模块\n",
    "    - 搜索python的内置模块\n",
    "    - 搜索sys.path"
   ]
  },
  {
   "cell_type": "code",
   "execution_count": 11,
   "metadata": {},
   "outputs": [
    {
     "name": "stdout",
     "output_type": "stream",
     "text": [
      "<class 'list'>\n",
      "/usr/lib64/python36.zip\n",
      "/usr/lib64/python3.6\n",
      "/usr/lib64/python3.6/lib-dynload\n",
      "\n",
      "/usr/lib64/python3.6/site-packages\n",
      "/usr/lib/python3.6/site-packages\n",
      "/root/turtle-0.0.2\n",
      "/usr/lib/python3.6/site-packages/IPython/extensions\n",
      "/home/caiwenming/.ipython\n"
     ]
    }
   ],
   "source": [
    "import sys\n",
    "print(type(sys.path))\n",
    "# print(sys.path)\n",
    "\n",
    "for p in sys.path:\n",
    "    print(p)"
   ]
  },
  {
   "cell_type": "markdown",
   "metadata": {},
   "source": [
    "# 3. 包\n",
    "- 包是一种组织管理代码的方式，里面存放的是模块\n",
    "- 用于将模块包含在一起的文件夹就是包\n",
    "- 自定义包的结构\n",
    "\n",
    "      |---包\n",
    "      |---|--- __init__.py  包的标志文件\n",
    "      |---|--- 模块1\n",
    "      |---|--- 模块2\n",
    "      |---|--- 子包(子文件夹)\n",
    "      |---|---|--- __init__.py  包的标志文件\n",
    "      |---|---|--- 子包模块1\n",
    "      |---|---|--- 子包模块2\n",
    "- 包的导入操作\n",
    "    - import package_name\n",
    "        - 直接导入一个包，可以直接使用`__init__.py`的内容，该文件一般为空\n",
    "        - 使用方式\n",
    "            \n",
    "                package_name.function_name\n",
    "                package_name.class_name.function_name\n",
    "    - import package_name as 别名\n",
    "        - 用法同上\n",
    "        - 该方法默认导入`__init__.py`，而不是模块\n",
    "    - import package_name.moudle_name\n",
    "        - 导入保重的某一个具体的模块\n",
    "        - 使用方法\n",
    "        \n",
    "              package.module.func_name\n",
    "              package.module.class.fun()\n",
    "              package.module.class.var\n",
    "    - import package_name.moudle_name as 别名\n",
    "        - 使用方法同上\n",
    "    - from package_name import moudle_name1,moudle_name2\n",
    "        - 该方法导入不执行`__init__.py`的内容\n",
    "    - from package_name import *\n",
    "        - 导入当前包`__init__.py`文件中的所有函数和类\n",
    "        - 使用方法\n",
    "                  \n",
    "                  func_name()\n",
    "                  class_name.func_name()\n",
    "                  class_name.var\n",
    "    - from package_name.moudle_name import *\n",
    "        - 导入包中指定模块的所有内容\n",
    "    - 在开发环境中经常会所以用其他模块，可以在当前包中直接导入其他模块中的内容\n",
    "        - import 完整的包或者模块的路径\n",
    "    - `__all__`的用法\n",
    "        - 在使用from package_name import * 的时候，*可以导入的内容\n",
    "        - `__init__.py`中如果文件为空，或者没有`__all__`，那么只能把`__init__`的内容导入\n",
    "        - `__init__.py`如果设置了`__all__`的值，那么按照`__all__`指定的子包或者模块进行导入，不会载入`__init__.py`中的其他内容\n",
    "        - `__all__=['module1', 'module2', 'package1'.........]`"
   ]
  },
  {
   "cell_type": "markdown",
   "metadata": {},
   "source": [
    "# 4. 命名空间\n",
    "- 用于区分不同位置不同功能但是名称相同的函数或者变量的一个特定前缀\n",
    "- 作用是避免命名冲突"
   ]
  },
  {
   "cell_type": "code",
   "execution_count": null,
   "metadata": {},
   "outputs": [],
   "source": []
  }
 ],
 "metadata": {
  "kernelspec": {
   "display_name": "Python 3",
   "language": "python",
   "name": "python3"
  },
  "language_info": {
   "codemirror_mode": {
    "name": "ipython",
    "version": 3
   },
   "file_extension": ".py",
   "mimetype": "text/x-python",
   "name": "python",
   "nbconvert_exporter": "python",
   "pygments_lexer": "ipython3",
   "version": "3.6.7"
  }
 },
 "nbformat": 4,
 "nbformat_minor": 2
}
