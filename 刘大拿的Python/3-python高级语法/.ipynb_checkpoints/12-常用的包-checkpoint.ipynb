{
 "cells": [
  {
   "cell_type": "markdown",
   "metadata": {},
   "source": [
    "# 常用模块\n",
    "- calendar\n",
    "- time\n",
    "- datetime\n",
    "- timeit\n",
    "- os\n",
    "- shutil\n",
    "- zip\n",
    "- math\n",
    "- string\n",
    "- 上述所有模块使用前需导入，string是个特例\n",
    "- calendar，time，datetime的区别参考中文意思"
   ]
  },
  {
   "cell_type": "markdown",
   "metadata": {},
   "source": [
    "# calendar\n",
    "- 跟日历相关的模块"
   ]
  },
  {
   "cell_type": "code",
   "execution_count": 1,
   "metadata": {},
   "outputs": [],
   "source": [
    "# 使用需要先导入\n",
    "import calendar"
   ]
  },
  {
   "cell_type": "code",
   "execution_count": 4,
   "metadata": {},
   "outputs": [
    {
     "name": "stdout",
     "output_type": "stream",
     "text": [
      "<class 'str'>\n",
      "                                  2017\n",
      "\n",
      "      January                   February                   March\n",
      "Mo Tu We Th Fr Sa Su      Mo Tu We Th Fr Sa Su      Mo Tu We Th Fr Sa Su\n",
      "                   1             1  2  3  4  5             1  2  3  4  5\n",
      " 2  3  4  5  6  7  8       6  7  8  9 10 11 12       6  7  8  9 10 11 12\n",
      " 9 10 11 12 13 14 15      13 14 15 16 17 18 19      13 14 15 16 17 18 19\n",
      "16 17 18 19 20 21 22      20 21 22 23 24 25 26      20 21 22 23 24 25 26\n",
      "23 24 25 26 27 28 29      27 28                     27 28 29 30 31\n",
      "30 31\n",
      "\n",
      "       April                      May                       June\n",
      "Mo Tu We Th Fr Sa Su      Mo Tu We Th Fr Sa Su      Mo Tu We Th Fr Sa Su\n",
      "                1  2       1  2  3  4  5  6  7                1  2  3  4\n",
      " 3  4  5  6  7  8  9       8  9 10 11 12 13 14       5  6  7  8  9 10 11\n",
      "10 11 12 13 14 15 16      15 16 17 18 19 20 21      12 13 14 15 16 17 18\n",
      "17 18 19 20 21 22 23      22 23 24 25 26 27 28      19 20 21 22 23 24 25\n",
      "24 25 26 27 28 29 30      29 30 31                  26 27 28 29 30\n",
      "\n",
      "        July                     August                  September\n",
      "Mo Tu We Th Fr Sa Su      Mo Tu We Th Fr Sa Su      Mo Tu We Th Fr Sa Su\n",
      "                1  2          1  2  3  4  5  6                   1  2  3\n",
      " 3  4  5  6  7  8  9       7  8  9 10 11 12 13       4  5  6  7  8  9 10\n",
      "10 11 12 13 14 15 16      14 15 16 17 18 19 20      11 12 13 14 15 16 17\n",
      "17 18 19 20 21 22 23      21 22 23 24 25 26 27      18 19 20 21 22 23 24\n",
      "24 25 26 27 28 29 30      28 29 30 31               25 26 27 28 29 30\n",
      "31\n",
      "\n",
      "      October                   November                  December\n",
      "Mo Tu We Th Fr Sa Su      Mo Tu We Th Fr Sa Su      Mo Tu We Th Fr Sa Su\n",
      "                   1             1  2  3  4  5                   1  2  3\n",
      " 2  3  4  5  6  7  8       6  7  8  9 10 11 12       4  5  6  7  8  9 10\n",
      " 9 10 11 12 13 14 15      13 14 15 16 17 18 19      11 12 13 14 15 16 17\n",
      "16 17 18 19 20 21 22      20 21 22 23 24 25 26      18 19 20 21 22 23 24\n",
      "23 24 25 26 27 28 29      27 28 29 30               25 26 27 28 29 30 31\n",
      "30 31\n",
      "\n"
     ]
    }
   ],
   "source": [
    "# 获取一年的日历\n",
    "cal = calendar.calendar(2017)\n",
    "# cal时字符串类型\n",
    "print(type(cal))\n",
    "print(cal)"
   ]
  },
  {
   "cell_type": "code",
   "execution_count": 20,
   "metadata": {},
   "outputs": [
    {
     "name": "stdout",
     "output_type": "stream",
     "text": [
      "                                   2017\n",
      "\n",
      "      January                    February                    March\n",
      "Mo Tu We Th Fr Sa Su       Mo Tu We Th Fr Sa Su       Mo Tu We Th Fr Sa Su\n",
      "                   1              1  2  3  4  5              1  2  3  4  5\n",
      " 2  3  4  5  6  7  8        6  7  8  9 10 11 12        6  7  8  9 10 11 12\n",
      " 9 10 11 12 13 14 15       13 14 15 16 17 18 19       13 14 15 16 17 18 19\n",
      "16 17 18 19 20 21 22       20 21 22 23 24 25 26       20 21 22 23 24 25 26\n",
      "23 24 25 26 27 28 29       27 28                      27 28 29 30 31\n",
      "30 31\n",
      "\n",
      "       April                       May                        June\n",
      "Mo Tu We Th Fr Sa Su       Mo Tu We Th Fr Sa Su       Mo Tu We Th Fr Sa Su\n",
      "                1  2        1  2  3  4  5  6  7                 1  2  3  4\n",
      " 3  4  5  6  7  8  9        8  9 10 11 12 13 14        5  6  7  8  9 10 11\n",
      "10 11 12 13 14 15 16       15 16 17 18 19 20 21       12 13 14 15 16 17 18\n",
      "17 18 19 20 21 22 23       22 23 24 25 26 27 28       19 20 21 22 23 24 25\n",
      "24 25 26 27 28 29 30       29 30 31                   26 27 28 29 30\n",
      "\n",
      "        July                      August                   September\n",
      "Mo Tu We Th Fr Sa Su       Mo Tu We Th Fr Sa Su       Mo Tu We Th Fr Sa Su\n",
      "                1  2           1  2  3  4  5  6                    1  2  3\n",
      " 3  4  5  6  7  8  9        7  8  9 10 11 12 13        4  5  6  7  8  9 10\n",
      "10 11 12 13 14 15 16       14 15 16 17 18 19 20       11 12 13 14 15 16 17\n",
      "17 18 19 20 21 22 23       21 22 23 24 25 26 27       18 19 20 21 22 23 24\n",
      "24 25 26 27 28 29 30       28 29 30 31                25 26 27 28 29 30\n",
      "31\n",
      "\n",
      "      October                    November                   December\n",
      "Mo Tu We Th Fr Sa Su       Mo Tu We Th Fr Sa Su       Mo Tu We Th Fr Sa Su\n",
      "                   1              1  2  3  4  5                    1  2  3\n",
      " 2  3  4  5  6  7  8        6  7  8  9 10 11 12        4  5  6  7  8  9 10\n",
      " 9 10 11 12 13 14 15       13 14 15 16 17 18 19       11 12 13 14 15 16 17\n",
      "16 17 18 19 20 21 22       20 21 22 23 24 25 26       18 19 20 21 22 23 24\n",
      "23 24 25 26 27 28 29       27 28 29 30                25 26 27 28 29 30 31\n",
      "30 31\n",
      "\n"
     ]
    }
   ],
   "source": [
    "# calendar 获取一年的日历字符串\n",
    "# w = 每个日期之间的间隔字符数\n",
    "# l = 每周所在行之间的间隔字符数\n",
    "# c = 每个月之间的间隔字符数\n",
    "cal = calendar.calendar(2017, w=2, l=0, c=7)\n",
    "print(cal)"
   ]
  },
  {
   "cell_type": "code",
   "execution_count": 11,
   "metadata": {},
   "outputs": [
    {
     "data": {
      "text/plain": [
       "True"
      ]
     },
     "execution_count": 11,
     "metadata": {},
     "output_type": "execute_result"
    }
   ],
   "source": [
    "# isleap：判断某一年是否闰年\n",
    "calendar.isleap(2000)"
   ]
  },
  {
   "cell_type": "code",
   "execution_count": 22,
   "metadata": {},
   "outputs": [
    {
     "data": {
      "text/plain": [
       "1"
      ]
     },
     "execution_count": 22,
     "metadata": {},
     "output_type": "execute_result"
    }
   ],
   "source": [
    "# leapdays：获取指定年份之间的闰年的个数\n",
    "calendar.leapdays(1998,2001)"
   ]
  },
  {
   "cell_type": "code",
   "execution_count": 15,
   "metadata": {},
   "outputs": [
    {
     "name": "stdout",
     "output_type": "stream",
     "text": [
      "Help on function leapdays in module calendar:\n",
      "\n",
      "leapdays(y1, y2)\n",
      "    Return number of leap years in range [y1, y2).\n",
      "    Assume y1 <= y2.\n",
      "\n"
     ]
    }
   ],
   "source": [
    "help(calendar.leapdays)"
   ]
  },
  {
   "cell_type": "code",
   "execution_count": 25,
   "metadata": {},
   "outputs": [
    {
     "name": "stdout",
     "output_type": "stream",
     "text": [
      "   February 2018\n",
      "Mo Tu We Th Fr Sa Su\n",
      "          1  2  3  4\n",
      " 5  6  7  8  9 10 11\n",
      "12 13 14 15 16 17 18\n",
      "19 20 21 22 23 24 25\n",
      "26 27 28\n",
      "\n"
     ]
    }
   ],
   "source": [
    "# month() 获取某个月的日历字符\n",
    "# calendar.month(year, month)\n",
    "m = calendar.month(2018, 2)\n",
    "print(m)"
   ]
  },
  {
   "cell_type": "code",
   "execution_count": 26,
   "metadata": {},
   "outputs": [
    {
     "name": "stdout",
     "output_type": "stream",
     "text": [
      "3 28\n"
     ]
    }
   ],
   "source": [
    "# monthrange() 获取某个月的周几开始和天数\n",
    "# calendar.monthrange(year, month)\n",
    "# 周默认0-6表示周一到周日\n",
    "day, days = calendar.monthrange(2018, 2)\n",
    "print(day, days)"
   ]
  },
  {
   "cell_type": "code",
   "execution_count": 27,
   "metadata": {},
   "outputs": [
    {
     "name": "stdout",
     "output_type": "stream",
     "text": [
      "<class 'list'>\n",
      "[[0, 0, 0, 1, 2, 3, 4], [5, 6, 7, 8, 9, 10, 11], [12, 13, 14, 15, 16, 17, 18], [19, 20, 21, 22, 23, 24, 25], [26, 27, 28, 0, 0, 0, 0]]\n"
     ]
    }
   ],
   "source": [
    "# monthcalendar() 获取某个月的每天的矩阵列表\n",
    "# 即一个二维列表\n",
    "# 没有日期的用0表示\n",
    "days_of_month = calendar.monthcalendar(2018, 2)\n",
    "print(type(days_of_month))\n",
    "print(days_of_month)"
   ]
  },
  {
   "cell_type": "code",
   "execution_count": 30,
   "metadata": {},
   "outputs": [
    {
     "name": "stdout",
     "output_type": "stream",
     "text": [
      "Help on method pryear in module calendar:\n",
      "\n",
      "pryear(theyear, w=0, l=0, c=6, m=3) method of calendar.TextCalendar instance\n",
      "    Print a year's calendar.\n",
      "\n",
      "****************************************************************************************************\n",
      "                                  2018\n",
      "\n",
      "      January                   February                   March\n",
      "Mo Tu We Th Fr Sa Su      Mo Tu We Th Fr Sa Su      Mo Tu We Th Fr Sa Su\n",
      " 1  2  3  4  5  6  7                1  2  3  4                1  2  3  4\n",
      " 8  9 10 11 12 13 14       5  6  7  8  9 10 11       5  6  7  8  9 10 11\n",
      "15 16 17 18 19 20 21      12 13 14 15 16 17 18      12 13 14 15 16 17 18\n",
      "22 23 24 25 26 27 28      19 20 21 22 23 24 25      19 20 21 22 23 24 25\n",
      "29 30 31                  26 27 28                  26 27 28 29 30 31\n",
      "\n",
      "       April                      May                       June\n",
      "Mo Tu We Th Fr Sa Su      Mo Tu We Th Fr Sa Su      Mo Tu We Th Fr Sa Su\n",
      "                   1          1  2  3  4  5  6                   1  2  3\n",
      " 2  3  4  5  6  7  8       7  8  9 10 11 12 13       4  5  6  7  8  9 10\n",
      " 9 10 11 12 13 14 15      14 15 16 17 18 19 20      11 12 13 14 15 16 17\n",
      "16 17 18 19 20 21 22      21 22 23 24 25 26 27      18 19 20 21 22 23 24\n",
      "23 24 25 26 27 28 29      28 29 30 31               25 26 27 28 29 30\n",
      "30\n",
      "\n",
      "        July                     August                  September\n",
      "Mo Tu We Th Fr Sa Su      Mo Tu We Th Fr Sa Su      Mo Tu We Th Fr Sa Su\n",
      "                   1             1  2  3  4  5                      1  2\n",
      " 2  3  4  5  6  7  8       6  7  8  9 10 11 12       3  4  5  6  7  8  9\n",
      " 9 10 11 12 13 14 15      13 14 15 16 17 18 19      10 11 12 13 14 15 16\n",
      "16 17 18 19 20 21 22      20 21 22 23 24 25 26      17 18 19 20 21 22 23\n",
      "23 24 25 26 27 28 29      27 28 29 30 31            24 25 26 27 28 29 30\n",
      "30 31\n",
      "\n",
      "      October                   November                  December\n",
      "Mo Tu We Th Fr Sa Su      Mo Tu We Th Fr Sa Su      Mo Tu We Th Fr Sa Su\n",
      " 1  2  3  4  5  6  7                1  2  3  4                      1  2\n",
      " 8  9 10 11 12 13 14       5  6  7  8  9 10 11       3  4  5  6  7  8  9\n",
      "15 16 17 18 19 20 21      12 13 14 15 16 17 18      10 11 12 13 14 15 16\n",
      "22 23 24 25 26 27 28      19 20 21 22 23 24 25      17 18 19 20 21 22 23\n",
      "29 30 31                  26 27 28 29 30            24 25 26 27 28 29 30\n",
      "                                                    31\n",
      "\n"
     ]
    }
   ],
   "source": [
    "# prcal: print calendar 直接打印日历\n",
    "# calendar.prcal(year)\n",
    "help(calendar.prcal)\n",
    "print('*' * 100)\n",
    "calendar.prcal(2018)"
   ]
  },
  {
   "cell_type": "code",
   "execution_count": 31,
   "metadata": {},
   "outputs": [
    {
     "name": "stdout",
     "output_type": "stream",
     "text": [
      "   February 2018\n",
      "Mo Tu We Th Fr Sa Su\n",
      "          1  2  3  4\n",
      " 5  6  7  8  9 10 11\n",
      "12 13 14 15 16 17 18\n",
      "19 20 21 22 23 24 25\n",
      "26 27 28\n"
     ]
    }
   ],
   "source": [
    "# prmonth(): print month 直接打印月的日历\n",
    "# calendar.prmonth(year, month)\n",
    "calendar.prmonth(2018, 2)"
   ]
  },
  {
   "cell_type": "code",
   "execution_count": 32,
   "metadata": {},
   "outputs": [
    {
     "data": {
      "text/plain": [
       "3"
      ]
     },
     "execution_count": 32,
     "metadata": {},
     "output_type": "execute_result"
    }
   ],
   "source": [
    "# weekday 获取周几\n",
    "# calendar.weekday(year, month, day)\n",
    "calendar.weekday(2018, 2, 1)"
   ]
  },
  {
   "cell_type": "markdown",
   "metadata": {},
   "source": [
    "# time\n",
    "## 时间戳\n",
    "- 一个时间表示，根据不同语言，可以是整数或者浮点数\n",
    "- 是从1970年1月1日0时0分0秒到现在的历经的秒数\n",
    "- 若表示的时间时1970年以前或者太遥远的未来，可能会出现异常\n",
    "- 32为操作系统能够支持到2038年\n",
    "\n",
    "## UTC时间\n",
    "- UTC有称为时间协调时间，以英国的格林尼治天文台所在地区的时间作为参考时间，也叫做时间标准时间\n",
    "- 中国时间时UTC+8即东八区\n",
    "\n",
    "## 夏令时\n",
    "- 夏令时就是在夏天的时候将时间调快一个小时，本意时督促大家早睡早起节省蜡烛，每天变成25小时，本质没变还是24小时\n",
    "\n",
    "## 时间元组\n",
    "- 一个包含时间内容的普通元组\n",
    "\n",
    "        索引      内容    属性            值\n",
    "\n",
    "        0       年       tm_year     2015\n",
    "        1       月       tm_mon      1～12\n",
    "        2       日       tm_mday     1～31\n",
    "        3       时       tm_hour     0～23\n",
    "        4       分       tm_min      0～59\n",
    "        5       秒       tm_sec      0～61  60表示闰秒  61保留值\n",
    "        6       周几     tm_wday     0～6\n",
    "        7       第几天    tm_yday     1～366\n",
    "        8       夏令时    tm_isdst    0，1，-1（表示夏令时）"
   ]
  },
  {
   "cell_type": "code",
   "execution_count": 34,
   "metadata": {},
   "outputs": [],
   "source": [
    "# 需要单独导入time模块\n",
    "import time"
   ]
  },
  {
   "cell_type": "code",
   "execution_count": 36,
   "metadata": {},
   "outputs": [
    {
     "name": "stdout",
     "output_type": "stream",
     "text": [
      "18000\n",
      "14400\n",
      "1\n"
     ]
    }
   ],
   "source": [
    "# 时间模块的属性\n",
    "# timezone：获取当前时区和UTC时间相差的秒数，在没有夏令时的情况。东八区是-28800\n",
    "# altzone：获取当前时区于UTC时间相差的秒数，在有夏令时的情况\n",
    "# daylight：判断当前是否有夏令时时间状态，0 表示是\n",
    "print(time.timezone)\n",
    "print(time.altzone)\n",
    "print(time.daylight)"
   ]
  },
  {
   "cell_type": "code",
   "execution_count": 37,
   "metadata": {},
   "outputs": [
    {
     "data": {
      "text/plain": [
       "1558229539.0072353"
      ]
     },
     "execution_count": 37,
     "metadata": {},
     "output_type": "execute_result"
    }
   ],
   "source": [
    "# 得到时间戳\n",
    "time.time()"
   ]
  },
  {
   "cell_type": "code",
   "execution_count": 39,
   "metadata": {},
   "outputs": [
    {
     "name": "stdout",
     "output_type": "stream",
     "text": [
      "time.struct_time(tm_year=2019, tm_mon=5, tm_mday=18, tm_hour=21, tm_min=34, tm_sec=56, tm_wday=5, tm_yday=138, tm_isdst=1)\n",
      "21\n"
     ]
    }
   ],
   "source": [
    "# localtime, 得到当前时间的时间结构\n",
    "# 可以通过点号操作符得到相应的属性元素的内容\n",
    "t = time.localtime()\n",
    "print(t)\n",
    "print(t.tm_hour)"
   ]
  },
  {
   "cell_type": "code",
   "execution_count": 40,
   "metadata": {},
   "outputs": [
    {
     "name": "stdout",
     "output_type": "stream",
     "text": [
      "Sat May 18 21:36:58 2019\n"
     ]
    }
   ],
   "source": [
    "# asctime 返回元组的正常字符串化之后的时间格式\n",
    "# time.asctime(时间元组)\n",
    "t = time.localtime()\n",
    "tt = time.asctime(t)\n",
    "print(tt)"
   ]
  },
  {
   "cell_type": "code",
   "execution_count": 42,
   "metadata": {},
   "outputs": [
    {
     "name": "stdout",
     "output_type": "stream",
     "text": [
      "1558229818.0\n"
     ]
    }
   ],
   "source": [
    "# mktime 使用时间元组获取对应的时间戳\n",
    "# time.mktime(时间元组)\n",
    "ts = time.mktime(t)\n",
    "print(ts)"
   ]
  },
  {
   "cell_type": "code",
   "execution_count": 43,
   "metadata": {},
   "outputs": [
    {
     "name": "stdout",
     "output_type": "stream",
     "text": [
      "15.7\n"
     ]
    }
   ],
   "source": [
    "# clock 获取cpu时间\n",
    "print(time.clock())"
   ]
  },
  {
   "cell_type": "code",
   "execution_count": 44,
   "metadata": {},
   "outputs": [
    {
     "name": "stdout",
     "output_type": "stream",
     "text": [
      "0\n",
      "1\n",
      "2\n",
      "3\n",
      "4\n",
      "5\n",
      "6\n",
      "7\n",
      "8\n",
      "9\n"
     ]
    }
   ],
   "source": [
    "# sleep 是程序进入睡眠，n秒后继续\n",
    "for i in range(10):\n",
    "    print(i)\n",
    "    time.sleep(1)"
   ]
  },
  {
   "cell_type": "code",
   "execution_count": 45,
   "metadata": {},
   "outputs": [
    {
     "name": "stdout",
     "output_type": "stream",
     "text": [
      "0.009999999999999787\n"
     ]
    }
   ],
   "source": [
    "t0 = time.clock()\n",
    "time.sleep(3)\n",
    "t1 = time.clock()\n",
    "\n",
    "print(t1 - t0)"
   ]
  },
  {
   "cell_type": "markdown",
   "metadata": {},
   "source": [
    "- strftime:将时间元组转化为自定义的字符串格式\n",
    "\n",
    "        格式  含义  备注\n",
    "        %a  本地（locale）简化星期名称    \n",
    "        %A  本地完整星期名称    \n",
    "        %b  本地简化月份名称    \n",
    "        %B  本地完整月份名称    \n",
    "        %c  本地相应的日期和时间表示    \n",
    "        %d  一个月中的第几天（01 - 31）   \n",
    "        %H  一天中的第几个小时（24 小时制，00 - 23）   \n",
    "        %I  一天中的第几个小时（12 小时制，01 - 12）   \n",
    "        %j  一年中的第几天（001 - 366）  \n",
    "        %m  月份（01 - 12） \n",
    "        %M  分钟数（00 - 59）    \n",
    "        %p  本地 am 或者 pm 的相应符    注1\n",
    "        %S  秒（01 - 61）  注2\n",
    "        %U  一年中的星期数（00 - 53 星期天是一个星期的开始）第一个星期天之前的所有天数都放在第 0 周   注3\n",
    "        %w  一个星期中的第几天（0 - 6，0 是星期天） 注3\n",
    "        %W  和 %U 基本相同，不同的是 %W 以星期一为一个星期的开始  \n",
    "        %x  本地相应日期  \n",
    "        %X  本地相应时间  \n",
    "        %y  去掉世纪的年份（00 - 99）    \n",
    "        %Y  完整的年份   \n",
    "        %z  用 +HHMM 或 -HHMM 表示距离格林威治的时区偏移（H 代表十进制的小时数，M 代表十进制的分钟数）      \n",
    "        %%  %号本身"
   ]
  },
  {
   "cell_type": "code",
   "execution_count": 56,
   "metadata": {},
   "outputs": [
    {
     "data": {
      "text/plain": [
       "'2019年05月18日 21:05'"
      ]
     },
     "execution_count": 56,
     "metadata": {},
     "output_type": "execute_result"
    }
   ],
   "source": [
    "# 把时间表示成， 2018年3月26日 21:05\n",
    "# print(t)\n",
    "# help(time.strftime)\n",
    "time.strftime('%Y年%m月%d日 %H:%m', t)"
   ]
  },
  {
   "cell_type": "markdown",
   "metadata": {},
   "source": [
    "# datetime\n",
    "- datetime提供日期和时间的运算和表示"
   ]
  },
  {
   "cell_type": "code",
   "execution_count": 57,
   "metadata": {},
   "outputs": [],
   "source": [
    "# 导入datetime\n",
    "import datetime"
   ]
  },
  {
   "cell_type": "code",
   "execution_count": 64,
   "metadata": {},
   "outputs": [
    {
     "name": "stdout",
     "output_type": "stream",
     "text": [
      "2018-03-04 2018 3 4\n",
      "2019-05-18 21:51:13.318394\n"
     ]
    }
   ],
   "source": [
    "# datetime常见模块\n",
    "# datetime.date(year, month, day)\n",
    "dt = datetime.date(2018, 3, 4)\n",
    "print(dt, dt.year, dt.month, dt.day)"
   ]
  },
  {
   "cell_type": "code",
   "execution_count": 70,
   "metadata": {},
   "outputs": [
    {
     "name": "stdout",
     "output_type": "stream",
     "text": [
      "12:01:02\n",
      "None\n",
      "Help on class time in module datetime:\n",
      "\n",
      "class time(builtins.object)\n",
      " |  time([hour[, minute[, second[, microsecond[, tzinfo]]]]]) --> a time object\n",
      " |  \n",
      " |  All arguments are optional. tzinfo may be None, or an instance of\n",
      " |  a tzinfo subclass. The remaining arguments may be ints.\n",
      " |  \n",
      " |  Methods defined here:\n",
      " |  \n",
      " |  __eq__(self, value, /)\n",
      " |      Return self==value.\n",
      " |  \n",
      " |  __format__(...)\n",
      " |      Formats self with strftime.\n",
      " |  \n",
      " |  __ge__(self, value, /)\n",
      " |      Return self>=value.\n",
      " |  \n",
      " |  __getattribute__(self, name, /)\n",
      " |      Return getattr(self, name).\n",
      " |  \n",
      " |  __gt__(self, value, /)\n",
      " |      Return self>value.\n",
      " |  \n",
      " |  __hash__(self, /)\n",
      " |      Return hash(self).\n",
      " |  \n",
      " |  __le__(self, value, /)\n",
      " |      Return self<=value.\n",
      " |  \n",
      " |  __lt__(self, value, /)\n",
      " |      Return self<value.\n",
      " |  \n",
      " |  __ne__(self, value, /)\n",
      " |      Return self!=value.\n",
      " |  \n",
      " |  __new__(*args, **kwargs) from builtins.type\n",
      " |      Create and return a new object.  See help(type) for accurate signature.\n",
      " |  \n",
      " |  __reduce__(...)\n",
      " |      __reduce__() -> (cls, state)\n",
      " |  \n",
      " |  __reduce_ex__(...)\n",
      " |      __reduce_ex__(proto) -> (cls, state)\n",
      " |  \n",
      " |  __repr__(self, /)\n",
      " |      Return repr(self).\n",
      " |  \n",
      " |  __str__(self, /)\n",
      " |      Return str(self).\n",
      " |  \n",
      " |  dst(...)\n",
      " |      Return self.tzinfo.dst(self).\n",
      " |  \n",
      " |  isoformat(...)\n",
      " |      Return string in ISO 8601 format, [HH[:MM[:SS[.mmm[uuu]]]]][+HH:MM].\n",
      " |      \n",
      " |      timespec specifies what components of the time to include.\n",
      " |  \n",
      " |  replace(...)\n",
      " |      Return time with new specified fields.\n",
      " |  \n",
      " |  strftime(...)\n",
      " |      format -> strftime() style string.\n",
      " |  \n",
      " |  tzname(...)\n",
      " |      Return self.tzinfo.tzname(self).\n",
      " |  \n",
      " |  utcoffset(...)\n",
      " |      Return self.tzinfo.utcoffset(self).\n",
      " |  \n",
      " |  ----------------------------------------------------------------------\n",
      " |  Data descriptors defined here:\n",
      " |  \n",
      " |  fold\n",
      " |  \n",
      " |  hour\n",
      " |  \n",
      " |  microsecond\n",
      " |  \n",
      " |  minute\n",
      " |  \n",
      " |  second\n",
      " |  \n",
      " |  tzinfo\n",
      " |  \n",
      " |  ----------------------------------------------------------------------\n",
      " |  Data and other attributes defined here:\n",
      " |  \n",
      " |  max = datetime.time(23, 59, 59, 999999)\n",
      " |  \n",
      " |  min = datetime.time(0, 0)\n",
      " |  \n",
      " |  resolution = datetime.timedelta(0, 0, 1)\n",
      "\n"
     ]
    }
   ],
   "source": [
    "# datetime.time：提供时间\n",
    "from datetime import time\n",
    "t = time(12, 1, 2)\n",
    "print(t)\n",
    "help(datetime.time)"
   ]
  },
  {
   "cell_type": "code",
   "execution_count": 76,
   "metadata": {},
   "outputs": [
    {
     "name": "stdout",
     "output_type": "stream",
     "text": [
      "2018-02-21 00:00:00\n",
      "2019-05-19 18:33:00.823825\n",
      "2019-05-19 18:33:00.823903\n",
      "2019-05-19 18:33:00.823974\n",
      "2019-05-19 18:33:00.824036\n",
      "2019-05-19 18:33:00.824103\n"
     ]
    }
   ],
   "source": [
    "# datetime.datetime\n",
    "from datetime import datetime \n",
    "import time\n",
    "# 常用的方法：\n",
    "# today\n",
    "# now\n",
    "# utcnow\n",
    "# fromtimestamp：从时间戳中返回本地时间\n",
    "dt = datetime(2018, 2, 21)\n",
    "print(dt)\n",
    "print(dt.now())\n",
    "print(dt.today())\n",
    "print(dt.fromtimestamp(time.time()))\n",
    "\n",
    "# 直接用类来调用now、today\n",
    "print(datetime.now())\n",
    "print(datetime.today())"
   ]
  },
  {
   "cell_type": "code",
   "execution_count": 83,
   "metadata": {},
   "outputs": [
    {
     "name": "stdout",
     "output_type": "stream",
     "text": [
      "2019-05-19 19:05:46\n",
      "Help on class timedelta in module datetime:\n",
      "\n",
      "class timedelta(builtins.object)\n",
      " |  Difference between two datetime values.\n",
      " |  \n",
      " |  Methods defined here:\n",
      " |  \n",
      " |  __abs__(self, /)\n",
      " |      abs(self)\n",
      " |  \n",
      " |  __add__(self, value, /)\n",
      " |      Return self+value.\n",
      " |  \n",
      " |  __bool__(self, /)\n",
      " |      self != 0\n",
      " |  \n",
      " |  __divmod__(self, value, /)\n",
      " |      Return divmod(self, value).\n",
      " |  \n",
      " |  __eq__(self, value, /)\n",
      " |      Return self==value.\n",
      " |  \n",
      " |  __floordiv__(self, value, /)\n",
      " |      Return self//value.\n",
      " |  \n",
      " |  __ge__(self, value, /)\n",
      " |      Return self>=value.\n",
      " |  \n",
      " |  __getattribute__(self, name, /)\n",
      " |      Return getattr(self, name).\n",
      " |  \n",
      " |  __gt__(self, value, /)\n",
      " |      Return self>value.\n",
      " |  \n",
      " |  __hash__(self, /)\n",
      " |      Return hash(self).\n",
      " |  \n",
      " |  __le__(self, value, /)\n",
      " |      Return self<=value.\n",
      " |  \n",
      " |  __lt__(self, value, /)\n",
      " |      Return self<value.\n",
      " |  \n",
      " |  __mod__(self, value, /)\n",
      " |      Return self%value.\n",
      " |  \n",
      " |  __mul__(self, value, /)\n",
      " |      Return self*value.\n",
      " |  \n",
      " |  __ne__(self, value, /)\n",
      " |      Return self!=value.\n",
      " |  \n",
      " |  __neg__(self, /)\n",
      " |      -self\n",
      " |  \n",
      " |  __new__(*args, **kwargs) from builtins.type\n",
      " |      Create and return a new object.  See help(type) for accurate signature.\n",
      " |  \n",
      " |  __pos__(self, /)\n",
      " |      +self\n",
      " |  \n",
      " |  __radd__(self, value, /)\n",
      " |      Return value+self.\n",
      " |  \n",
      " |  __rdivmod__(self, value, /)\n",
      " |      Return divmod(value, self).\n",
      " |  \n",
      " |  __reduce__(...)\n",
      " |      __reduce__() -> (cls, state)\n",
      " |  \n",
      " |  __repr__(self, /)\n",
      " |      Return repr(self).\n",
      " |  \n",
      " |  __rfloordiv__(self, value, /)\n",
      " |      Return value//self.\n",
      " |  \n",
      " |  __rmod__(self, value, /)\n",
      " |      Return value%self.\n",
      " |  \n",
      " |  __rmul__(self, value, /)\n",
      " |      Return value*self.\n",
      " |  \n",
      " |  __rsub__(self, value, /)\n",
      " |      Return value-self.\n",
      " |  \n",
      " |  __rtruediv__(self, value, /)\n",
      " |      Return value/self.\n",
      " |  \n",
      " |  __str__(self, /)\n",
      " |      Return str(self).\n",
      " |  \n",
      " |  __sub__(self, value, /)\n",
      " |      Return self-value.\n",
      " |  \n",
      " |  __truediv__(self, value, /)\n",
      " |      Return self/value.\n",
      " |  \n",
      " |  total_seconds(...)\n",
      " |      Total seconds in the duration.\n",
      " |  \n",
      " |  ----------------------------------------------------------------------\n",
      " |  Data descriptors defined here:\n",
      " |  \n",
      " |  days\n",
      " |      Number of days.\n",
      " |  \n",
      " |  microseconds\n",
      " |      Number of microseconds (>= 0 and less than 1 second).\n",
      " |  \n",
      " |  seconds\n",
      " |      Number of seconds (>= 0 and less than 1 day).\n",
      " |  \n",
      " |  ----------------------------------------------------------------------\n",
      " |  Data and other attributes defined here:\n",
      " |  \n",
      " |  max = datetime.timedelta(999999999, 86399, 999999)\n",
      " |  \n",
      " |  min = datetime.timedelta(-999999999)\n",
      " |  \n",
      " |  resolution = datetime.timedelta(0, 0, 1)\n",
      "\n"
     ]
    }
   ],
   "source": [
    "# datetime.timedelta：表示一个时间间隔\n",
    "from datetime import timedelta\n",
    "t1 = datetime.now()\n",
    "td = timedelta(hours=1)\n",
    "print((t1 + td).strftime('%Y-%m-%d %H:%m:%S'))\n",
    "\n",
    "help(timedelta)"
   ]
  },
  {
   "cell_type": "code",
   "execution_count": 85,
   "metadata": {},
   "outputs": [
    {
     "name": "stdout",
     "output_type": "stream",
     "text": [
      "3.6039109230041504\n"
     ]
    }
   ],
   "source": [
    "# 测量时间间隔\n",
    "t1 = time.time()\n",
    "time.sleep(3.6)\n",
    "t2 = time.time()\n",
    "\n",
    "print(t2 - t1)"
   ]
  },
  {
   "cell_type": "code",
   "execution_count": 87,
   "metadata": {},
   "outputs": [
    {
     "name": "stdout",
     "output_type": "stream",
     "text": [
      "4.5742108235135674\n",
      "12.258691351860762\n"
     ]
    }
   ],
   "source": [
    "import timeit\n",
    "# 比较生成列表的两种方式的用时\n",
    "\n",
    "c = '''\n",
    "sum = []\n",
    "for i in range(1000):\n",
    "    sum.append(i)\n",
    "'''\n",
    "t1 = timeit.timeit(stmt='[i for i in range(1000)]', number=100000)\n",
    "\n",
    "t2 = timeit.timeit(stmt=c, number=100000)\n",
    "print(t1)\n",
    "print(t2)"
   ]
  },
  {
   "cell_type": "code",
   "execution_count": 88,
   "metadata": {},
   "outputs": [
    {
     "name": "stdout",
     "output_type": "stream",
     "text": [
      "0\n",
      "1\n",
      "0\n",
      "1\n",
      "0\n",
      "1\n",
      "0\n",
      "1\n",
      "0\n",
      "1\n",
      "0\n",
      "1\n",
      "0\n",
      "1\n",
      "0\n",
      "1\n",
      "0\n",
      "1\n",
      "0\n",
      "1\n",
      "0.000312192365527153\n"
     ]
    }
   ],
   "source": [
    "# timeit 可以执行一个函数，来测量一个函数的执行时间\n",
    "def doit():\n",
    "    num = 2\n",
    "    for i in range(num):\n",
    "        print(i)\n",
    "t = timeit.timeit(stmt=doit, number=10)\n",
    "print(t)"
   ]
  },
  {
   "cell_type": "code",
   "execution_count": 93,
   "metadata": {},
   "outputs": [
    {
     "name": "stdout",
     "output_type": "stream",
     "text": [
      "Repeat for 0\n",
      "Repeat for 1\n",
      "Repeat for 2\n",
      "Repeat for 0\n",
      "Repeat for 1\n",
      "Repeat for 2\n",
      "Repeat for 0\n",
      "Repeat for 1\n",
      "Repeat for 2\n",
      "Repeat for 0\n",
      "Repeat for 1\n",
      "Repeat for 2\n",
      "Repeat for 0\n",
      "Repeat for 1\n",
      "Repeat for 2\n",
      "0.0002619214355945587\n"
     ]
    }
   ],
   "source": [
    "s = '''\n",
    "def doIt(num):\n",
    "    for i in range(num):\n",
    "        print(\"Repeat for {0}\".format(i))\n",
    "\n",
    "'''\n",
    "# 执行doIt(num)\n",
    "# setup负责把环境变量准备好\n",
    "# 实际相当于给timeit创造了一个小环境\n",
    "# 在创作的小环境中， 代码执行的顺序大致是\n",
    "# \n",
    "'''\n",
    "def doIt(num):\n",
    "    .....\n",
    "    \n",
    "num = 2\n",
    "\n",
    "doIt(num)\n",
    "'''\n",
    "t = timeit.timeit(\"doIt(num)\", setup=s+\"num=3\", number=5)\n",
    "print(t)"
   ]
  },
  {
   "cell_type": "markdown",
   "metadata": {},
   "source": [
    "# os\n",
    "- 跟操作系统相关，主要时文件操作\n",
    "- 与系统相关的操作，主要包含在三个模块中\n",
    "    - os，操作系统目录\n",
    "    - os.path，系统路径\n",
    "    - shutil，高级文件操作，目录树的操作，文件赋值、删除、移动\n",
    "- 路径\n",
    "    - 绝对路径：总是从根目录开始\n",
    "    - 相对路径：以当前位置为开始"
   ]
  },
  {
   "cell_type": "code",
   "execution_count": 6,
   "metadata": {},
   "outputs": [],
   "source": [
    "import os "
   ]
  },
  {
   "cell_type": "code",
   "execution_count": 96,
   "metadata": {},
   "outputs": [
    {
     "name": "stdout",
     "output_type": "stream",
     "text": [
      "/home/caiwenming/.jupyter/myNotebook/刘大拿的Python/3-python高级语法\n"
     ]
    }
   ],
   "source": [
    "# getcwd 获取当前工作目录\n",
    "# 返回值：当前目录的字符串\n",
    "mydir = os.getcwd()\n",
    "print(mydir)"
   ]
  },
  {
   "cell_type": "code",
   "execution_count": 97,
   "metadata": {},
   "outputs": [
    {
     "name": "stdout",
     "output_type": "stream",
     "text": [
      "/home/caiwenming/.jupyter/myNotebook\n"
     ]
    }
   ],
   "source": [
    "# chdir 改变当前的工作目录\n",
    "# 返回值：无\n",
    "os.chdir('/home/caiwenming/.jupyter/myNotebook/')\n",
    "mydir = os.getcwd()\n",
    "print(mydir)"
   ]
  },
  {
   "cell_type": "code",
   "execution_count": 102,
   "metadata": {},
   "outputs": [
    {
     "name": "stdout",
     "output_type": "stream",
     "text": [
      "['dana.haha', '刘大拿的Python', 'cwm', '.ipynb_checkpoints']\n"
     ]
    }
   ],
   "source": [
    "# listdir 获取一个目录中所有子目录和文件的名称列表\n",
    "# 返回值：所有子目录和文件名称的列表\n",
    "ld = os.listdir()\n",
    "print(ld)"
   ]
  },
  {
   "cell_type": "code",
   "execution_count": 99,
   "metadata": {},
   "outputs": [
    {
     "name": "stdout",
     "output_type": "stream",
     "text": [
      "None\n"
     ]
    }
   ],
   "source": [
    "# makedirs 递归创建文件夹\n",
    "# 返回值：无\n",
    "rst = os.makedirs('cwm')\n",
    "print(rst)"
   ]
  },
  {
   "cell_type": "code",
   "execution_count": 101,
   "metadata": {},
   "outputs": [
    {
     "name": "stdout",
     "output_type": "stream",
     "text": [
      "0\n",
      "0\n",
      "0\n"
     ]
    }
   ],
   "source": [
    "# system 运行shell命令\n",
    "# 返回值：打开一个shell或者终端界面\n",
    "# 一般推荐使用subprocess代替\n",
    "rst = os.system('ls')\n",
    "print(rst)\n",
    "\n",
    "rst = os.system('touch dana.haha')\n",
    "print(rst)\n",
    "\n",
    "rst = os.system('ls')\n",
    "print(rst)"
   ]
  },
  {
   "cell_type": "code",
   "execution_count": 103,
   "metadata": {},
   "outputs": [
    {
     "name": "stdout",
     "output_type": "stream",
     "text": [
      "/usr/bin:/usr/local/sbin:/usr/local/bin:/usr/sbin:/usr/bin:/root/bin\n"
     ]
    }
   ],
   "source": [
    "# getenv() 获取指定的系统环境变量值\n",
    "# 相应的还有putenv\n",
    "#  格式：os.getenv('环境变量名')\n",
    "#  返回值：指定环境变量名对应的值\n",
    "rst = os.getenv(\"PATH\")\n",
    "print(rst)"
   ]
  },
  {
   "cell_type": "code",
   "execution_count": 104,
   "metadata": {},
   "outputs": [],
   "source": [
    "# exit() 退出当前程序\n",
    "#  格式：exit()\n",
    "#  返回值:无"
   ]
  },
  {
   "cell_type": "markdown",
   "metadata": {},
   "source": [
    "## os值部分\n",
    "- os.curdir: curretn dir,当前目录\n",
    "- os.pardir: parent dir， 父亲目录\n",
    "- os.sep: 当前系统的路径分隔符\n",
    "    - windows: \"\\\"\n",
    "    - linux: \"/\"\n",
    "- os.linesep: 当前系统的换行符号\n",
    "    - windows: \"\\r\\n\"\n",
    "    - unix,linux,macos: \"\\n\"\n",
    "- os.name： 当前系统名称\n",
    "    - windows： nt\n",
    "    - mac，unix，linux： posix"
   ]
  },
  {
   "cell_type": "code",
   "execution_count": 105,
   "metadata": {},
   "outputs": [
    {
     "name": "stdout",
     "output_type": "stream",
     "text": [
      "posix\n"
     ]
    }
   ],
   "source": [
    "print(os.name)"
   ]
  },
  {
   "cell_type": "markdown",
   "metadata": {},
   "source": [
    "# os.path, 与路径相关"
   ]
  },
  {
   "cell_type": "code",
   "execution_count": 106,
   "metadata": {},
   "outputs": [],
   "source": [
    "import os.path as op"
   ]
  },
  {
   "cell_type": "code",
   "execution_count": 107,
   "metadata": {},
   "outputs": [
    {
     "name": "stdout",
     "output_type": "stream",
     "text": [
      "/home/caiwenming/.jupyter/myNotebook\n"
     ]
    }
   ],
   "source": [
    "# abspath 将路径转化成相对路径\n",
    "# 返回值：路径的绝对路径\n",
    "\n",
    "# linux中\n",
    "# . 点号，代表当前目录\n",
    "# .. 双点，代表父目录\n",
    "p = op.abspath('.')\n",
    "print(p)"
   ]
  },
  {
   "cell_type": "code",
   "execution_count": 117,
   "metadata": {},
   "outputs": [
    {
     "name": "stdout",
     "output_type": "stream",
     "text": [
      "dana.haha\n",
      "\n",
      "dana\n"
     ]
    }
   ],
   "source": [
    "# basename 获取路径中的文件名部分\n",
    "# 返回值：文件名字符串\n",
    "# 实际上就是截取最后一个路径分隔符后面的字符串\n",
    "bn = op.basename('/home/caiwenming/myNotebook/dana.haha')\n",
    "print(bn)\n",
    "\n",
    "bn = op.basename('/home/caiwenming/myNotebook/')\n",
    "print(bn)\n",
    "\n",
    "bn = op.basename('/home/caiwenming/myNotebook/dana')\n",
    "print(bn)"
   ]
  },
  {
   "cell_type": "code",
   "execution_count": 124,
   "metadata": {},
   "outputs": [
    {
     "name": "stdout",
     "output_type": "stream",
     "text": [
      "/home/tlxy/dana.haha\n"
     ]
    }
   ],
   "source": [
    "# join() 将多个路径拼合成一个路径\n",
    "#  格式：os.path.join(路径1，路径2....)\n",
    "#  返回值：组合之后的新路径字符串\n",
    "# 会自动添加路径分隔符\n",
    "\n",
    "bd = \"/home/tlxy\"\n",
    "fn = \"dana.haha\"\n",
    "\n",
    "p = op.join(bd, fn)\n",
    "print(p)"
   ]
  },
  {
   "cell_type": "code",
   "execution_count": 125,
   "metadata": {},
   "outputs": [
    {
     "name": "stdout",
     "output_type": "stream",
     "text": [
      "('/home/tlxy', 'dana.haha')\n",
      "/home/tlxy dana.haha\n"
     ]
    }
   ],
   "source": [
    "# split() 将路径切割为文件夹部分和当前文件部分\n",
    "#  格式:os.path.split（路径）\n",
    "#  返回值：路径和文件名组成的元组\n",
    "\n",
    "t = op.split(\"/home/tlxy/dana.haha\")\n",
    "print(t)\n",
    "\n",
    "d,p = op.split(\"/home/tlxy/dana.haha\")\n",
    "print(d, p)"
   ]
  },
  {
   "cell_type": "code",
   "execution_count": 126,
   "metadata": {},
   "outputs": [
    {
     "data": {
      "text/plain": [
       "False"
      ]
     },
     "execution_count": 126,
     "metadata": {},
     "output_type": "execute_result"
    }
   ],
   "source": [
    "# isdir（） 检测是否是目录\n",
    "#  格式：os.path.isdir(路径)\n",
    "#  返回值：布尔值\n",
    "\n",
    "rst = op.isdir(\"/home/tlxy/dana.haha\")\n",
    "rst"
   ]
  },
  {
   "cell_type": "code",
   "execution_count": 127,
   "metadata": {},
   "outputs": [
    {
     "data": {
      "text/plain": [
       "False"
      ]
     },
     "execution_count": 127,
     "metadata": {},
     "output_type": "execute_result"
    }
   ],
   "source": [
    "\n",
    "# exists() 检测文件或者目录是否存在\n",
    "#  格式：os.path.exists(路径)\n",
    "#  返回值:布尔值\n",
    "\n",
    "e = op.exists(\"/home/tlxy/haha\")\n",
    "e"
   ]
  },
  {
   "cell_type": "markdown",
   "metadata": {},
   "source": [
    "# shutil"
   ]
  },
  {
   "cell_type": "code",
   "execution_count": 12,
   "metadata": {},
   "outputs": [],
   "source": [
    "import shutil"
   ]
  },
  {
   "cell_type": "code",
   "execution_count": 161,
   "metadata": {},
   "outputs": [
    {
     "name": "stdout",
     "output_type": "stream",
     "text": [
      "/home/caiwenming/.jupyter/myNotebook/cwm/cwm.haha\n"
     ]
    }
   ],
   "source": [
    "# copy 复制文件\n",
    "# shutil.copy(来源路径，目标路径)\n",
    "# 拷贝的同时，给文件重命名\n",
    "# 返回值：目标路径\n",
    "\n",
    "rst = shutil.copy('/home/caiwenming/.jupyter/myNotebook/dana.haha', '/home/caiwenming/.jupyter/myNotebook/cwm/cwm.haha')\n",
    "print(rst)"
   ]
  },
  {
   "cell_type": "code",
   "execution_count": 133,
   "metadata": {},
   "outputs": [],
   "source": [
    "# copy2 复制文件，保留元数据（文件信息）\n",
    "# shutil.copy2(来源路径， 目标路径)\n",
    "# 返回值：目标路径\n",
    "# 注意：copy和copy2的唯一区别在于copy2复制文件时尽量保留元数据"
   ]
  },
  {
   "cell_type": "code",
   "execution_count": 134,
   "metadata": {},
   "outputs": [],
   "source": [
    "# copyfile 将一个文件中的内容复制到另外一个文件中\n",
    "# shutil.copyfile(来源路径， 目标路径)\n",
    "# 返回值：无\n",
    "rst = shutil.copyfile('dana.haha', 'cwm.haha')"
   ]
  },
  {
   "cell_type": "code",
   "execution_count": 135,
   "metadata": {},
   "outputs": [
    {
     "name": "stdout",
     "output_type": "stream",
     "text": [
      "/home/caiwenming/.jupyter/dana.haha\n"
     ]
    }
   ],
   "source": [
    "# move 移动文件/文件夹\n",
    "# shutil.move(来源路径，目标路径)\n",
    "rst = shutil.move('/home/caiwenming/.jupyter/myNotebook/dana.haha', '/home/caiwenming/.jupyter/')\n",
    "print(rst)"
   ]
  },
  {
   "cell_type": "markdown",
   "metadata": {},
   "source": [
    "## shutil归档和压缩\n",
    "- 归档：把多个文件或者文件夹合并到一个文件中\n",
    "- 压缩：用算法把多个文件或者文件夹无损或者有损合并到一个文件中"
   ]
  },
  {
   "cell_type": "code",
   "execution_count": 20,
   "metadata": {},
   "outputs": [
    {
     "name": "stdout",
     "output_type": "stream",
     "text": [
      "/home/caiwenming/.jupyter/myNotebook/cwm.zip\n"
     ]
    }
   ],
   "source": [
    "# make_archive 归档\n",
    "# shutil.make_archive(归档之后的目录和文件名，文件扩展名， 需要归档的文件夹)\n",
    "# 返回值：归档之后的路径\n",
    "rst = shutil.make_archive('/home/caiwenming/.jupyter/myNotebook/cwm', 'zip', '/home/caiwenming/.jupyter/myNotebook/cwm')\n",
    "print(rst)"
   ]
  },
  {
   "cell_type": "code",
   "execution_count": 137,
   "metadata": {},
   "outputs": [],
   "source": [
    "# unpack_archive 解包操作\n",
    "# shutil.unpack_archive(归档文件地址， 解包之后地址)\n",
    "# 返回值：解包之后地址"
   ]
  },
  {
   "cell_type": "markdown",
   "metadata": {},
   "source": [
    "# zip\n",
    "- 模块名称为zipfile\n",
    "- 常用的方法\n",
    "    - `zipfile.ZipFile(file[, mode[, compression[, allowZip64]]])`\n",
    "        - 创建一个ZipFile对象，表示一个zip文件。\n",
    "        - file：表示文件路径或类文件对象（file-like obejct)\n",
    "        - mode：打开zip文件的模式\n",
    "            - r：表示读取zip文件中的内容\n",
    "            - w：表示新建一个zip文件或覆盖一个现存的zip文件\n",
    "            - a：表示将数据追加到一个现存的zip文件中\n",
    "        - compression：压缩方式\n",
    "            - zipfile.ZIP_STORED\n",
    "            - zipfile.ZIP_DEFLATED\n",
    "        - allowZip64：zip文件超过2G，应设置为ture\n",
    "    - `zipfile.ZipFile.getinfo(name)`\n",
    "        - 获取zip文件中指定文件的信息，返回一个zipfile.ZipInfo对象，其包含文件的详细信息\n",
    "    - `zipfile.ZipFile.namelist()`\n",
    "        - 获取zip文件中所有的文件名称列表\n",
    "    - `zipfile.ZipFile.extractall([path[, members[, pwd]]])`\n",
    "        - 解压zip文件中所有文件到当前目录。\n",
    "        - member：默认值为zip文件中的所有文件名称列表，也可以自定义要解压的文件"
   ]
  },
  {
   "cell_type": "code",
   "execution_count": 10,
   "metadata": {},
   "outputs": [],
   "source": [
    "import zipfile"
   ]
  },
  {
   "cell_type": "code",
   "execution_count": 24,
   "metadata": {},
   "outputs": [
    {
     "name": "stdout",
     "output_type": "stream",
     "text": [
      "['dana.haha', '刘大拿的Python', 'cwm.haha', 'dana.zip', 'cwm.zip', 'cwm', '.ipynb_checkpoints']\n",
      "<zipfile.ZipFile filename='/home/caiwenming/.jupyter/myNotebook/cwm.zip' mode='r'>\n"
     ]
    }
   ],
   "source": [
    "# zipfile.ZipFile 案例\n",
    "\n",
    "print(os.listdir('/home/caiwenming/.jupyter/myNotebook'))\n",
    "# zf.write('dana.haha')\n",
    "\n",
    "zf = zipfile.ZipFile('/home/caiwenming/.jupyter/myNotebook/cwm.zip', 'r')\n",
    "print(zf)\n",
    "# 往zip文件中添加一个文件"
   ]
  },
  {
   "cell_type": "code",
   "execution_count": 25,
   "metadata": {},
   "outputs": [
    {
     "name": "stdout",
     "output_type": "stream",
     "text": [
      "<ZipInfo filename='cwm.haha' compress_type=deflate filemode='-rw-r--r--' file_size=22 compress_size=8>\n"
     ]
    }
   ],
   "source": [
    "# ZipFile.getinfo(name)\n",
    "rst = zf.getinfo('cwm.haha')\n",
    "print(rst)"
   ]
  },
  {
   "cell_type": "code",
   "execution_count": 26,
   "metadata": {},
   "outputs": [
    {
     "data": {
      "text/plain": [
       "['cwm.haha', 'home/caiwenming/.jupyter/myNotebook/dana.haha']"
      ]
     },
     "execution_count": 26,
     "metadata": {},
     "output_type": "execute_result"
    }
   ],
   "source": [
    "# ZipFile.namelist()\n",
    "zf.namelist()"
   ]
  },
  {
   "cell_type": "code",
   "execution_count": null,
   "metadata": {},
   "outputs": [],
   "source": []
  }
 ],
 "metadata": {
  "kernelspec": {
   "display_name": "Python 3",
   "language": "python",
   "name": "python3"
  },
  "language_info": {
   "codemirror_mode": {
    "name": "ipython",
    "version": 3
   },
   "file_extension": ".py",
   "mimetype": "text/x-python",
   "name": "python",
   "nbconvert_exporter": "python",
   "pygments_lexer": "ipython3",
   "version": "3.6.7"
  }
 },
 "nbformat": 4,
 "nbformat_minor": 2
}
