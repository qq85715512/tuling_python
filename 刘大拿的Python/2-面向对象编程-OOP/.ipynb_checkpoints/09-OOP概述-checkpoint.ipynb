{
 "cells": [
  {
   "cell_type": "markdown",
   "metadata": {},
   "source": [
    "# 0. OOP概要\n",
    "- python的面向对象\n",
    "- 面向对象编程\n",
    "    - 基础\n",
    "    - 公有私有\n",
    "    - 继承\n",
    "    - 组合、Minxi\n",
    "- 魔法函数\n",
    "    - 魔法函数概述\n",
    "    - 构造类魔法函数\n",
    "    - 运算类魔法函数"
   ]
  },
  {
   "cell_type": "markdown",
   "metadata": {},
   "source": [
    "# 1. 面向对象概述\n",
    "- OOP思想\n",
    "    - 接触到任意一个任务，首先想到的是这个任务在这个世界的构成，是由模型构成的\n",
    "- 几个名词\n",
    "    - OO：面向对象\n",
    "    - OOA：面向对象分析\n",
    "    - OOD：面向对象设计\n",
    "    - OOI：面向对象实现\n",
    "    - OOP：面向对象编程\n",
    "    - OOA -> OOD -> OOI：面向对象的实现过程\n",
    "- 类和对象的概念\n",
    "    - 类：抽象名词，代表一个具有共性的多个事物的集合\n",
    "    - 对象：具象事物，单个个体\n",
    "    - 类和对象的关系\n",
    "        - 对象是类的一个实例\n",
    "        - 类是对对象的抽象，代表一类事物\n",
    "- 类的成员\n",
    "    - 表明事物特征，即属性（成员变量）\n",
    "    - 表明事物功能，即函数（成员方法）"
   ]
  },
  {
   "cell_type": "markdown",
   "metadata": {},
   "source": [
    "# 2. 类的基本实现\n",
    "- 类的命名\n",
    "    - 遵循变量命名规范\n",
    "    - 采用大驼峰格式\n",
    "    - 避开关键字\n",
    "- 类的声明\n",
    "    - 必须使用class关键字\n",
    "    - 类有属性和方法构成\n",
    "    - 属性可以直接定义并赋值，若没有值需赋值None\n",
    "- 类的实例化\n",
    "    - 变量 = 类名()\n",
    "- 访问对象成员\n",
    "    - 使用点操作符\n",
    "        - 访问对象属性：obj.属性名称\n",
    "        - 访问对象方法：obj.方法名称()\n",
    "- 可以通过默认内置变量检查类和对象的所有成员\n",
    "    - 对象所有成员：obj.\\__dict\\__\n",
    "    - 类所有成员：class_name.\\__ dict\\__   "
   ]
  },
  {
   "cell_type": "code",
   "execution_count": 4,
   "metadata": {},
   "outputs": [
    {
     "name": "stdout",
     "output_type": "stream",
     "text": [
      "caiwenming\t18\tpython\n",
      "{'name': 'caiwenming'}\n",
      "{'__module__': '__main__', 'name': None, 'age': 18, 'course': 'python', 'printInfo': <function Student.printInfo at 0x7efd5836df28>, 'doHomework': <function Student.doHomework at 0x7efd5836d268>, '__dict__': <attribute '__dict__' of 'Student' objects>, '__weakref__': <attribute '__weakref__' of 'Student' objects>, '__doc__': None}\n"
     ]
    }
   ],
   "source": [
    "# 定义一个学生类\n",
    "\n",
    "class Student():\n",
    "    # 定义属性\n",
    "    name = None\n",
    "    age = 18\n",
    "    course = 'python'\n",
    "    \n",
    "    # 定义方法\n",
    "    def printInfo(self):\n",
    "        print(self.name, self.age, self.course, sep='\\t')\n",
    "    \n",
    "    def doHomework(self):\n",
    "        print('我在做作业')\n",
    "        \n",
    "# 实例化一个对象\n",
    "cwm = Student()\n",
    "\n",
    "# 访问对象的成员变量，并重新赋值\n",
    "cwm.name = 'caiwenming'\n",
    "\n",
    "# 调用对象的成员方法\n",
    "cwm.printInfo()\n",
    "\n",
    "# 检查对象的所有成员\n",
    "# 该操作值打印了name变量，age变量却没有打印\n",
    "print(cwm.__dict__)\n",
    "\n",
    "# 检查类的所有成员\n",
    "print(Student.__dict__)"
   ]
  },
  {
   "cell_type": "markdown",
   "metadata": {},
   "source": [
    "# 3. 类和对象的成员分析\n",
    "- 类和对象都可以存储成员，成员可以归类所有，也可以贵对象所有\n",
    "- 类存储成员时使用的时与类关联的一个对象，成为类实例\n",
    "- 对象存储成员时时存储在当前对象中\n",
    "- 对象访问一个成员时，**如果对象中没有该成员，尝试访问类中的同名成员**，如果对象中有此成员，一定使用对象中的成员\n",
    "- 创建对象时，类中成员不会放入到对象中，**而是得到一个空对象，没有成员**\n",
    "- 通过对象对类中成员重新赋值或通过对象添加成员时，**成员会保存在对象中，而不会改变类成员**"
   ]
  },
  {
   "cell_type": "code",
   "execution_count": 10,
   "metadata": {},
   "outputs": [],
   "source": [
    "# 成员分析\n",
    "# 定义一个学生类\n",
    "\n",
    "class Student():\n",
    "    # 定义属性\n",
    "    name = None\n",
    "    age = 18\n",
    "    course = 'python'"
   ]
  },
  {
   "cell_type": "code",
   "execution_count": 13,
   "metadata": {},
   "outputs": [
    {
     "name": "stdout",
     "output_type": "stream",
     "text": [
      "None\t18\tpython\n",
      "139626913247600\t139626913551936\t139626915118584\n"
     ]
    }
   ],
   "source": [
    "# 打印类的成员\n",
    "# 主体是类的名称\n",
    "print(Student.name, Student.age, Student.course, sep='\\t')\n",
    "\n",
    "# 打印成员变量的id\n",
    "print(id(Student.name), id(Student.age), id(Student.course), sep='\\t')"
   ]
  },
  {
   "cell_type": "code",
   "execution_count": 12,
   "metadata": {},
   "outputs": [
    {
     "name": "stdout",
     "output_type": "stream",
     "text": [
      "{}\n",
      "139626913247600\t139626913551936\t139626915118584\n",
      "None\t18\tpython\n"
     ]
    }
   ],
   "source": [
    "# 创建一个对象\n",
    "cwm = Student()\n",
    "# 调用对象的__dict__\n",
    "# 发现为字典，说明新建的对象不含成员的\n",
    "print(cwm.__dict__)\n",
    "\n",
    "# 打印对象的成员，发现有值，且和定义类时的一致\n",
    "print(cwm.name, cwm.age, cwm.course, sep='\\t')\n",
    "\n",
    "# 打印成员变量的id\n",
    "# 发现和类的成员的id是一致，说明新创建的对象在没有赋值或新增成员时，\n",
    "# 访问的是类的成员\n",
    "print(id(cwm.name), id(cwm.age), id(cwm.course), sep='\\t')"
   ]
  },
  {
   "cell_type": "code",
   "execution_count": 15,
   "metadata": {},
   "outputs": [
    {
     "name": "stdout",
     "output_type": "stream",
     "text": [
      "cwm\t28\thadoop\n",
      "139626572314360\t139626913552256\t139626571710280\n",
      "{'name': 'cwm', 'age': 28, 'course': 'hadoop', 'hobby': 'swim'}\n"
     ]
    }
   ],
   "source": [
    "# 给对象添加成员\n",
    "cwm.name = 'cwm'\n",
    "cwm.age = 28\n",
    "cwm.course = 'hadoop'\n",
    "\n",
    "# 添加一个在类中没有定义的成员\n",
    "# 竟然添加成功了。。。。\n",
    "cwm.hobby = 'swim'\n",
    "\n",
    "# 打印对象的成员\n",
    "# 主体是对象的名称\n",
    "print(cwm.name, cwm.age, cwm.course, sep='\\t')\n",
    "\n",
    "# 打印成员id，发现id和类的成员id不一样\n",
    "print(id(cwm.name), id(cwm.age), id(cwm.course), sep='\\t')\n",
    "\n",
    "# 此时再调用对象的__dict__\n",
    "# 结果是有3个变量\n",
    "print(cwm.__dict__)"
   ]
  },
  {
   "cell_type": "code",
   "execution_count": 16,
   "metadata": {},
   "outputs": [
    {
     "name": "stdout",
     "output_type": "stream",
     "text": [
      "None\t18\tpython\n"
     ]
    }
   ],
   "source": [
    "# 此时再次打印类的成员\n",
    "# 发现类的成员变量没有发生变化\n",
    "# name还是None\n",
    "print(Student.name, Student.age, Student.course, sep='\\t')"
   ]
  },
  {
   "cell_type": "markdown",
   "metadata": {},
   "source": [
    "# 4. 关于self\n",
    "- self在对象的方法中表示当前对象本身，如果通过对象条用一个方法，那么**该对象自身会作为第一个参数传入到当前方法中**\n",
    "- **self不是关键字**，只是一个用于接受对象的普通参数\n",
    "- 带有self形参的方法称为**非绑定类的方法**，可以通过对象访问；没有self的是**绑定类的方法**，只能通过类访问\n",
    "- 使用类访问绑定类方法时，如果方法中需要访问当前类的成员，可以通过__class__成员来访问"
   ]
  },
  {
   "cell_type": "markdown",
   "metadata": {},
   "source": [
    "## 我的理解\n",
    "- self和java中的this关键词相似，都有表示当前对象的意思\n",
    "    - java的this关键字只能表示当前对象\n",
    "    - self只是形参"
   ]
  },
  {
   "cell_type": "code",
   "execution_count": 4,
   "metadata": {},
   "outputs": [],
   "source": [
    "# 定义一个学生类\n",
    "\n",
    "class A():\n",
    "    # 定义属性\n",
    "    name = 'A'\n",
    "    age = 18\n",
    "    \n",
    "    # 定义一个方法，第一个参数为，而不是self\n",
    "    def printInfo(s):\n",
    "        print(s.name, s.age, sep='\\t')\n",
    "        \n",
    "    # 定义一个方法，是直接打印传入的参数\n",
    "    def printInfoTest(s):\n",
    "        print(s)\n",
    "    \n",
    "    # 定义非绑定类的方法\n",
    "    def notBandingPrintInfo(self):\n",
    "        print(self.name, self.age, sep='\\t')\n",
    "        \n",
    "    # 定义绑定类的方法\n",
    "    def bandingPrintInfo():\n",
    "        print(__class__.name, __class__.age, sep='\\t')\n",
    "    \n",
    "class B():\n",
    "    name = 'B'\n",
    "    age = 19"
   ]
  },
  {
   "cell_type": "code",
   "execution_count": 18,
   "metadata": {},
   "outputs": [
    {
     "name": "stdout",
     "output_type": "stream",
     "text": [
      "A\t18\n",
      "<__main__.A object at 0x7f5c5c0ff438>\n"
     ]
    }
   ],
   "source": [
    "# self不是关键字验证\n",
    "a = A()\n",
    "\n",
    "# 调用printInfo方法仍然打印了成员变量\n",
    "a.printInfo()\n",
    "\n",
    "a.printInfoTest()"
   ]
  },
  {
   "cell_type": "code",
   "execution_count": 21,
   "metadata": {},
   "outputs": [
    {
     "name": "stdout",
     "output_type": "stream",
     "text": [
      "A\t18\n",
      "****************************************************************************************************\n",
      "A\t18\n",
      "B\t19\n",
      "10\n",
      "****************************************************************************************************\n",
      "A\t18\n"
     ]
    }
   ],
   "source": [
    "# 一般使用对象名调用非绑定类的方法\n",
    "# A.notBandingPrintInfo()\n",
    "cwm = A()\n",
    "\n",
    "# 通过对象来调用非绑定类的方法\n",
    "# 默认是把当前对象作为第一个参数传入方法\n",
    "# 但是在调用的没有显式传参，而是隐式传参\n",
    "# 此时再传一个参数的话，则一定是第二个参数\n",
    "cwm.notBandingPrintInfo()\n",
    "print('*' * 100)\n",
    "\n",
    "# 用类名调用非绑定类的方法时，没有对象就没有第一个参数，所以会报错\n",
    "# TypeError: notBandingPrintInfo() missing 1 required positional argument: 'self'\n",
    "# A.notBandingPrintInfo()\n",
    "\n",
    "# 但是只要传入一个参数，且满足在函数中使用\n",
    "# 就能调用所谓的非绑定类了\n",
    "A.notBandingPrintInfo(A)\n",
    "A.notBandingPrintInfo(B)\n",
    "\n",
    "A.printInfoTest(10)\n",
    "print('*' * 100)\n",
    "\n",
    "# 使用类名调用绑定类的方法\n",
    "A.bandingPrintInfo()"
   ]
  },
  {
   "cell_type": "markdown",
   "metadata": {},
   "source": [
    "# 5. 面向对象的三大特性\n",
    "- 封装\n",
    "- 继承\n",
    "- 多态"
   ]
  },
  {
   "cell_type": "markdown",
   "metadata": {},
   "source": [
    "## 5.1 封装\n",
    "- 封装就是限制访问对象的成员\n",
    "- 封装的三个级别\n",
    "    - 公开的，public\n",
    "    - 受保护的， protected\n",
    "    - 私有的，private\n",
    "    - 在python中，public、protected、private不是关键字\n",
    "- 访问对象成员的位置\n",
    "    - 类内部\n",
    "    - 类外部\n",
    "    - 子类中\n",
    "- python中的name mangling及下划线的使用\n",
    "    - name mangling：又称name decoration（命名修饰），用于解决编程中需要唯一名称而引起的问题，比如命名冲突/重载等。\n",
    "    - python中下划线的使用\n",
    "        - _xxx：表示受保护的，只能在类内部或子类被访问，不能被from M import * 导入\n",
    "        - xxx_：表示避免与关键字冲突\n",
    "        - \\__xxx：表示私有的，使用name mangling技术，会自动加上类名前缀，只能在类内部被访问，不能在类外部和子类被访问\n",
    "- 公开的-public\n",
    "    - 公开的封装对成员没有访问限制，任何地方都可以访问\n",
    "        - \\__xxx__：魔术函数或用户控制的命名空间\n",
    "- 受保护的-protected\n",
    "    - 受保护的封装是具有一定访问限制的，只能在当前类或子类中被访问\n",
    "    - 也可以被该类的某个对象实例访问，java中是不行的\n",
    "    - 封装方法：在成员前面添加**一个**下划线\n",
    "- 私有的-private\n",
    "    - 私有成员是最高级别的封装，稚嫩在当前类中被访问\n",
    "    - 封装方法：在成员前面添加**两个**下划线\n",
    "    - python的私有是通过name mangling技术实现的，可以使用obj.\\__classname_attributename访问"
   ]
  },
  {
   "cell_type": "code",
   "execution_count": 43,
   "metadata": {},
   "outputs": [
    {
     "name": "stdout",
     "output_type": "stream",
     "text": [
      "{'__module__': '__main__', 'name': None, '_gender': 'male', '_A__age': 18, 'getName_': <function A.getName_ at 0x7f5c4de14c80>, '_getGender': <function A._getGender at 0x7f5c4de148c8>, '_A__getAge': <function A.__getAge at 0x7f5c4de14a60>, 'getAge': <function A.getAge at 0x7f5c4de86158>, '__dict__': <attribute '__dict__' of 'A' objects>, '__weakref__': <attribute '__weakref__' of 'A' objects>, '__doc__': None}\n",
      "None\n",
      "male\n",
      "male\n",
      "18\n",
      "18\n"
     ]
    }
   ],
   "source": [
    "# 封装的案例\n",
    "# 定义类A\n",
    "class A():\n",
    "    # 公开的成员变量\n",
    "    name = None\n",
    "    \n",
    "    # 受保护的成员变量\n",
    "    _gender = 'male'\n",
    "    \n",
    "    # 私有的成员变量\n",
    "    __age = 18\n",
    "    \n",
    "    # 公开的成员方法\n",
    "    def getName_(self):\n",
    "        print(self.name)\n",
    "        \n",
    "    # 受保护的成员方法\n",
    "    def _getGender(self):\n",
    "        print(self._gender)\n",
    "        \n",
    "    # 私有的成员方法\n",
    "    def __getAge(self):\n",
    "        print(self.__age)\n",
    "        \n",
    "    # 类中调用私有成员方法\n",
    "    def getAge(self):\n",
    "        __getAge()\n",
    "\n",
    "        \n",
    "#  声明变量a，并访问自身的公开的、受保护的、私有的成员\n",
    "# 类的对象实例访问私公开的和受保护的\n",
    "a = A()\n",
    "print(A.__dict__)\n",
    "\n",
    "a.getName_()\n",
    "\n",
    "# 类的对象可以直接访问受保护的成员\n",
    "a._getGender()\n",
    "print(a._gender)\n",
    "\n",
    "# 类的对象实例无法访问私有成员\n",
    "# name mangling技术在私有成员前面添加_className前缀\n",
    "#a.__getAge()\n",
    "a._A__getAge()\n",
    "# 直接访问私有变量\n",
    "\n",
    "print(a._A__age)"
   ]
  },
  {
   "cell_type": "code",
   "execution_count": 49,
   "metadata": {},
   "outputs": [
    {
     "name": "stdout",
     "output_type": "stream",
     "text": [
      "{}\n",
      "None\n",
      "male\n"
     ]
    },
    {
     "ename": "AttributeError",
     "evalue": "type object 'super' has no attribute '_gender'",
     "output_type": "error",
     "traceback": [
      "\u001b[0;31m---------------------------------------------------------------------------\u001b[0m",
      "\u001b[0;31mAttributeError\u001b[0m                            Traceback (most recent call last)",
      "\u001b[0;32m<ipython-input-49-a5e481c9d536>\u001b[0m in \u001b[0;36m<module>\u001b[0;34m\u001b[0m\n\u001b[1;32m     23\u001b[0m \u001b[0;31m# 子类可以访问父类的公开和受保护成员\u001b[0m\u001b[0;34m\u001b[0m\u001b[0;34m\u001b[0m\u001b[0;34m\u001b[0m\u001b[0m\n\u001b[1;32m     24\u001b[0m \u001b[0mb\u001b[0m\u001b[0;34m.\u001b[0m\u001b[0mgetName\u001b[0m\u001b[0;34m(\u001b[0m\u001b[0;34m)\u001b[0m\u001b[0;34m\u001b[0m\u001b[0;34m\u001b[0m\u001b[0m\n\u001b[0;32m---> 25\u001b[0;31m \u001b[0mb\u001b[0m\u001b[0;34m.\u001b[0m\u001b[0mgetGender\u001b[0m\u001b[0;34m(\u001b[0m\u001b[0;34m)\u001b[0m\u001b[0;34m\u001b[0m\u001b[0;34m\u001b[0m\u001b[0m\n\u001b[0m\u001b[1;32m     26\u001b[0m \u001b[0;34m\u001b[0m\u001b[0m\n\u001b[1;32m     27\u001b[0m \u001b[0;31m# 子类是无法访问父类的私有成员\u001b[0m\u001b[0;34m\u001b[0m\u001b[0;34m\u001b[0m\u001b[0;34m\u001b[0m\u001b[0m\n",
      "\u001b[0;32m<ipython-input-49-a5e481c9d536>\u001b[0m in \u001b[0;36mgetGender\u001b[0;34m(self)\u001b[0m\n\u001b[1;32m      9\u001b[0m         \u001b[0ma\u001b[0m \u001b[0;34m=\u001b[0m \u001b[0mA\u001b[0m\u001b[0;34m(\u001b[0m\u001b[0;34m)\u001b[0m\u001b[0;34m\u001b[0m\u001b[0;34m\u001b[0m\u001b[0m\n\u001b[1;32m     10\u001b[0m         \u001b[0mprint\u001b[0m\u001b[0;34m(\u001b[0m\u001b[0ma\u001b[0m\u001b[0;34m.\u001b[0m\u001b[0m_gender\u001b[0m\u001b[0;34m)\u001b[0m\u001b[0;34m\u001b[0m\u001b[0;34m\u001b[0m\u001b[0m\n\u001b[0;32m---> 11\u001b[0;31m         \u001b[0mprint\u001b[0m\u001b[0;34m(\u001b[0m\u001b[0msuper\u001b[0m\u001b[0;34m.\u001b[0m\u001b[0m_gender\u001b[0m\u001b[0;34m)\u001b[0m\u001b[0;34m\u001b[0m\u001b[0;34m\u001b[0m\u001b[0m\n\u001b[0m\u001b[1;32m     12\u001b[0m \u001b[0;34m\u001b[0m\u001b[0m\n\u001b[1;32m     13\u001b[0m     \u001b[0;31m# 私有的成员方法\u001b[0m\u001b[0;34m\u001b[0m\u001b[0;34m\u001b[0m\u001b[0;34m\u001b[0m\u001b[0m\n",
      "\u001b[0;31mAttributeError\u001b[0m: type object 'super' has no attribute '_gender'"
     ]
    }
   ],
   "source": [
    "# 定义类B，并继承A\n",
    "class B(A):\n",
    "    def getName(self):\n",
    "        a = A()\n",
    "        print(a.name)\n",
    "        \n",
    "    # 受保护的成员方法\n",
    "    def getGender(self):\n",
    "        a = A()\n",
    "        print(a._gender)\n",
    "        print(super._gender)\n",
    "        \n",
    "    # 私有的成员方法\n",
    "    def getAge(self):\n",
    "        a = A()\n",
    "        print(a.__age)\n",
    "\n",
    "#  声明变量b，并访问自身的公开的、受保护的、私有的成员\n",
    "# 类的对象实例访问私公开的和受保护的\n",
    "b = B()\n",
    "print(b.__dict__)\n",
    "\n",
    "# 子类可以访问父类的公开和受保护成员\n",
    "b.getName()\n",
    "b.getGender()\n",
    "\n",
    "# 子类是无法访问父类的私有成员\n",
    "b.getAge()"
   ]
  },
  {
   "cell_type": "code",
   "execution_count": 55,
   "metadata": {},
   "outputs": [
    {
     "name": "stdout",
     "output_type": "stream",
     "text": [
      "{}\n",
      "None\n",
      "male\n",
      "male\n"
     ]
    },
    {
     "ename": "AttributeError",
     "evalue": "'A' object has no attribute '_C__age'",
     "output_type": "error",
     "traceback": [
      "\u001b[0;31m---------------------------------------------------------------------------\u001b[0m",
      "\u001b[0;31mAttributeError\u001b[0m                            Traceback (most recent call last)",
      "\u001b[0;32m<ipython-input-55-fdaa59972af2>\u001b[0m in \u001b[0;36m<module>\u001b[0;34m\u001b[0m\n\u001b[1;32m     26\u001b[0m \u001b[0;34m\u001b[0m\u001b[0m\n\u001b[1;32m     27\u001b[0m \u001b[0;31m# 子类是无法访问父类的私有成员\u001b[0m\u001b[0;34m\u001b[0m\u001b[0;34m\u001b[0m\u001b[0;34m\u001b[0m\u001b[0m\n\u001b[0;32m---> 28\u001b[0;31m \u001b[0mc\u001b[0m\u001b[0;34m.\u001b[0m\u001b[0mgetAge\u001b[0m\u001b[0;34m(\u001b[0m\u001b[0;34m)\u001b[0m\u001b[0;34m\u001b[0m\u001b[0;34m\u001b[0m\u001b[0m\n\u001b[0m",
      "\u001b[0;32m<ipython-input-55-fdaa59972af2>\u001b[0m in \u001b[0;36mgetAge\u001b[0;34m(self)\u001b[0m\n\u001b[1;32m     14\u001b[0m     \u001b[0;32mdef\u001b[0m \u001b[0mgetAge\u001b[0m\u001b[0;34m(\u001b[0m\u001b[0mself\u001b[0m\u001b[0;34m)\u001b[0m\u001b[0;34m:\u001b[0m\u001b[0;34m\u001b[0m\u001b[0;34m\u001b[0m\u001b[0m\n\u001b[1;32m     15\u001b[0m         \u001b[0ma\u001b[0m \u001b[0;34m=\u001b[0m \u001b[0mA\u001b[0m\u001b[0;34m(\u001b[0m\u001b[0;34m)\u001b[0m\u001b[0;34m\u001b[0m\u001b[0;34m\u001b[0m\u001b[0m\n\u001b[0;32m---> 16\u001b[0;31m         \u001b[0mprint\u001b[0m\u001b[0;34m(\u001b[0m\u001b[0ma\u001b[0m\u001b[0;34m.\u001b[0m\u001b[0m__age\u001b[0m\u001b[0;34m)\u001b[0m\u001b[0;34m\u001b[0m\u001b[0;34m\u001b[0m\u001b[0m\n\u001b[0m\u001b[1;32m     17\u001b[0m \u001b[0;34m\u001b[0m\u001b[0m\n\u001b[1;32m     18\u001b[0m \u001b[0;31m#  声明变量b，并访问自身的公开的、受保护的、私有的成员\u001b[0m\u001b[0;34m\u001b[0m\u001b[0;34m\u001b[0m\u001b[0;34m\u001b[0m\u001b[0m\n",
      "\u001b[0;31mAttributeError\u001b[0m: 'A' object has no attribute '_C__age'"
     ]
    }
   ],
   "source": [
    "# 定义C\n",
    "class C():\n",
    "    def getName(self):\n",
    "        a = A()\n",
    "        print(a.name)\n",
    "        \n",
    "    # 受保护的成员方法\n",
    "    def getGender(self):\n",
    "        a = A()\n",
    "        print(a._gender)\n",
    "        print(A._gender)\n",
    "        \n",
    "    # 私有的成员方法\n",
    "    def getAge(self):\n",
    "        a = A()\n",
    "        print(a.__age)\n",
    "        \n",
    "#  声明变量b，并访问自身的公开的、受保护的、私有的成员\n",
    "# 类的对象实例访问私公开的和受保护的\n",
    "c = C()\n",
    "print(c.__dict__)\n",
    "\n",
    "# 奇怪的是，其他非子类竟然可以访问被保护的成员\n",
    "c.getName()\n",
    "c.getGender()\n",
    "\n",
    "# 子类是无法访问父类的私有成员\n",
    "c.getAge()"
   ]
  },
  {
   "cell_type": "markdown",
   "metadata": {},
   "source": [
    "## 5.2 继承\n",
    "- 继承指的是一个类可以获得另外一个类中的 成员变量和成员方法\n",
    "- 继承旨在减少代码、提高代码的复用性，同时可以设置类与类之间的关系\n",
    "- 继承与被继承的概念\n",
    "    - 被继承的类叫父类，或基类或超类\n",
    "    - 用于继承的类叫子类，或派生类\n",
    "    - 继承与被继承一定存在一个is-a的关系\n",
    "- 继承的语法：以下代码表示类A继承类B\n",
    "        class A(B):\n",
    "            pass\n",
    "- 继承的特征\n",
    "    - 所有的类都继承自object类，即所有类都是object的子类\n",
    "    - 子类一旦继承父类，则可以使用父类中除私有成员外的所有内容\n",
    "    - 子类继承父类后并没有将父类成员完全赋值到子类中，而是通过引用关系访问调用\n",
    "    - 子类中可以定义独有的成员变量和方法\n",
    "    - 若子类中定义的成员和父类成员相同，则优先使用子类成员，即就近原则\n",
    "    - 子类如果想扩充父类的方法，可以在当以新方法的同时访问父类成员进行代码重用，可使用[父类名.父类成员]的给是俩调用父类成员，也可以使用[super().父类成员]的格式来调用"
   ]
  },
  {
   "cell_type": "code",
   "execution_count": 15,
   "metadata": {},
   "outputs": [
    {
     "name": "stdout",
     "output_type": "stream",
     "text": [
      "Noname\n",
      "sec\n",
      "slepping...\n",
      "testing...\n",
      "****************************************************************************************************\n",
      "make some money\n",
      "make some money\n",
      "testing...\n"
     ]
    }
   ],
   "source": [
    "# 继承的语法案例\n",
    "# 体验继承的特征\n",
    "# 在python中，任何类都有一个共同的父类叫object\n",
    "class Person():\n",
    "    name = 'Noname'\n",
    "    age = 0\n",
    "    # 私有变量\n",
    "    __score = 0\n",
    "    # 受保护的变量，子类可以用\n",
    "    _nickname = 'sec'\n",
    "    def sleep(self):\n",
    "        print('slepping...')\n",
    "        \n",
    "    def work(self):\n",
    "        print('make some money')\n",
    "\n",
    "# 创建Teacher类，并继承Person类\n",
    "class Teacher(Person):\n",
    "    \n",
    "    # 定义了子类独有的方法test\n",
    "    def makeTest(self):\n",
    "        print('testing...')\n",
    "        \n",
    "    def work(self):\n",
    "        # 扩充父类的功能下只需要调用父类相应的方法\n",
    "        # 注意使用类名调用父类方法需要传参数\n",
    "        Person.work(self)\n",
    "        # super代表得到父类\n",
    "        super().work()\n",
    "        self.makeTest()\n",
    "\n",
    "t = Teacher()\n",
    "print(t.name)\n",
    "\n",
    "# 受保护的不能在外部被访问，不过python中可以？\n",
    "print(t._nickname)\n",
    "\n",
    "# 私有成员，不能在外部被访问\n",
    "#print(t.__socre)\n",
    "\n",
    "t.sleep()\n",
    "t.makeTest()\n",
    "print('*' * 100)\n",
    "t.work()"
   ]
  },
  {
   "cell_type": "markdown",
   "metadata": {},
   "source": [
    "- 继承变量和方法的查找顺序问题\n",
    "    - 优先查找自己的变量\n",
    "    - 没有则查找父类\n",
    "    - 若当前类中没有定义构造函数，则自动查找并调用父类的构造函数\n",
    "    -  如果当前类定义了，则不再继续向上查找"
   ]
  },
  {
   "cell_type": "code",
   "execution_count": 13,
   "metadata": {},
   "outputs": [
    {
     "name": "stdout",
     "output_type": "stream",
     "text": [
      "tom\n",
      "0\n",
      "make some money\n",
      "make some money\n",
      "testing...\n"
     ]
    }
   ],
   "source": [
    "# 变量、方法查找顺序案例\n",
    "class Person():\n",
    "    name = 'Noname'\n",
    "    age = 0\n",
    "    # 私有变量\n",
    "    __score = 0\n",
    "    # 受保护的变量，子类可以用\n",
    "    _nickname = 'sec'\n",
    "    def sleep(self):\n",
    "        print('slepping...')\n",
    "\n",
    "# 创建Teacher类，并继承Person类\n",
    "class Teacher(Person):\n",
    "    name = 'tom'\n",
    "    # 定义了子类独有的方法test\n",
    "    def makeTest(self):\n",
    "        print('testing...')\n",
    "            \n",
    "        \n",
    "t = Teacher()\n",
    "# name在父类、子类中都定义了\n",
    "# 优先调用当前类\n",
    "print(t.name)\n",
    "\n",
    "# 子类中没有定义age，因此调用的时候是引用父类的成员\n",
    "print(t.age)\n"
   ]
  },
  {
   "cell_type": "markdown",
   "metadata": {},
   "source": [
    "- 构造函数\n",
    "    - 是一种特殊的函数，在类进行实例化之前调用\n",
    "    - 若定义了构造函数，则实例化时使用构造函数，不查找父类构造函数\n",
    "    - 若没有定义，则查找父类构造函数\n",
    "    - 若子类没有定义，父类的构造函数带参数，则构造对象时的参数按照父类参数构造\n",
    "- super\n",
    "    - super不是关键字，而是一个类\n",
    "    - super的作用是获取MRO(MethodResolutionOrder)列表中的第一个类\n",
    "    - super与父类之间没有任何实质性关系，但通过super可以调用父类\n",
    "    - super的两个使用方法"
   ]
  },
  {
   "cell_type": "code",
   "execution_count": 23,
   "metadata": {},
   "outputs": [
    {
     "name": "stdout",
     "output_type": "stream",
     "text": [
      "I am init a dog\n",
      "I am init a animal\n"
     ]
    }
   ],
   "source": [
    "# 构造函数的案例-1\n",
    "class Animal():\n",
    "    def __init__(self):\n",
    "        print('I am init a animal')\n",
    "\n",
    "class Dog(Animal):\n",
    "    pass\n",
    "    # __init__就是构造函数\n",
    "    # 每次初始化的时候，第一个被调用\n",
    "    def __init__(self):\n",
    "        print('I am init a dog')\n",
    "\n",
    "class Cat(Animal):\n",
    "    pass\n",
    "        \n",
    "kaka = Dog()\n",
    "\n",
    "# Cat类中没有显示定义构造函数\n",
    "# 因此查找父类中的构造函数\n",
    "mimi = Cat()"
   ]
  },
  {
   "cell_type": "code",
   "execution_count": 27,
   "metadata": {},
   "outputs": [
    {
     "name": "stdout",
     "output_type": "stream",
     "text": [
      "I am init a dog\n",
      "I am init a animal, my name is mimi\n"
     ]
    }
   ],
   "source": [
    "# 构造函数的案例-2\n",
    "class Animal():\n",
    "    # 定义了两个参数\n",
    "    def __init__(self, name):\n",
    "        print('I am init a animal, my name is {}'.format(name))\n",
    "\n",
    "class Dog(Animal):\n",
    "    # __init__就是构造函数\n",
    "    # 每次初始化的时候，第一个被调用\n",
    "    def __init__(self):\n",
    "        print('I am init a dog')\n",
    "\n",
    "class Cat(Animal):\n",
    "    pass\n",
    "        \n",
    "kaka = Dog()\n",
    "\n",
    "# Cat类中没有显示定义构造函数\n",
    "# 因此查找父类中的构造函数\n",
    "# 但是Animal中的初始化函数定义了两个参数，因此又报错了\n",
    "# mimi = Cat()\n",
    "\n",
    "kity  = Cat('mimi')"
   ]
  },
  {
   "cell_type": "markdown",
   "metadata": {},
   "source": [
    "- 单继承和多继承\n",
    "    - 单继承：每个类只能继承一个类\n",
    "    - 多继承：每个类允许进程多个类\n",
    "- 单继承和多继承的优缺点\n",
    "    - 单继承\n",
    "        - 优点：传承有序、逻辑清晰、语法简单、隐患少\n",
    "        - 缺点：功能不能无限扩展，只能在当前唯一的继承链中扩展\n",
    "    - 多继承\n",
    "        - 优点：类的功能扩展方便\n",
    "        - 缺点：继承关系混乱\n",
    "- 菱形继承/钻石继承问题\n",
    "    - 多个子类继承自同一个父类，这些子类又被同一个子类继承，于是继承关系图形成一个菱形图谱\n",
    "    - [MRO](https://www.cnblogs.com/whatisfantasy/p/6046991.html)\n",
    "    - 关于多继承的MRO\n",
    "        - MRO就是多继承中，用于保存继承顺序的一个列表\n",
    "        - python本身采用C3算法来计算多继承的继承顺序\n",
    "        - MRO列表的计算原则：\n",
    "            - 子类永远在父类前面\n",
    "            - 如果多个父类，则根据继承语法中括号内的书写顺序存放\n",
    "            - 如果过多个类继承同一个父类，孙子类只会选取继承语法括号中的第一个父类的父类\n",
    "- 构造函数\n",
    "    - 在队行进行实例化时，系统自动调用的一个函数叫做构造函数，通常此函数用来对实例对象进行初始化\n",
    "    - 构造函数一定要有，如果没有则自动向上查找，按照MRO顺序，直至找到为止"
   ]
  },
  {
   "cell_type": "code",
   "execution_count": 29,
   "metadata": {},
   "outputs": [
    {
     "name": "stdout",
     "output_type": "stream",
     "text": [
      "swimming\n",
      "flying\n",
      "working\n"
     ]
    }
   ],
   "source": [
    "# 多继承的案例\n",
    "# 子类可以直接拥有父类的非私有的属性和方法\n",
    "class Fish():\n",
    "    def __init__(self, name):\n",
    "        self.name = name\n",
    "    def swim(self):\n",
    "        print('swimming')\n",
    "\n",
    "class Bird():\n",
    "    def __init__(self, name):\n",
    "        self.name = name\n",
    "    def fly(self):\n",
    "        print('flying')\n",
    "        \n",
    "class Person():\n",
    "    def __init__(self, name):\n",
    "        self.name = name\n",
    "    def work(self):\n",
    "        print('working')\n",
    "        \n",
    "class SuperMan(Person, Bird, Fish):\n",
    "    def __init__(self, name):\n",
    "        self.name = name\n",
    "\n",
    "yy = SuperMan('yy')\n",
    "yy.swim()\n",
    "yy.fly()\n",
    "yy.work()"
   ]
  },
  {
   "cell_type": "code",
   "execution_count": 1,
   "metadata": {},
   "outputs": [],
   "source": [
    "# 菱形继承的案例\n",
    "class A():\n",
    "    pass\n",
    "\n",
    "class B(A):\n",
    "    pass\n",
    "\n",
    "class C(A):\n",
    "    pass\n",
    "\n",
    "class D(B, C):\n",
    "    pass"
   ]
  },
  {
   "cell_type": "markdown",
   "metadata": {},
   "source": [
    "# 5.3 多态\n",
    "- 多态就是同一个对象在不同情况下有不同的状态出现\n",
    "- 多态不是语法，而是一种设计思想\n",
    "- 多态性：一种调用方法，不同执行结果\n",
    "- 多态：同一事物的多种形态，比如动物分为哺乳类、爬行类等\n",
    "- [多态和多态性](https://www.cnblogs.com/luchuangao/p/6739557.html)\n",
    "- Mixin设计模式\n",
    "    - 主要采用多继承方式对类的功能进行扩展\n",
    "    - [Mixin概念](https://www.zhihu.com/question/20778853)\n",
    "    - [MRO and Mixin](http://blog.csdn.net/robinjwong/article/details/48375833)\n",
    "    - [Mixin模式](https://www.cnblogs.com/xybaby/p/6484262.html)\n",
    "    - [Mixin MRO](http://runforever.github.io/2014-07-19/2014-07-19-python-mixin%E5%AD%A6%E4%B9%A0%E7%AC%94%E8%AE%B0/)\n",
    "    - [MRO](http://xiaocong.github.io/blog/2012/06/13/python-mixin-and-mro/)\n",
    "- 使用Mixin注意事项\n",
    "    - 表示某一个单一功能，而不是某个事物\n",
    "    - 功能必须单一，如果有多个功能，使用多个Mixin\n",
    "    - Mixin不能依赖于子类\n",
    "    - 子类即使没有继承这个Mixin类，也能照样工作，只是缺少某些功能\n",
    "- 优点\n",
    "    - 使用Mixin可以在不对类进行任何修改的情况下，扩充功能\n",
    "    - 可以方便的组织和维护不同功能组件的划分\n",
    "    - 可以根据需要任意调整功能类的组合\n",
    "    - 可以避免创建很多新的类，导致类的继承混乱"
   ]
  },
  {
   "cell_type": "code",
   "execution_count": 4,
   "metadata": {},
   "outputs": [
    {
     "name": "stdout",
     "output_type": "stream",
     "text": [
      "(<class '__main__.Tutor'>, <class '__main__.Teacher'>, <class '__main__.Student'>, <class '__main__.Person'>, <class 'object'>)\n",
      "{}\n",
      "{'__module__': '__main__', '__doc__': None}\n"
     ]
    }
   ],
   "source": [
    "# Mixin案例\n",
    "class Person():\n",
    "    name = 'cwm'\n",
    "    age = 27\n",
    "    \n",
    "    def eat(self):\n",
    "        print('Eat...')\n",
    "        \n",
    "    def drink(self):\n",
    "        print('Drink...')\n",
    "        \n",
    "    def slepp(self):\n",
    "        print('Slepp...')\n",
    "        \n",
    "class Teacher(Person):\n",
    "    def work(self):\n",
    "        print('Work...')\n",
    "\n",
    "class Student(Person):\n",
    "    def study(self):\n",
    "        print('Study...')\n",
    "\n",
    "class Tutor(Teacher, Student):\n",
    "    pass\n",
    "\n",
    "t = Tutor()\n",
    "print(Tutor.__mro__)\n",
    "print(t.__dict__)\n",
    "print(Tutor.__dict__)"
   ]
  },
  {
   "cell_type": "code",
   "execution_count": 6,
   "metadata": {},
   "outputs": [
    {
     "name": "stdout",
     "output_type": "stream",
     "text": [
      "(<class '__main__.Tutor'>, <class '__main__.Person'>, <class '__main__.TeacherMixin'>, <class '__main__.StudentMixin'>, <class 'object'>)\n",
      "{}\n",
      "{'__module__': '__main__', '__doc__': None}\n"
     ]
    }
   ],
   "source": [
    "\n",
    "class TeacherMixin():\n",
    "    def work(self):\n",
    "        print('Work...')\n",
    "\n",
    "class StudentMixin():\n",
    "    def study(self):\n",
    "        print('Study...')\n",
    "        \n",
    "class Tutor(Person, TeacherMixin, StudentMixin):\n",
    "        pass\n",
    "\n",
    "t = Tutor()\n",
    "print(Tutor.__mro__)\n",
    "print(t.__dict__)\n",
    "print(Tutor.__dict__)"
   ]
  },
  {
   "cell_type": "markdown",
   "metadata": {},
   "source": [
    "# 6. 常用相关函数\n",
    "- issubclass:检测一个类是否是另一个类的子类\n",
    "- isinstance:检测一个对象是否是一个类的实例\n",
    "- hasattr:检测一个对象是否由成员xxx\n",
    "- getattr: get attribute\n",
    "- setattr: set attribute\n",
    "- delattr: delete attribute\n",
    "- dir: 获取对象的成员列表"
   ]
  },
  {
   "cell_type": "code",
   "execution_count": 14,
   "metadata": {},
   "outputs": [
    {
     "name": "stdout",
     "output_type": "stream",
     "text": [
      "True\n",
      "True\n",
      "True\n",
      "True\n"
     ]
    }
   ],
   "source": [
    "# 常用函数使用\n",
    "class A():\n",
    "    name = 'cwm'\n",
    "\n",
    "class B(A):\n",
    "    pass\n",
    "\n",
    "a = A()\n",
    "b = B()\n",
    "# 子类检查\n",
    "print(issubclass(B, A))\n",
    "\n",
    "# 实例检查\n",
    "# 子类的一个对象也是父类的一个实例\n",
    "print(isinstance(b,B))\n",
    "print(isinstance(b, A))\n",
    "\n",
    "# 成员检查\n",
    "print(hasattr(A, 'name'))"
   ]
  },
  {
   "cell_type": "markdown",
   "metadata": {},
   "source": [
    "# 7. 类的成员描述符（属性）\n",
    "- 类的成员描述符是为了在类中对类的成员属性进行相关操作的一种方式\n",
    "    - get：获取属性的操作\n",
    "    - set：修改或调价属性的操作\n",
    "    - delete：删除属性的操作\n",
    "- 使用类的成员描述符的三种方法\n",
    "    - 使用类实现描述器\n",
    "        - 适合多个类中的多个属性共用一个描述符\n",
    "    - 使用属性修饰符\n",
    "    - 使用property函数\n",
    "        - property(fget, fset, fdel, doc)\n",
    "        - 在当前类中使用，可以控制一个类中的多个属性\n",
    "    - 属性修饰符：在当前类中使用，控制一个类中的一个属性"
   ]
  },
  {
   "cell_type": "code",
   "execution_count": 16,
   "metadata": {},
   "outputs": [
    {
     "name": "stdout",
     "output_type": "stream",
     "text": [
      "my name is cwm\n"
     ]
    }
   ],
   "source": [
    "## 属性案例\n",
    "# 创建Student类，描述学生类\n",
    "# 学生具有Student.name属性\n",
    "# 单数name格式并不统一\n",
    "class Student():\n",
    "    def __init__(self, name, age):\n",
    "        self.name = name\n",
    "        self.age = age\n",
    "        \n",
    "    def intro(self):\n",
    "        print('my name is {}'.format(self.name))\n",
    "        \n",
    "    def setName(self, name):\n",
    "        self.name = name\n",
    "        \n",
    "s1 = Student('cwm', 19)\n",
    "\n",
    "s1.intro()"
   ]
  },
  {
   "cell_type": "code",
   "execution_count": 25,
   "metadata": {},
   "outputs": [],
   "source": [
    "# property函数案例\n",
    "# 定义Person，有name、age属性\n",
    "# 对于任意输入的姓名，都需要大写\n",
    "# 对于年龄，都是整数\n",
    "class Person():\n",
    "    '''这是文档'''\n",
    "    def fget(self):\n",
    "        return self._name * 2\n",
    "    \n",
    "    def fset(self, name):\n",
    "        self._name = name.upper()\n",
    "        \n",
    "    def fdel(self):\n",
    "        self._name = 'NoName'\n",
    "        \n",
    "    name = property(fget, fset, fdel, '对name进行操作')"
   ]
  },
  {
   "cell_type": "code",
   "execution_count": 21,
   "metadata": {},
   "outputs": [
    {
     "name": "stdout",
     "output_type": "stream",
     "text": [
      "TULINGTULING\n"
     ]
    }
   ],
   "source": [
    "p1 = Person()\n",
    "p1.name = 'TuLing'\n",
    "print(p1.name)"
   ]
  },
  {
   "cell_type": "markdown",
   "metadata": {},
   "source": [
    "# 8. 类的内置属性\n",
    "- \\_\\_dict__：以字典的方式希纳是类的成员组成\n",
    "- \\_\\_doc__：获取类的文档信息\n",
    "- \\_\\_name__：获取类的名称，如果在模块中使用，获取模块的名称\n",
    "- \\_\\_bases__：获取某个类的所有父类，以元组的方式显示"
   ]
  },
  {
   "cell_type": "code",
   "execution_count": 26,
   "metadata": {},
   "outputs": [
    {
     "name": "stdout",
     "output_type": "stream",
     "text": [
      "{'__module__': '__main__', '__doc__': '这是文档', 'fget': <function Person.fget at 0x7fe377647ea0>, 'fset': <function Person.fset at 0x7fe377647e18>, 'fdel': <function Person.fdel at 0x7fe377647c80>, 'name': <property object at 0x7fe377613ae8>, '__dict__': <attribute '__dict__' of 'Person' objects>, '__weakref__': <attribute '__weakref__' of 'Person' objects>}\n",
      "这是文档\n",
      "Person\n",
      "(<class 'object'>,)\n"
     ]
    }
   ],
   "source": [
    "# 类的内置属性案例\n",
    "print(Person.__dict__)\n",
    "print(Person.__doc__)\n",
    "print(Person.__name__)\n",
    "print(Person.__bases__)"
   ]
  },
  {
   "cell_type": "markdown",
   "metadata": {},
   "source": [
    "# 9. 类的常用魔术方法\n",
    "- 魔术方法就是不需要认为调用的方法，基本就是在特定的时刻自动触发\n",
    "- 魔术方法的统一特征，方法名前后各有两个下划线\n",
    "- 操作类\n",
    "    - \\_\\_init__：构造函数，在实例化对象时被调用\n",
    "    - \\_\\_new__: 对象实例化方法，此函数较特殊，一般不需要使用\n",
    "    - \\_\\_call__：对象被当函数使用的时候触发\n",
    "    - \\_\\_str__: 当对象被当做字符串使用的时候调用\n",
    "    - \\_\\_repr__: 返回字符串，跟__str__具体区别请百度"
   ]
  },
  {
   "cell_type": "code",
   "execution_count": 34,
   "metadata": {},
   "outputs": [
    {
     "name": "stdout",
     "output_type": "stream",
     "text": [
      "__init__被调用\n",
      "__call__被调用\n",
      "返回字符串\n"
     ]
    }
   ],
   "source": [
    "\n",
    "\n",
    "class A():\n",
    "    def __init__(self, name=0):\n",
    "        print('__init__被调用')\n",
    "        \n",
    "    def __call__(self):\n",
    "        print('__call__被调用')\n",
    "        \n",
    "    def __str__(self):\n",
    "        return '返回字符串'\n",
    "    \n",
    "    def __repr__(self):\n",
    "        return '返回字符串1'\n",
    "        \n",
    "# __init__案例\n",
    "a = A()\n",
    "\n",
    "# __call__案例\n",
    "a()\n",
    "\n",
    "# __str__案例\n",
    "print(a)"
   ]
  },
  {
   "cell_type": "markdown",
   "metadata": {},
   "source": [
    "- 描述符相关\n",
    "    - \\_\\_get__\n",
    "    - \\_\\_set__\n",
    "    - \\_\\_delete__"
   ]
  },
  {
   "cell_type": "markdown",
   "metadata": {},
   "source": [
    "- 描述符相关\n",
    "    - \\_\\_getattr__：访问一个不存在的属性时触发\n",
    "    - \\_\\_setattr__：对成员属性进行设置的时候触发\n",
    "        - 参数\n",
    "            - self用来获取当前对象\n",
    "            - 被设置的属性名称，以字符串形式出现\n",
    "            - 需要对属性名称设置的值\n",
    "        - 作用：进行属性设置时需要验证或者修改\n",
    "        - 在该方法中不能对属性直接进行赋值操作，否则死循环\n",
    "    - \\_\\_delete__"
   ]
  },
  {
   "cell_type": "code",
   "execution_count": 37,
   "metadata": {},
   "outputs": [
    {
     "name": "stdout",
     "output_type": "stream",
     "text": [
      "没有该属性\n",
      "None\n"
     ]
    }
   ],
   "source": [
    "# __getattr__\n",
    "class A():\n",
    "    name = 'cwm'\n",
    "    age = 19\n",
    "    def __getattr__(self, name):\n",
    "        print('没有该属性')\n",
    "        \n",
    "    \n",
    "a = A()\n",
    "print(a.sex)"
   ]
  },
  {
   "cell_type": "code",
   "execution_count": 41,
   "metadata": {},
   "outputs": [
    {
     "name": "stdout",
     "output_type": "stream",
     "text": [
      "{}\n",
      "设置属性：age\n"
     ]
    }
   ],
   "source": [
    "# __setattr__\n",
    "class Person():\n",
    "    def _init__(self):\n",
    "        pass\n",
    "    \n",
    "    def __setattr__(self, name, value):\n",
    "        print('设置属性：{}'.format(name))\n",
    "        # 以下赋值语句造成死循环\n",
    "        #self.name = value\n",
    "        # 此种情况，为了避免需循环，规定统一调用父类的魔法函数\n",
    "        super().__setattr__(name, value)\n",
    "\n",
    "p = Person()\n",
    "print(p.__dict__)\n",
    "p.age = 18\n",
    "\n",
    "print()"
   ]
  },
  {
   "cell_type": "markdown",
   "metadata": {},
   "source": [
    "- 运算分类相关魔术方法\n",
    "    - \\_\\_gt__：进行大于判断的时候触发的函数\n",
    "        - 参数\n",
    "            - self\n",
    "            - 第二参数时第二个对象\n",
    "            - 返回值时任意值，推荐返回布尔值"
   ]
  },
  {
   "cell_type": "code",
   "execution_count": 45,
   "metadata": {},
   "outputs": [
    {
     "name": "stdout",
     "output_type": "stream",
     "text": [
      "a会比b大吗？\n",
      "False\n"
     ]
    }
   ],
   "source": [
    "# __gt__\n",
    "class Student():\n",
    "    def __init__(self, name):\n",
    "        self._name = name\n",
    "    \n",
    "    def __gt__(self, obj):\n",
    "        print('{}会比{}大吗？'.format(self._name, obj._name))\n",
    "        return self._name > obj._name\n",
    "    \n",
    "s1 = Student('a')\n",
    "s2 = Student('b')\n",
    "\n",
    "print(s1 > s2)"
   ]
  },
  {
   "cell_type": "markdown",
   "metadata": {},
   "source": [
    "# 10. 类和对象的三种方法\n",
    "- 实例方法\n",
    "    - 需要实例化对象才能使用的方法\n",
    "- 静态方法\n",
    "    - 不需要实例化，直接通过类名调用\n",
    "- 类方法\n",
    "    - 不需要实例化\n",
    "- 以上三种方法的内存使用方面的区别（todo）"
   ]
  },
  {
   "cell_type": "code",
   "execution_count": 62,
   "metadata": {},
   "outputs": [
    {
     "name": "stdout",
     "output_type": "stream",
     "text": [
      "<__main__.Person object at 0x7fe3774ca668>\n",
      "eat\n",
      "****************************************************************************************************\n",
      "<class '__main__.Person'>\n",
      "ply\n",
      "<class '__main__.Person'>\n",
      "ply\n",
      "****************************************************************************************************\n",
      "say\n",
      "say\n"
     ]
    }
   ],
   "source": [
    "# 三种方法的哪里\n",
    "class Person():\n",
    "    \n",
    "    # 实例方法\n",
    "    def eat(self):\n",
    "        print(self)\n",
    "        print('eat')\n",
    "        \n",
    "    # 类方法\n",
    "    @classmethod\n",
    "    def play(cls):\n",
    "        print(cls)\n",
    "        print('ply')\n",
    "        \n",
    "    # 静态方法\n",
    "    # 不需要第一个参数表示自身或类\n",
    "    @staticmethod\n",
    "    def say():\n",
    "        print('say')\n",
    "        \n",
    "p = Person()\n",
    "p.eat()\n",
    "print('*' * 100)\n",
    "\n",
    "p.play()\n",
    "Person.play()\n",
    "print('*' * 100)\n",
    "\n",
    "Person.say()\n",
    "p.say()"
   ]
  },
  {
   "cell_type": "markdown",
   "metadata": {},
   "source": [
    "# 11. 抽象类\n",
    "- 抽象方法：没有具体实现内容的方法称为抽象方法\n",
    "- 抽象方法的主要意义时规范子类的行为和结构\n",
    "- 抽象类的使用需要借助abc模块\n",
    "- 抽象类：包含抽象方法的类叫抽象类，同城称为ABC\n",
    "- 抽象类的使用：\n",
    "    - 抽象类可以包含抽象方法，也可以包含具体方法\n",
    "    - 抽象类中可以有方法也可以有属性\n",
    "    - 抽象类不允许直接实例化\n",
    "    - 必须被继承，且子类必须实现所有的抽象方法能被实例化\n",
    "    - 如果子类没有实现所有继承的抽象方法，则子类不能被实例化\n",
    "    - 抽象类的主要作用时设定类的标准，以便开发的时候具有统一的规范"
   ]
  },
  {
   "cell_type": "code",
   "execution_count": 65,
   "metadata": {},
   "outputs": [
    {
     "name": "stdout",
     "output_type": "stream",
     "text": [
      "dog\n",
      "cat\n"
     ]
    }
   ],
   "source": [
    "#  抽象类案例\n",
    "class Animal():\n",
    "    def sayHello(self):\n",
    "        pass\n",
    "    \n",
    "class Dog(Animal):\n",
    "    def sayHello(self):\n",
    "        print('dog')\n",
    "        \n",
    "class Cat(Animal):\n",
    "    def sayHello(self):\n",
    "        print('cat')\n",
    "        \n",
    "d = Dog()\n",
    "d.sayHello()\n",
    "c = Cat()\n",
    "c.sayHello()"
   ]
  },
  {
   "cell_type": "code",
   "execution_count": 69,
   "metadata": {},
   "outputs": [],
   "source": [
    "# 抽象类的实现\n",
    "import abc\n",
    "\n",
    "class Human(metaclass=abc.ABCMeta):\n",
    "    # 定义抽象方法\n",
    "    @abc.abstractmethod\n",
    "    def smok(self):\n",
    "        pass\n",
    "    \n",
    "    # 定义类抽象方法\n",
    "    @abc.abstractclassmethod\n",
    "    def drink():\n",
    "        pass\n",
    "    \n",
    "    # 定义静态抽象方法\n",
    "    @abc.abstractstaticmethod\n",
    "    def play():\n",
    "        pass\n",
    "    \n",
    "    # 定义具体方法\n",
    "    def sleep(self):\n",
    "        print('sllep')\n",
    "        \n",
    "# 抽象类不能被实例化\n",
    "# h = Human()"
   ]
  },
  {
   "cell_type": "markdown",
   "metadata": {},
   "source": [
    "# 12. 自定义类\n",
    "- 类其实是一个类定义和各种方法的自由组合\n",
    "- 可以定义类和函数，然后自己通过类直接赋值\n",
    "- 可以借助于MethodType实现\n",
    "- 借助于type实现\n",
    "- 利用元类实现- MetaClass\n",
    "    - 元类是类\n",
    "    - 被用来创造别的类"
   ]
  },
  {
   "cell_type": "code",
   "execution_count": 71,
   "metadata": {},
   "outputs": [
    {
     "name": "stdout",
     "output_type": "stream",
     "text": [
      "yy,你好\n",
      "cc,你好\n"
     ]
    }
   ],
   "source": [
    "# 函数可以当作变量使用\n",
    "def sayHello(name):\n",
    "    print('{},你好'.format(name))\n",
    "    \n",
    "sayHello('yy')\n",
    "\n",
    "f = sayHello\n",
    "f('cc')"
   ]
  },
  {
   "cell_type": "code",
   "execution_count": 75,
   "metadata": {},
   "outputs": [
    {
     "name": "stdout",
     "output_type": "stream",
     "text": [
      "say\n",
      "say\n",
      "say\n"
     ]
    }
   ],
   "source": [
    "# 自定义一个类-1\n",
    "class A():\n",
    "    pass\n",
    "\n",
    "def say(self):\n",
    "    print('say')\n",
    "    \n",
    "class B():\n",
    "    def say(self):\n",
    "        print('say')\n",
    "\n",
    "say(1)\n",
    "\n",
    "# 将方法say赋值的类A的say，\n",
    "# 注意，是直接赋值给类，而不是对象\n",
    "A.say = say \n",
    "a = A()\n",
    "a.say()\n",
    "\n",
    "b = B()\n",
    "b.say()"
   ]
  },
  {
   "cell_type": "code",
   "execution_count": 79,
   "metadata": {},
   "outputs": [
    {
     "name": "stdout",
     "output_type": "stream",
     "text": [
      "say\n"
     ]
    },
    {
     "ename": "AttributeError",
     "evalue": "'A' object has no attribute 'class_say'",
     "output_type": "error",
     "traceback": [
      "\u001b[0;31m---------------------------------------------------------------------------\u001b[0m",
      "\u001b[0;31mAttributeError\u001b[0m                            Traceback (most recent call last)",
      "\u001b[0;32m<ipython-input-79-2d79f2b3dcd7>\u001b[0m in \u001b[0;36m<module>\u001b[0;34m\u001b[0m\n\u001b[1;32m     12\u001b[0m \u001b[0ma\u001b[0m\u001b[0;34m.\u001b[0m\u001b[0msay\u001b[0m \u001b[0;34m=\u001b[0m \u001b[0mMethodType\u001b[0m\u001b[0;34m(\u001b[0m\u001b[0msay\u001b[0m\u001b[0;34m,\u001b[0m \u001b[0mA\u001b[0m\u001b[0;34m)\u001b[0m\u001b[0;34m\u001b[0m\u001b[0;34m\u001b[0m\u001b[0m\n\u001b[1;32m     13\u001b[0m \u001b[0ma\u001b[0m\u001b[0;34m.\u001b[0m\u001b[0msay\u001b[0m\u001b[0;34m(\u001b[0m\u001b[0;34m)\u001b[0m\u001b[0;34m\u001b[0m\u001b[0;34m\u001b[0m\u001b[0m\n\u001b[0;32m---> 14\u001b[0;31m \u001b[0ma\u001b[0m\u001b[0;34m.\u001b[0m\u001b[0mclass_say\u001b[0m\u001b[0;34m(\u001b[0m\u001b[0;34m)\u001b[0m\u001b[0;34m\u001b[0m\u001b[0;34m\u001b[0m\u001b[0m\n\u001b[0m",
      "\u001b[0;31mAttributeError\u001b[0m: 'A' object has no attribute 'class_say'"
     ]
    }
   ],
   "source": [
    "# 自定义一个类-2\n",
    "from types import MethodType\n",
    "\n",
    "class A():\n",
    "    pass\n",
    "\n",
    "def say(self):\n",
    "    print('say')\n",
    "    \n",
    "a = A()\n",
    "# 此处是将MethodType的结果赋值给对象\n",
    "a.say = MethodType(say, A)\n",
    "a.say()\n",
    "a.class_say()"
   ]
  },
  {
   "cell_type": "code",
   "execution_count": 83,
   "metadata": {},
   "outputs": [
    {
     "name": "stdout",
     "output_type": "stream",
     "text": [
      "['__class__', '__delattr__', '__dict__', '__dir__', '__doc__', '__eq__', '__format__', '__ge__', '__getattribute__', '__gt__', '__hash__', '__init__', '__init_subclass__', '__le__', '__lt__', '__module__', '__ne__', '__new__', '__reduce__', '__reduce_ex__', '__repr__', '__setattr__', '__sizeof__', '__str__', '__subclasshook__', '__weakref__', 'class_say', 'class_talk']\n",
      "say\n"
     ]
    }
   ],
   "source": [
    "# 自定义一个类-3\n",
    "# 先定义类应该具有的成员函数\n",
    "def say(self):\n",
    "    print('say')\n",
    "    \n",
    "def talk(self):\n",
    "    print('talk')\n",
    "    \n",
    "# 用type来创建一个类\n",
    "A = type('AName', (object,), {'class_say': say, 'class_talk': talk})\n",
    "\n",
    "a = A()\n",
    "print(dir(a))\n",
    "a.class_say()"
   ]
  },
  {
   "cell_type": "code",
   "execution_count": 85,
   "metadata": {},
   "outputs": [
    {
     "name": "stdout",
     "output_type": "stream",
     "text": [
      "i am metaclass\n",
      "00000\ttest\n"
     ]
    }
   ],
   "source": [
    "# 元类案例\n",
    "# 元类写法是固定的，必须继承自type\n",
    "# 元类一般命名以MetaClass结尾\n",
    "class TestMetaClass(type):\n",
    "    def __new__(cls, name, bases, attrs):\n",
    "        print('i am metaclass')\n",
    "        attrs['id'] = '00000'\n",
    "        attrs['name'] = 'test'\n",
    "        return type.__new__(cls, name, bases, attrs)\n",
    "    \n",
    "class Teacher(object, metaclass=TestMetaClass):\n",
    "    pass\n",
    "\n",
    "t = Teacher()\n",
    "print(t.id, t.name, sep='\\t')"
   ]
  },
  {
   "cell_type": "code",
   "execution_count": null,
   "metadata": {},
   "outputs": [],
   "source": []
  }
 ],
 "metadata": {
  "kernelspec": {
   "display_name": "Python 3",
   "language": "python",
   "name": "python3"
  },
  "language_info": {
   "codemirror_mode": {
    "name": "ipython",
    "version": 3
   },
   "file_extension": ".py",
   "mimetype": "text/x-python",
   "name": "python",
   "nbconvert_exporter": "python",
   "pygments_lexer": "ipython3",
   "version": "3.6.7"
  }
 },
 "nbformat": 4,
 "nbformat_minor": 2
}
