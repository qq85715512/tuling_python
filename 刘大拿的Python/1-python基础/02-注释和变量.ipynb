{
 "cells": [
  {
   "cell_type": "markdown",
   "metadata": {},
   "source": [
    "# 环境安装\n",
    "- 推荐Virtualbox + Ubuntu\n",
    "- 套件推荐 Anaconda3+pycharm\n",
    "- 如果机器内存大于4G，推荐虚拟机下启动系统\n",
    "- 小于4G的话，推荐用Windows下的 Anaconda+pycharm"
   ]
  },
  {
   "cell_type": "code",
   "execution_count": 1,
   "metadata": {},
   "outputs": [
    {
     "name": "stdout",
     "output_type": "stream",
     "text": [
      "Hello world\n"
     ]
    },
    {
     "data": {
      "text/plain": [
       "'\\n这里边任何内容机器都不管了\\n我可以写好多\\n好多\\n'"
      ]
     },
     "execution_count": 1,
     "metadata": {},
     "output_type": "execute_result"
    }
   ],
   "source": [
    "# 代码的作用\n",
    "# 1. 给人看\n",
    "# 2. 给机器看\n",
    "# 注释是纯给人看的内容\n",
    "print(\"Hello world\") #打印hellow world出来\n",
    "'''\n",
    "这里边任何内容机器都不管了\n",
    "我可以写好多\n",
    "好多\n",
    "'''"
   ]
  },
  {
   "cell_type": "markdown",
   "metadata": {},
   "source": [
    "# 注释\n",
    "- 机器不去执行注释内容\n",
    "- 注释一般用自然语言书写\n",
    "- 注释的写法：\n",
    "    - 行注释： 以井号开头，可以单独行，也可以在某行代码后边\n",
    "    - 块注释： 好几行代码或者内容，以三个连续单引号或双引号开始和结束，中间任何内容机器都忽略"
   ]
  },
  {
   "cell_type": "markdown",
   "metadata": {},
   "source": [
    "# 变量\n",
    "- 程序=数据结构+算法\n",
    "- 变量就是可以重复使用的一个量，或者叫一个代号\n",
    "- 变量命名的规则\n",
    "    - 变量命名可以包含数字，大小写字母，下划线或者更多，但是我们不推荐除了前三种内容之外的符号\n",
    "    - 数字不可以打头\n",
    "        - 4man, 5for 是不可以的\n",
    "        - man4, for5是可以的\n",
    "    - 一般在python中，以下划线开头的内容具有特殊含义，不建议使用\n",
    "    - 比如 _age, _name，理论可以，但强烈不推荐，包括但不限于一个下划线开头和两个连续下划线开头\n",
    "    - 大小写不一样，俗称大小写敏感\n",
    "        - ForMan 跟 forMan不是一个变量名称\n",
    "    - 推荐：\n",
    "        - 使用具有固定含义的英文单词或者缩写， srv=server skt=socket,**一般以posix命名规则为主**\n",
    "            - 驼峰命名法，名称以单词自动连接，且每个单词首字母大写\n",
    "                - 大驼峰，每个单词第一个字母均大写\n",
    "                    - 在Python中给类命名使用此法\n",
    "                - 小驼峰，类似大驼峰，但第一个字母小写\n",
    "                    - 在Python中一般给普通变量或者函数命名\n",
    "            - posix写法\n",
    "                - 多个单词用下划线链接\n",
    "                - 单词全部小写\n",
    "    - 保留字和关键字\n",
    "        - 变量命名必须避开，不能跟关键字和保留字重复\n",
    "        - class， def， break，for"
   ]
  },
  {
   "cell_type": "code",
   "execution_count": 3,
   "metadata": {},
   "outputs": [
    {
     "name": "stdout",
     "output_type": "stream",
     "text": [
      "['False', 'None', 'True', 'and', 'as', 'assert', 'break', 'class', 'continue', 'def', 'del', 'elif', 'else', 'except', 'finally', 'for', 'from', 'global', 'if', 'import', 'in', 'is', 'lambda', 'nonlocal', 'not', 'or', 'pass', 'raise', 'return', 'try', 'while', 'with', 'yield']\n",
      "True\n"
     ]
    }
   ],
   "source": [
    "# 查看python中的关键字\n",
    "import keyword\n",
    "\n",
    "# 打印出系统全部的关键字\n",
    "print(keyword.kwlist)\n",
    "\n",
    "# 判断一个字符串是否为python 关键字\n",
    "print(keyword.iskeyword(\"class\"))"
   ]
  },
  {
   "cell_type": "markdown",
   "metadata": {},
   "source": [
    "# 变量声明\n",
    "- var_name = var_value\n",
    "- var1 = var2 = var3 = value\n",
    "- va1, var2 = v1, v2"
   ]
  },
  {
   "cell_type": "code",
   "execution_count": 7,
   "metadata": {},
   "outputs": [
    {
     "name": "stdout",
     "output_type": "stream",
     "text": [
      "18\n",
      "a=18, b=18, c=18\n",
      "a=12, b=14, c=16\n"
     ]
    }
   ],
   "source": [
    "# 定义变脸age，把18赋值给age\n",
    "age = 18\n",
    "print(age)\n",
    "\n",
    "# 给a,b,c同时赋值18\n",
    "a = b = c =18\n",
    "print(\"a={}, b={}, c={}\".format(a, b, c))\n",
    "\n",
    "# 一行内给多个变量赋值\n",
    "\n",
    "a, b, c = 12, 14, 16\n",
    "print(\"a={}, b={}, c={}\".format(a, b, c))"
   ]
  },
  {
   "cell_type": "markdown",
   "metadata": {},
   "source": [
    "# 变量类型\n",
    "- 严格意义上讲，python只有一个类型\n",
    "- 标准数据一共六种\n",
    "    - 数值类型Number：整型和浮点型\n",
    "    - 字符串类型str\n",
    "    - 列表list\n",
    "    - 元组tuple\n",
    "    - 字典dictionary\n",
    "    - 集合set"
   ]
  },
  {
   "cell_type": "markdown",
   "metadata": {},
   "source": [
    "# Number类型\n",
    "- 数值类型没有大小限制\n",
    "- 数值型的分类\n",
    "    - 整型\n",
    "    - 浮点型\n",
    "        - 常规小数\n",
    "        - 科学计数法\n",
    "    - 复数\n",
    "    - 布尔值"
   ]
  },
  {
   "cell_type": "markdown",
   "metadata": {},
   "source": [
    "\n",
    "## 整数\n",
    "- 没有小数部分，表示个数的数值\n",
    "- 整数的进制分类\n",
    "    - 二进制\n",
    "        - 计算机常用\n",
    "        - 是计算机唯一能直接理解的数字\n",
    "        - 表示为0b开头的0,1串\n",
    "        - 例如0b001\n",
    "    - 八进制\n",
    "        - 以0o开头的0~7的串\n",
    "    - 十进制\n",
    "    - 十六进制\n",
    "        - 以0x开头的0~9,a-f的串\n",
    "        - 每一位可以表示四位二进制"
   ]
  },
  {
   "cell_type": "code",
   "execution_count": 16,
   "metadata": {},
   "outputs": [
    {
     "name": "stdout",
     "output_type": "stream",
     "text": [
      "23\n",
      "3756\n",
      "695245\n"
     ]
    }
   ],
   "source": [
    "# 二进制\n",
    "a = 0b010111\n",
    "print(a)\n",
    "\n",
    "# 八进制\n",
    "b = 0o7254\n",
    "print(b)\n",
    "\n",
    "# 十六进制\n",
    "c = 0xa9bcd\n",
    "print(c)"
   ]
  },
  {
   "cell_type": "markdown",
   "metadata": {},
   "source": [
    "\n",
    "## 浮点数\n",
    "- 常规小数格式\n",
    "    - 3.0\n",
    "    - .3\n",
    "    - 3.\n",
    "    - 0.3\n",
    "\n",
    "- 科学计数法\n",
    "    - e/E后面跟整数标志10的指数\n",
    "    - 172.31 = 1.7231e2\n",
    "    - 0.12 = 12e-2         "
   ]
  },
  {
   "cell_type": "code",
   "execution_count": 11,
   "metadata": {},
   "outputs": [
    {
     "name": "stdout",
     "output_type": "stream",
     "text": [
      "0.02, 0.2, 3.0\n"
     ]
    }
   ],
   "source": [
    "# 浮点型案例\n",
    "a = 2e-2\n",
    "b = .2\n",
    "c = 3.\n",
    "print(\"{}, {}, {}\".format(a, b, c))"
   ]
  },
  {
   "cell_type": "markdown",
   "metadata": {},
   "source": [
    "## 复数 complex\n",
    "- 与数学定义一样\n",
    "- 复数的虚部j/J表示\n",
    "- 例如：\n",
    "   - 5 + 4j\n",
    "   - 4j\n",
    "   - (4j)"
   ]
  },
  {
   "cell_type": "code",
   "execution_count": 18,
   "metadata": {
    "scrolled": true
   },
   "outputs": [
    {
     "name": "stdout",
     "output_type": "stream",
     "text": [
      "(5+4j)\n"
     ]
    }
   ],
   "source": [
    "a = 5 + 4j\n",
    "print(a)"
   ]
  },
  {
   "cell_type": "markdown",
   "metadata": {},
   "source": [
    "## 布尔值\n",
    "- 布尔值用来表示真假的值\n",
    "- 只有两个值：True和False\n",
    "- python中，布尔值与数值可以互相使用\n",
    "    - 布尔值当作数值使用：True = 1， False = 0\n",
    "    - 数值当作布尔值使用：其他 = True,  0 = False"
   ]
  },
  {
   "cell_type": "code",
   "execution_count": 24,
   "metadata": {},
   "outputs": [
    {
     "name": "stdout",
     "output_type": "stream",
     "text": [
      "2\n",
      "1\n"
     ]
    }
   ],
   "source": [
    "# 布尔值当作数值使用\n",
    "a = 1  + True\n",
    "print(a)\n",
    "\n",
    "b = 1 + False\n",
    "print(b)"
   ]
  },
  {
   "cell_type": "code",
   "execution_count": 23,
   "metadata": {},
   "outputs": [
    {
     "name": "stdout",
     "output_type": "stream",
     "text": [
      "0.1 是真\n",
      "-1 也是真\n"
     ]
    }
   ],
   "source": [
    "# 数值当作布尔值使用\n",
    "\n",
    "if 0.1:\n",
    "    print('0.1 是真')\n",
    "if -1:\n",
    "    print('-1 也是真')\n",
    "if 0:\n",
    "    print('0 是假')"
   ]
  },
  {
   "cell_type": "markdown",
   "metadata": {},
   "source": [
    "# 字符串\n",
    "- 表达文字信息的内容\n",
    "- 形式上，使用引号引起来的一段内容\n",
    "    - 单引号\n",
    "    - 双引号\n",
    "    - 三引号，用来表示多行信息\n",
    "- python 中单双引号含义一致"
   ]
  },
  {
   "cell_type": "code",
   "execution_count": 26,
   "metadata": {},
   "outputs": [
    {
     "name": "stdout",
     "output_type": "stream",
     "text": [
      "I love songmengzhao\n",
      "I love songmengzhao\n",
      "\n",
      "I\n",
      "love\n",
      "songmengzhao\n",
      "\n",
      "\n",
      "I\n",
      "love\n",
      "songmnegzhao\n",
      "\n"
     ]
    }
   ],
   "source": [
    "# 字符串案例\n",
    "love = 'I love songmengzhao'\n",
    "print(love)\n",
    "\n",
    "love1 = \"I love songmengzhao\"\n",
    "print(love1)\n",
    "\n",
    "love2 = '''\n",
    "I\n",
    "love\n",
    "songmengzhao\n",
    "'''\n",
    "print(love2)\n",
    "\n",
    "love3 = \"\"\"\n",
    "I\n",
    "love\n",
    "songmnegzhao\n",
    "\"\"\"\n",
    "print(love3)"
   ]
  },
  {
   "cell_type": "markdown",
   "metadata": {},
   "source": [
    "## None类型\n",
    "- 表示没有，用来占位\n",
    "- 函数返回，用来表示一个空"
   ]
  },
  {
   "cell_type": "markdown",
   "metadata": {},
   "source": [
    "# 表达式\n",
    "- 又一个或多个数字或变量或运算符合成的一行代码\n",
    "- 通常返回一个结果"
   ]
  },
  {
   "cell_type": "code",
   "execution_count": 55,
   "metadata": {},
   "outputs": [],
   "source": [
    "# 表达式案例\n",
    "a = 1 + 1"
   ]
  }
 ],
 "metadata": {
  "kernelspec": {
   "display_name": "Python 3",
   "language": "python",
   "name": "python3"
  },
  "language_info": {
   "codemirror_mode": {
    "name": "ipython",
    "version": 3
   },
   "file_extension": ".py",
   "mimetype": "text/x-python",
   "name": "python",
   "nbconvert_exporter": "python",
   "pygments_lexer": "ipython3",
   "version": "3.6.7"
  }
 },
 "nbformat": 4,
 "nbformat_minor": 2
}
