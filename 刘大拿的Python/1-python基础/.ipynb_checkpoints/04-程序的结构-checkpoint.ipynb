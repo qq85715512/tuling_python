{
 "cells": [
  {
   "cell_type": "code",
   "execution_count": null,
   "metadata": {},
   "outputs": [],
   "source": []
  },
  {
   "cell_type": "markdown",
   "metadata": {},
   "source": [
    "# 程序结构\n",
    "- 程序的三种结构\n",
    "    - 顺序\n",
    "    - 循环\n",
    "    - 分支"
   ]
  },
  {
   "cell_type": "markdown",
   "metadata": {},
   "source": [
    "# 分支结构\n",
    "- 单项分支结构基本语法    \n",
    "        \n",
    "        if 条件表达式:\n",
    "            语句1\n",
    "            ……\n",
    "        \n",
    "- 双向分支结构\n",
    "       \n",
    "       if 条件表达式:\n",
    "            语句1\n",
    "            ……\n",
    "        else:\n",
    "            语句1\n",
    "            ……\n",
    "        \n",
    "- 多向分支结构\n",
    "\n",
    "        if 条件表达式1:\n",
    "            语句1\n",
    "            ……\n",
    "        elif 条件表达式2:\n",
    "            语句1\n",
    "            ……\n",
    "        elif 条件表达式3:\n",
    "            语句1\n",
    "            ……\n",
    "        else:\n",
    "            语句1\n",
    "            ……\n",
    "      \n",
    "- 条件表达式的值必须是布尔值（数字和布尔值可以自动互换），为True则执行后面的语句块\n",
    "- 表达式后面的冒号不能少\n",
    "- if后面如果是语句块，必须缩进\n",
    "- python中没有switch语句"
   ]
  },
  {
   "cell_type": "code",
   "execution_count": 3,
   "metadata": {},
   "outputs": [
    {
     "name": "stdout",
     "output_type": "stream",
     "text": [
      "字符串“是”表示布尔值真\n",
      "字符串\"\"表示布尔值假\n"
     ]
    }
   ],
   "source": [
    "# if案例1\n",
    "# 字符串只要有内容，不为空字符串都表示为布尔值真\n",
    "a = '是'\n",
    "if a:\n",
    "    print('字符串“是”表示布尔值真')\n",
    "\n",
    "b = ''\n",
    "if b:\n",
    "    print('字符串\"\"表示布尔值真')\n",
    "print('字符串\"\"表示布尔值假')\n"
   ]
  },
  {
   "cell_type": "code",
   "execution_count": 4,
   "metadata": {},
   "outputs": [
    {
     "name": "stdout",
     "output_type": "stream",
     "text": [
      "字符串\"\"表示布尔值假\n"
     ]
    }
   ],
   "source": [
    "# if案例2\n",
    "a = ''\n",
    "if a:\n",
    "    print('字符串\"\"表示布尔值真')\n",
    "else:\n",
    "    print('字符串\"\"表示布尔值假')"
   ]
  },
  {
   "cell_type": "code",
   "execution_count": 8,
   "metadata": {},
   "outputs": [
    {
     "name": "stdout",
     "output_type": "stream",
     "text": [
      "请输入你的性别，male or female：male\n",
      "汉子，你好\n"
     ]
    }
   ],
   "source": [
    "# if案例3\n",
    "# input的作用\n",
    "# 1. 在屏幕上输出括号内的字符串\n",
    "# 2. 接受用户输入的内容返回到程序中\n",
    "# 3. input返回一个字符串\n",
    "gender = input('请输入你的性别，male or female：')\n",
    "if gender == 'male':\n",
    "    print('汉子，你好')\n",
    "elif gender == 'female':\n",
    "    print('妹子，你好')\n",
    "else:\n",
    "    print('不好意思，你不男不女')"
   ]
  },
  {
   "cell_type": "code",
   "execution_count": 13,
   "metadata": {},
   "outputs": [
    {
     "name": "stdout",
     "output_type": "stream",
     "text": [
      "请输入你的成绩：77\n",
      "中\n"
     ]
    }
   ],
   "source": [
    "# if练习：成绩判断\n",
    "# 90以上：优秀\n",
    "# 80 - 90 ：良\n",
    "# 70 - 80 ：中\n",
    "#  60 -70：平\n",
    "#  60：滚\n",
    "score = int(input('请输入你的成绩：'))\n",
    "if score >= 90:\n",
    "    print('优秀')\n",
    "elif score >= 80:\n",
    "    print('良')\n",
    "elif score >= 70:\n",
    "    print('中')\n",
    "elif score >= 60:\n",
    "    print('平')\n",
    "else:\n",
    "    print('滚')\n"
   ]
  },
  {
   "cell_type": "markdown",
   "metadata": {},
   "source": [
    "# 循环结构\n",
    "- 重复执行某一个固定的工作或者任务\n",
    "- 分类\n",
    "    - for\n",
    "    - while\n",
    "    \n",
    "## for循环\n",
    "- 语法\n",
    "        for 变量 in 序列:\n",
    "            语句1\n",
    "            ……\n",
    "        [else:]\n",
    "            语句1\n",
    "            ……\n",
    "- for循环可以和else配合使用，所有循环结束后，执行else后面的语句块"
   ]
  },
  {
   "cell_type": "code",
   "execution_count": 17,
   "metadata": {},
   "outputs": [
    {
     "name": "stdout",
     "output_type": "stream",
     "text": [
      "1\n",
      "2\n",
      "3\n",
      "4\n",
      "5\n",
      "****************************************************************************************************\n",
      "2\n",
      "4\n",
      "其他\n"
     ]
    }
   ],
   "source": [
    "#  for案例\n",
    "l = [1, 2, 3, 4, 5]\n",
    "for i in l:\n",
    "    print(i)\n",
    "\n",
    "print('*' * 100)\n",
    "\n",
    "# 打印列表中的所有偶数\n",
    "# for与else联用\n",
    "for i in l:\n",
    "    if i % 2 == 0:\n",
    "        print(i)\n",
    "else:\n",
    "    print('其他')"
   ]
  },
  {
   "cell_type": "markdown",
   "metadata": {},
   "source": [
    "## while循环\n",
    "- 表示当条件成立是时候，就循环。适应于不知道具体循环次数，但能确定在某个条件成立时就执行循环\n",
    "- 语法\n",
    "        while 条件表达式:\n",
    "            语句1\n",
    "            ……\n",
    "            [变更条件表达式]\n",
    "- while循环也可以和else配合使用，所有循环结束后，执行else后面的语句块"
   ]
  },
  {
   "cell_type": "code",
   "execution_count": 3,
   "metadata": {},
   "outputs": [
    {
     "name": "stdout",
     "output_type": "stream",
     "text": [
      "第 1 年，总本息为 10670.0\n",
      "第 2 年，总本息为 11384.89\n",
      "第 3 年，总本息为 12147.677629999998\n",
      "第 4 年，总本息为 12961.572031209998\n",
      "第 5 年，总本息为 13829.997357301068\n",
      "第 6 年，总本息为 14756.607180240238\n",
      "第 7 年，总本息为 15745.299861316334\n",
      "第 8 年，总本息为 16800.23495202453\n",
      "第 9 年，总本息为 17925.85069381017\n",
      "第 10 年，总本息为 19126.88269029545\n",
      "第 11 年，总本息为 20408.383830545245\n",
      "11年后本金翻倍\n"
     ]
    }
   ],
   "source": [
    "# while 语句案例\n",
    "# 年化利率时6.7%，多少年后本金能翻倍，本金是10000\n",
    "principal = 10000\n",
    "year = 0\n",
    "while principal < 20000:\n",
    "    principal *= 1.067\n",
    "    year += 1\n",
    "    print('第 {} 年，总本息为 {}'.format(year, principal))\n",
    "else:\n",
    "    print('{}年后本金翻倍'.format(year))"
   ]
  },
  {
   "cell_type": "markdown",
   "metadata": {},
   "source": [
    "## break, comtinue, pass\n",
    "- break：无条件结束整个循环，简称循环猝死\n",
    "- continue：无条件结束当前循环，继续下一轮循环\n",
    "- pass：占位作用，表示啥也不干。比如还没确定函数体或代码块具体内容时，可以使用占位符"
   ]
  },
  {
   "cell_type": "code",
   "execution_count": 4,
   "metadata": {},
   "outputs": [
    {
     "name": "stdout",
     "output_type": "stream",
     "text": [
      "7\n"
     ]
    }
   ],
   "source": [
    "# break案例\n",
    "# 顺序查找列表，遇到元素7，打印并终止整个循环\n",
    "l = [1, 3, 7, 6, 2, 54, 8]\n",
    "for i in l:\n",
    "    if i == 7:\n",
    "        print(i)\n",
    "        break"
   ]
  },
  {
   "cell_type": "code",
   "execution_count": 9,
   "metadata": {},
   "outputs": [
    {
     "name": "stdout",
     "output_type": "stream",
     "text": [
      "6\n",
      "2\n",
      "54\n",
      "8\n"
     ]
    }
   ],
   "source": [
    "# continue案例\n",
    "# 顺序查找列表里，打印所有偶数，遇到奇数跳过\n",
    "l = [1, 3, 7, 6, 2, 54, 8]\n",
    "for i in l:\n",
    "    if i % 2 != 0:\n",
    "        continue\n",
    "    print(i)\n",
    "    \n",
    "l = [1, 3, 7, 6, 2, 54, 8]\n",
    "for i in l:\n",
    "    if i % 2 == 0:\n",
    "        print(1)\n",
    "    else:\n",
    "        continue"
   ]
  },
  {
   "cell_type": "code",
   "execution_count": 7,
   "metadata": {},
   "outputs": [],
   "source": [
    "# pass案例\n",
    "# 以下案例中，如果没有使用pass占位什么都不写的话，将执行报错\n",
    "def a():\n",
    "    pass\n",
    "\n",
    "if 2 > 1:\n",
    "    pass\n",
    "\n",
    "a()"
   ]
  },
  {
   "cell_type": "markdown",
   "metadata": {},
   "source": [
    "## range\n",
    "- 生成有序数列\n",
    "- 序列为左闭右开[m, n)\n",
    "- 在python中，连个表示范围的数字都时左闭右开，randint是个特例"
   ]
  },
  {
   "cell_type": "code",
   "execution_count": 17,
   "metadata": {},
   "outputs": [
    {
     "name": "stdout",
     "output_type": "stream",
     "text": [
      "1\n",
      "2\n",
      "2\n"
     ]
    }
   ],
   "source": [
    "# range案例\n",
    "for i in range(1, 3):\n",
    "    print(i)\n",
    "\n",
    "# randint 案例\n",
    "from random import randint\n",
    "i = randint(1, 2)\n",
    "print(i)"
   ]
  }
 ],
 "metadata": {
  "kernelspec": {
   "display_name": "Python 3",
   "language": "python",
   "name": "python3"
  },
  "language_info": {
   "codemirror_mode": {
    "name": "ipython",
    "version": 3
   },
   "file_extension": ".py",
   "mimetype": "text/x-python",
   "name": "python",
   "nbconvert_exporter": "python",
   "pygments_lexer": "ipython3",
   "version": "3.6.7"
  }
 },
 "nbformat": 4,
 "nbformat_minor": 2
}
