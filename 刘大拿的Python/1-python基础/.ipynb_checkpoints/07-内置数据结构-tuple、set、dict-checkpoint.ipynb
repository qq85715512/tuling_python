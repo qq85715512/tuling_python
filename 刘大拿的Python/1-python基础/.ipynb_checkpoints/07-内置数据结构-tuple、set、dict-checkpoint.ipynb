{
 "cells": [
  {
   "cell_type": "markdown",
   "metadata": {},
   "source": [
    "# tuple\n",
    "- 元组可以看成是一个不可更改的list\n",
    "- 不可更改的元组中的元素\n",
    "- 元组可以索引、分片、+、*等操作"
   ]
  },
  {
   "cell_type": "code",
   "execution_count": 3,
   "metadata": {},
   "outputs": [
    {
     "name": "stdout",
     "output_type": "stream",
     "text": [
      "<class 'int'>\n",
      "<class 'tuple'>\n"
     ]
    }
   ],
   "source": [
    "# 元组的创建\n",
    "t1 = tuple()\n",
    "\n",
    "# 当只有一个元素时，需要加上“,”，否则创建的是int\n",
    "i = (1)\n",
    "t2 = (1,)\n",
    "print(type(i))\n",
    "print(type(t2))\n",
    "t3 = (1, 2, 3)\n",
    "\n",
    "# 不用括号也可以创建元组\n",
    "t4 = 1,\n",
    "t5 = 1, 2, 3\n",
    "\n",
    "# 使用其他结构来创建元组\n",
    "l = [1, 2, 3]\n",
    "t6 = tuple(l)"
   ]
  },
  {
   "cell_type": "markdown",
   "metadata": {},
   "source": [
    "# tuple变量交换\n",
    "- 两个变量交换值"
   ]
  },
  {
   "cell_type": "code",
   "execution_count": 4,
   "metadata": {},
   "outputs": [
    {
     "name": "stdout",
     "output_type": "stream",
     "text": [
      "1\n",
      "2\n",
      "********************\n",
      "2\n",
      "1\n"
     ]
    }
   ],
   "source": [
    "a = 1\n",
    "b = 2\n",
    "print(a)\n",
    "print(b)\n",
    "print('*' * 20)\n",
    "\n",
    "a, b = b, a\n",
    "print(a)\n",
    "print(b)"
   ]
  },
  {
   "cell_type": "markdown",
   "metadata": {},
   "source": [
    "# set\n",
    "- 集合是高中数学的一个概念\n",
    "- 一组确定的、无序、不重复的数据组合"
   ]
  },
  {
   "cell_type": "code",
   "execution_count": 6,
   "metadata": {},
   "outputs": [
    {
     "name": "stdout",
     "output_type": "stream",
     "text": [
      "<class 'set'>\n",
      "<class 'set'>\n",
      "<class 'dict'>\n"
     ]
    }
   ],
   "source": [
    "# 集合的定义\n",
    "s = set()\n",
    "print(type(s))\n",
    "\n",
    "s = {1, 2, 3, 4, 5}\n",
    "print(type(s))\n",
    "\n",
    "# 如果使用花括号来定义集合，必须要包含元素\n",
    "# 否则创建的数据类型是dict(字典)\n",
    "s = {}\n",
    "print(type(s))"
   ]
  },
  {
   "cell_type": "markdown",
   "metadata": {},
   "source": [
    "## set的特征\n",
    "- 集合内部数据无序，即无法使用索引和分片\n",
    "- 集合内部数据唯一不重复，因此可以用来排重\n",
    "- 集合内的数据，必须是可哈希数据，如str、int、float、tuple、frozenset等，list和dict是不可哈希的"
   ]
  },
  {
   "cell_type": "markdown",
   "metadata": {},
   "source": [
    "## set相关操作\n",
    "- 成员检测、遍历、内涵等操作同list\\tuple"
   ]
  },
  {
   "cell_type": "markdown",
   "metadata": {},
   "source": [
    "## set函数\n",
    "- 统计函数\n",
    "    - len、min、max等通用\n",
    "- 操作函数\n",
    "    - set(param)：构造函数，传入可迭代的参数如list\\tuple等\n",
    "    - add(el)：添加元素\n",
    "    - clear()：清空集合\n",
    "    - copy()：拷贝\n",
    "    - remove(el)：删除指定值，不存在会报错\n",
    "    - discard(el)：删除指定值，不存在不会报错\n",
    "    - pop()：随机删除一个元素\n",
    "- 集合函数\n",
    "    - intersection(otherset)：交集\n",
    "    - difference(otherset)：差集等同\"-\"操作\n",
    "    - union(otherset)：并集\n",
    "    - issubset(otherset)：检查集合是否为另一个集合的子集\n",
    "    - issuperset(otherset)：坚持集合是否为另一个集合的超集"
   ]
  },
  {
   "cell_type": "code",
   "execution_count": 13,
   "metadata": {},
   "outputs": [
    {
     "name": "stdout",
     "output_type": "stream",
     "text": [
      "{1, 2, 3, 4}\n",
      "{0.1, 1, 2, 3, 4}\n",
      "{0.1, 1, 2, 3, 4, 5, 5.532, 'a'}\n",
      "{1, 2, 3, 4, 5, 5.532, 'a'}\n"
     ]
    }
   ],
   "source": [
    "# 操作函数\n",
    "# 构造函数会自动对参数中的重复元素去重\n",
    "l = [1, 1, 2, 2, 3, 4]\n",
    "s = set(l)\n",
    "print(s)\n",
    "\n",
    "t = 0.1, 1, 1, 2, 2, 3, 4\n",
    "s = set(t)\n",
    "print(s)\n",
    "\n",
    "# 添加已存在的元素，不会导致变化\n",
    "s.add(1)\n",
    "\n",
    "# 添加未有的函数\n",
    "s.add(5)\n",
    "s.add('a')\n",
    "s.add(5.532)\n",
    "print(s)\n",
    "\n",
    "s.pop()\n",
    "print(s)\n"
   ]
  },
  {
   "cell_type": "code",
   "execution_count": 17,
   "metadata": {},
   "outputs": [
    {
     "name": "stdout",
     "output_type": "stream",
     "text": [
      "{5, 6}\n",
      "{1, 2, 3, 4}\t{1, 2, 3, 4}\n",
      "{1, 2, 3, 4, 5, 6, 7, 8}\n",
      "True\n",
      "True\n"
     ]
    }
   ],
   "source": [
    "# 集合函数\n",
    "s1 = {1, 2, 3, 4, 5, 6}\n",
    "s2 = {5, 6, 7, 8}\n",
    "\n",
    "# 交集\n",
    "s_1 = s1.intersection(s2)\n",
    "print(s_1)\n",
    "\n",
    "# 差集\n",
    "s_2 = s1.difference(s2)\n",
    "s_2_0 = s1 - s2\n",
    "print(s_2, s_2_0, sep='\\t')\n",
    "\n",
    "# 并集\n",
    "s_3 = s1.union(s2)\n",
    "print(s_3)\n",
    "\n",
    "print(s_1.issubset(s1))\n",
    "print(s_3.issuperset(s1))"
   ]
  },
  {
   "cell_type": "markdown",
   "metadata": {},
   "source": [
    "## frezonset-冰冻集合\n",
    "- 冰冻集合就是不可以进行任何修改的集合\n",
    "- 冰冻集合是一种特殊的集合"
   ]
  },
  {
   "cell_type": "markdown",
   "metadata": {},
   "source": [
    "# dict\n",
    "- 字典是一种组合数据，没有顺序，一键值对形式出现"
   ]
  },
  {
   "cell_type": "code",
   "execution_count": 6,
   "metadata": {},
   "outputs": [
    {
     "name": "stdout",
     "output_type": "stream",
     "text": [
      "{}\n",
      "{}\n",
      "{'one': 1, 'two': 2, 'three': 3}\n",
      "{'one': 1, 'two': 2, 'three': 3}\n"
     ]
    }
   ],
   "source": [
    "# 字典的声明创建\n",
    "# 空字典\n",
    "d = {}\n",
    "print(d)\n",
    "d = dict()\n",
    "print(d)\n",
    "\n",
    "# 常规建法\n",
    "d = {\"one\": 1, \"two\": 2, \"three\": 3}\n",
    "print(d)\n",
    "\n",
    "# 使用元组列表创建\n",
    "d = dict([(\"one\", 1), (\"two\",2), (\"three\", 3)])\n",
    "print(d)"
   ]
  },
  {
   "cell_type": "markdown",
   "metadata": {},
   "source": [
    "## dict特征\n",
    "- 字典是无序的，没有索引和分片\n",
    "- 字典的数据是由键值对组成的\n",
    "    - key：必须是可哈希的值，如int、str、float、tuple等；list、set、dict不行\n",
    "    - value：任何值"
   ]
  },
  {
   "cell_type": "markdown",
   "metadata": {},
   "source": [
    "## dict常见操作"
   ]
  },
  {
   "cell_type": "code",
   "execution_count": 11,
   "metadata": {},
   "outputs": [
    {
     "name": "stdout",
     "output_type": "stream",
     "text": [
      "1\n",
      "1\n",
      "0\n"
     ]
    }
   ],
   "source": [
    "# 访问数据\n",
    "d = {\"one\": 1, \"two\": 2, \"three\": 3}\n",
    "\n",
    "# 如果key不存在会报错\n",
    "print(d[\"one\"])\n",
    "#print(d[\"four\"])\n",
    "\n",
    "# 使用get即使key不存在也不会报错\n",
    "# 也可以返回默认值\n",
    "print(d.get(\"one\"))\n",
    "print(d.get(\"four\", 0))"
   ]
  },
  {
   "cell_type": "code",
   "execution_count": 12,
   "metadata": {},
   "outputs": [
    {
     "name": "stdout",
     "output_type": "stream",
     "text": [
      "key\n"
     ]
    }
   ],
   "source": [
    "# 成员检测：in 、ont in\n",
    "# 成员检测检测的是key内容\n",
    "d = {\"one\": 1, \"two\": 2, \"three\": 3}\n",
    "\n",
    "if 2 in d:\n",
    "    print(\"value\")\n",
    "    \n",
    "if \"two\" in d:\n",
    "    print(\"key\")\n",
    "\n",
    "if (\"two\", 2) in d:\n",
    "    print(\"item\")"
   ]
  },
  {
   "cell_type": "code",
   "execution_count": 16,
   "metadata": {},
   "outputs": [
    {
     "name": "stdout",
     "output_type": "stream",
     "text": [
      "one --- 1\n",
      "two --- 2\n",
      "three --- 3\n",
      "3 --- 3\n",
      "****************************************************************************************************\n",
      "one --- 1\n",
      "two --- 2\n",
      "three --- 3\n",
      "3 --- 3\n",
      "****************************************************************************************************\n",
      "1\t\n",
      "2\t\n",
      "3\t\n",
      "3\t\n",
      "****************************************************************************************************\n",
      "one --- 1\n",
      "two --- 2\n",
      "three --- 3\n",
      "3 --- 3\n"
     ]
    }
   ],
   "source": [
    "# 遍历\n",
    "# 按key来使用for循环\n",
    "\n",
    "d = {\"one\": 1, \"two\": 2, \"three\": 3, 3: 3}\n",
    "\n",
    "for k in d:\n",
    "    print(k, \"---\", d[k])\n",
    "print('*' * 100)\n",
    "\n",
    "for k in d.keys():\n",
    "    print(k, \"---\", d[k])\n",
    "print('*' * 100)\n",
    "\n",
    "for v in d.values():\n",
    "    print(v, end='\\t')\n",
    "    print()\n",
    "print('*' * 100)\n",
    "\n",
    "for k, v in d.items():\n",
    "    print(k, \"---\", d[k])"
   ]
  },
  {
   "cell_type": "markdown",
   "metadata": {},
   "source": [
    "## dict生成式"
   ]
  },
  {
   "cell_type": "code",
   "execution_count": 18,
   "metadata": {},
   "outputs": [
    {
     "name": "stdout",
     "output_type": "stream",
     "text": [
      "<class 'dict_items'>\n",
      "{'one': 1, 'two': 2, 'three': 3}\n",
      "{'two': 2}\n"
     ]
    }
   ],
   "source": [
    "d = {\"one\":1, \"two\":2, \"three\":3}\n",
    "\n",
    "print(type(d.items()))\n",
    "\n",
    "# 常规字典生成式\n",
    "dd = {k:v for k,v in d.items()}\n",
    "print(dd)\n",
    "\n",
    "\n",
    "# 加限制条件的字典生成式\n",
    "dd = {k:v for k,v in d.items() if v % 2 == 0}\n",
    "print(dd)"
   ]
  },
  {
   "cell_type": "markdown",
   "metadata": {},
   "source": [
    "## dict相关函数\n",
    "- 统计函数\n",
    "    - len、min、max\n",
    "- 常规函数\n",
    "    - clear()：清空字典\n",
    "    - items()：返回字典的所有键值对\n",
    "    - keys()：返回字典的所有key\n",
    "    - values()：返回字典所有的value\n",
    "    - get(key)：返回指定key的值，key不存在返回None，也可设置默认值\n",
    "    - fromkeys(list, val)：使用指定序列作为key，使用一个值作为所有key的值。第一个参数是list类型，第二个参数接受任何类型"
   ]
  },
  {
   "cell_type": "code",
   "execution_count": 20,
   "metadata": {},
   "outputs": [
    {
     "name": "stdout",
     "output_type": "stream",
     "text": [
      "{1: 'val', 2: 'val', 3: 'val', 4: 'val'}\n"
     ]
    }
   ],
   "source": [
    "# fromkeys()案例\n",
    "#调用formkeys()的主体是dict类\n",
    "l = [1, 2, 3, 4]\n",
    "d = dict.fromkeys(l, \"val\")\n",
    "print(d)"
   ]
  },
  {
   "cell_type": "code",
   "execution_count": null,
   "metadata": {},
   "outputs": [],
   "source": []
  }
 ],
 "metadata": {
  "kernelspec": {
   "display_name": "Python 3",
   "language": "python",
   "name": "python3"
  },
  "language_info": {
   "codemirror_mode": {
    "name": "ipython",
    "version": 3
   },
   "file_extension": ".py",
   "mimetype": "text/x-python",
   "name": "python",
   "nbconvert_exporter": "python",
   "pygments_lexer": "ipython3",
   "version": "3.6.7"
  }
 },
 "nbformat": 4,
 "nbformat_minor": 2
}
