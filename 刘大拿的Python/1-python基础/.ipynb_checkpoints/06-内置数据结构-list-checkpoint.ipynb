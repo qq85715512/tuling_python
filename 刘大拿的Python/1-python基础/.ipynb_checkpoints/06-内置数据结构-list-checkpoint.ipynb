{
 "cells": [
  {
   "cell_type": "markdown",
   "metadata": {},
   "source": [
    "# 内置数据结构（变量类型）\n",
    "- list：一组有顺序，可重复，可修改的数据组合\n",
    "- set：一组无顺序，无重复，不可修改的数据组合\n",
    "- dict：一组无顺序的键值对的数据组合，数据的键（key）不可重复，不可修改\n",
    "- tuple：一组有顺序，可重复，不可修改的数据组合\n",
    "- python与Java等不同，不要求以上数据结构中的元素的类型一致"
   ]
  },
  {
   "cell_type": "markdown",
   "metadata": {},
   "source": [
    "# list\n",
    "- 特点\n",
    "    - 有顺序：list中每个元素都有对应的下标（索引）\n",
    "    - 可修改：可以随意修改某个下标对应的值\n",
    "    - 可重复：不同下标对应的值可以相同\n",
    "    - 列表中元素不需要具有相同类型\n",
    "    \n",
    "## list的创建\n",
    "- 普通创建方式\n",
    "    - [a1, a2, a3]\n",
    "    - list(param)，注意param必须是可迭代的，比如字符串、列表、元组等\n",
    "- 迭代创建方式：使用for关键字"
   ]
  },
  {
   "cell_type": "code",
   "execution_count": 40,
   "metadata": {},
   "outputs": [
    {
     "name": "stdout",
     "output_type": "stream",
     "text": [
      "[] \t []\n",
      "[1, 'a'] \t [1, 'a'] \t [1, 'a']\n"
     ]
    }
   ],
   "source": [
    "# 普通创建\n",
    "# 创建空列表\n",
    "a1 = []\n",
    "a2 = list()\n",
    "print(a1, '\\t', a2)\n",
    "\n",
    "# 创建有元素的列表\n",
    "# list() 方法可以接受一个可迭代（list或者tuple）的参数，将参数中的每一个元素当成该list的元素\n",
    "b1 = [1, 'a']\n",
    "b2 = list([1, 'a'])\n",
    "b3 = list((1, 'a'))\n",
    "print(b1, '\\t', b2, '\\t', b3)"
   ]
  },
  {
   "cell_type": "code",
   "execution_count": 46,
   "metadata": {},
   "outputs": [
    {
     "name": "stdout",
     "output_type": "stream",
     "text": [
      "[2, 5, 1, 7, 8, 4, 9]\n",
      "[2, 8, 4]\n",
      "[1, 2, 3, 4]\n"
     ]
    }
   ],
   "source": [
    "# 迭代创建方式\n",
    "# for\n",
    "a = [2, 5, 1, 7, 8, 4, 9]\n",
    "# 下面代码的含义是，对于所有a中的元素，逐个放入新列表b中\n",
    "b = [i for i in a]\n",
    "print(b)\n",
    "\n",
    "# 可以同时使用if关键字进行条件过滤\n",
    "# 只需要列表中为偶数的元素\n",
    "c = [i for i in a if i %2 == 0]\n",
    "print(c)\n",
    "\n",
    "# 使用内置函数range()\n",
    "d = [i for i in range(1, 5)]\n",
    "print(d)"
   ]
  },
  {
   "cell_type": "code",
   "execution_count": 50,
   "metadata": {},
   "outputs": [
    {
     "name": "stdout",
     "output_type": "stream",
     "text": [
      "[6, 7, 8, 9, 5, 6, 7, 8, 6, 7, 8, 9, 5, 6, 7, 8, 6, 7, 8, 9, 4, 5, 6, 7, 5, 6, 7, 8, 6, 7, 8, 9]\n",
      "[6, 7, 8, 9, 5, 6, 7, 8, 6, 7, 8, 9, 5, 6, 7, 8, 6, 7, 8, 9, 4, 5, 6, 7, 5, 6, 7, 8, 6, 7, 8, 9]\n",
      "[5, 5, 4, 5, 5]\n"
     ]
    }
   ],
   "source": [
    "# 列表生成是可以嵌套,此时等于两个for循环嵌套\n",
    "e = [m+n for m in c for n in d]\n",
    "print(e)\n",
    "\n",
    "# 上面代码跟下面代码等价\n",
    "f = []\n",
    "for m in c:\n",
    "    for n in d:\n",
    "        f.append(m+n)\n",
    "print(f)\n",
    "\n",
    "# 嵌套的列表生城市也可以用条件表达式\n",
    "c = [  m+n for m in c for n in d if m+n < 6]\n",
    "print(c)"
   ]
  },
  {
   "cell_type": "markdown",
   "metadata": {},
   "source": [
    "## list常用操作：访问和分片\n",
    "- 访问\n",
    "    - 使用下标（索引）定位元素\n",
    "    - 正数索引，从左到右，下标从0开始，步长为1递增\n",
    "    - 负数索引，从右到左，下标从-1开始，步长为1递减\n",
    "- 分片操作\n",
    "    - 对列表进行任意一段的截取\n",
    "    - l[b:e:s] \n",
    "        - b表示起始索引，e表示结束索引（不含），s表示步长（默认为1）\n",
    "        - b、e、s是非必需的\n",
    "        - l[::]、l[:]也是可以的\n",
    "    - list的分片操作产生的是一个新的list\n",
    "        - 可以同内置函数id()来判断"
   ]
  },
  {
   "cell_type": "code",
   "execution_count": 14,
   "metadata": {},
   "outputs": [
    {
     "name": "stdout",
     "output_type": "stream",
     "text": [
      "1\t4\n",
      "1\t4\n"
     ]
    }
   ],
   "source": [
    "# 访问\n",
    "# 列表a的索引\n",
    "# 正数索引：  0 ， 1，  2，3\n",
    "# 负数索引：-4，-3，-2，-1\n",
    "a  = [1, 2 ,3, 4]\n",
    "print(a[0], a[3], sep='\\t')\n",
    "print(a[-4], a[-1], sep='\\t')"
   ]
  },
  {
   "cell_type": "code",
   "execution_count": 23,
   "metadata": {},
   "outputs": [
    {
     "name": "stdout",
     "output_type": "stream",
     "text": [
      "[1, 2, 3, 4]\t[1, 2, 3, 4]\n",
      "[3, 4]\t[1, 2]\n",
      "[2]\n"
     ]
    }
   ],
   "source": [
    "# 分片-正数索引\n",
    "# 分片操作同样遵循左闭右开原则\n",
    "l  = [1, 2 ,3, 4]\n",
    "\n",
    "# 区间参数和步长参数都是可以省略，分片结果就是列表本身\n",
    "print(l[:], l[::], sep = '\\t')\n",
    "\n",
    "# l[2:]表示截取从下标1开始，一直到结束的元素\n",
    "# l[:2]表示截取从0开始，一直到下标2以前（即不含下标2的元素）的元素\n",
    "print(l[2:], l[:2], sep = '\\t')\n",
    "\n",
    "# 指定开始和结束索引\n",
    "print(l[1:2])"
   ]
  },
  {
   "cell_type": "code",
   "execution_count": 24,
   "metadata": {},
   "outputs": [
    {
     "name": "stdout",
     "output_type": "stream",
     "text": [
      "[3, 4]\t[1, 2]\n",
      "[]\n",
      "[4]\n",
      "[3]\n"
     ]
    }
   ],
   "source": [
    "# 分片-负数索引\n",
    "\n",
    "# 只指定一个区间参数\n",
    "print(l[-2:], l[:-2], sep = '\\t')\n",
    "\n",
    "# 指定开始和结束索引\n",
    "# 负数索引也是左小右大，b[-1:-2]的结果是空集，\n",
    "# 但设置步长为负数可以实现截取元素\n",
    "print(l[-1:-2])\n",
    "print(l[-1:-2:-1])\n",
    "print(l[-2:-1])"
   ]
  },
  {
   "cell_type": "code",
   "execution_count": 25,
   "metadata": {},
   "outputs": [
    {
     "name": "stdout",
     "output_type": "stream",
     "text": [
      "[1, 2, 3, 4]\n",
      "[2, 3, 4]\n",
      "[2, 4]\n",
      "[3, 4]\n"
     ]
    }
   ],
   "source": [
    "print(l)\n",
    "# 分片可以控制增长幅度，默认增长幅度为1\n",
    "print(l[1:6:1])\n",
    "\n",
    "# 打印从下标1开始的数字，每次隔一个\n",
    "print(l[1:6:2])\n",
    "\n",
    "# 下标可以超出范围，超出后不在考虑多余下标内容\n",
    "print(l[2:10])\n",
    "\n",
    "# 下标值，增长幅度可以为负数\n",
    "# 为负数，表明顺序是从右往左\n",
    "# 规定： 数组最后一个数字的下标是-1"
   ]
  },
  {
   "cell_type": "code",
   "execution_count": 31,
   "metadata": {},
   "outputs": [
    {
     "name": "stdout",
     "output_type": "stream",
     "text": [
      "140666891022768\n",
      "140666891022768\n",
      "****************************************************************************************************\n",
      "1000\t10001\n",
      "140666891022768\n",
      "140666891980272\n"
     ]
    }
   ],
   "source": [
    "# 验证list分片操作产生新的list案例\n",
    "a = b = 1000\n",
    "print(id(a), id(b), sep='\\n')\n",
    "print('*' * 100)\n",
    "\n",
    "# 改变b的值后，a和b指向的变量就不是同一个\n",
    "b = 10001\n",
    "print(a, b, sep='\\t')\n",
    "print(id(a), id(b), sep='\\n')"
   ]
  },
  {
   "cell_type": "code",
   "execution_count": 32,
   "metadata": {},
   "outputs": [
    {
     "name": "stdout",
     "output_type": "stream",
     "text": [
      "140666891743944\n",
      "140666891467016\n",
      "140666891467016\n",
      "[3, 100, 56, 76, 32, 21, 43, 5]\n",
      "[3, 4, 56, 76, 32, 21, 43, 5]\n",
      "[3, 100, 56, 76, 32, 21, 43, 5]\n",
      "[3, 100, 56, 76, 32, 21, 43, 5]\n"
     ]
    }
   ],
   "source": [
    "# 通过id可以直接判断出分片是从新生成了一份数据还是使用的同一份数据\n",
    "l = [3,4,56,76,32,21,43,5]\n",
    "ll = l[:]\n",
    "lll = ll\n",
    "# 如果两个id值一样，则表明分片产生的列表是使用的同一地址同一份数据\n",
    "# 否则，则表明分片是从新生成了一份数据，即一个新的列表，然后把数值拷贝到新列表中\n",
    "print(id(l))\n",
    "print(id(ll))\n",
    "print(id(lll))\n",
    "\n",
    "# 通过id知道，ll和lll是同一份数据，验证代码如下\n",
    "l[1] = 100\n",
    "print(l)\n",
    "print(ll)\n",
    "\n",
    "ll[1] = 100\n",
    "print(ll)\n",
    "print(lll)"
   ]
  },
  {
   "cell_type": "markdown",
   "metadata": {},
   "source": [
    "## list常用操作：新增、修改、删除\n",
    "- 新增\n",
    "    - insert()函数:在指定索引的位置插入新的元素\n",
    "    - append()函数:在列表的最后插入新的元素\n",
    "- 修改\n",
    "    - 使用下标\n",
    "- 删除\n",
    "    - del 关键字\n",
    "        - 删除指定索引的元素\n",
    "        - 可以删除整个list\n",
    "    - remove()\n",
    "        - list内置函数\n",
    "        - 删除指定索引的元素"
   ]
  },
  {
   "cell_type": "code",
   "execution_count": 12,
   "metadata": {},
   "outputs": [
    {
     "name": "stdout",
     "output_type": "stream",
     "text": [
      "[1, 2, 3, 4, 5]\n",
      "[1, 7, 2, 3, 4, 5]\n",
      "列表a的长度为：6\n",
      "[1, 7, 2, 3, 4, 7, 5]\n",
      "列表a的长度为：7\n",
      "[1, 7, 2, 3, 4, 7, 5, 8]\n",
      "****************************************************************************************************\n",
      "[1, 2, 3, 4, 5]\n",
      "[1, 2, 3, 4, 5, 6]\n"
     ]
    }
   ],
   "source": [
    "# 新增\n",
    "# insert()：在指定索引的位置插入新的元素\n",
    "a = [1, 2, 3, 4, 5]\n",
    "print(a)\n",
    "\n",
    "# 在索引为1的地方新增元素7\n",
    "a.insert(1, 7)\n",
    "print(a)\n",
    "print('列表a的长度为：{}'.format(len(a)))\n",
    "\n",
    "# a数组的长度为6，因此最大索引是5，此时是可以在索引为6的地方新增一个元素\n",
    "# 在索引为6的地方新增元素7\n",
    "a.insert(5, 7)\n",
    "print(a)\n",
    "print('列表a的长度为：{}'.format(len(a)))\n",
    "\n",
    "# 以下案例可以看出，当插入的位置大于当前列表的大小时，\n",
    "# 默认会在列表的最后插入该元素\n",
    "# 效果与append方法一样\n",
    "a.insert(10, 8)\n",
    "print(a)\n",
    "\n",
    "print('*' * 100)"
   ]
  },
  {
   "cell_type": "code",
   "execution_count": 22,
   "metadata": {},
   "outputs": [
    {
     "name": "stdout",
     "output_type": "stream",
     "text": [
      "[1, 2, 3, 4, 5]\n",
      "[1, 2, 3, 4, 5, 6]\n"
     ]
    }
   ],
   "source": [
    "# 新增\n",
    "# append()：在列表的最后插入新的元素\n",
    "# \n",
    "b = [1, 2, 3, 4, 5]\n",
    "print(b)\n",
    "b.append(6)\n",
    "print(b)"
   ]
  },
  {
   "cell_type": "code",
   "execution_count": 16,
   "metadata": {},
   "outputs": [
    {
     "name": "stdout",
     "output_type": "stream",
     "text": [
      "[1, 2]\n",
      "[1, 3]\n"
     ]
    }
   ],
   "source": [
    "# 修改\n",
    "a = [1, 2]\n",
    "print(a)\n",
    "\n",
    "# 将索引为1的元素修改为3\n",
    "a[1] = 3\n",
    "print(a)"
   ]
  },
  {
   "cell_type": "code",
   "execution_count": 25,
   "metadata": {},
   "outputs": [
    {
     "name": "stdout",
     "output_type": "stream",
     "text": [
      "139716092463048 [1, 2, 3, 4, 5, 6, 7, 8]\n",
      "139716092463048 [1, 3, 4, 5, 6, 7, 8]\n",
      "139716092463048 [1, 4, 5, 6, 7, 8]\n"
     ]
    },
    {
     "ename": "NameError",
     "evalue": "name 'a' is not defined",
     "output_type": "error",
     "traceback": [
      "\u001b[0;31m---------------------------------------------------------------------------\u001b[0m",
      "\u001b[0;31mNameError\u001b[0m                                 Traceback (most recent call last)",
      "\u001b[0;32m<ipython-input-25-ed161d00439b>\u001b[0m in \u001b[0;36m<module>\u001b[0;34m\u001b[0m\n\u001b[1;32m     12\u001b[0m \u001b[0;31m# 删除整个列表a\u001b[0m\u001b[0;34m\u001b[0m\u001b[0;34m\u001b[0m\u001b[0;34m\u001b[0m\u001b[0m\n\u001b[1;32m     13\u001b[0m \u001b[0;32mdel\u001b[0m \u001b[0ma\u001b[0m\u001b[0;34m\u001b[0m\u001b[0;34m\u001b[0m\u001b[0m\n\u001b[0;32m---> 14\u001b[0;31m \u001b[0mprint\u001b[0m\u001b[0;34m(\u001b[0m\u001b[0ma\u001b[0m\u001b[0;34m)\u001b[0m\u001b[0;34m\u001b[0m\u001b[0;34m\u001b[0m\u001b[0m\n\u001b[0m",
      "\u001b[0;31mNameError\u001b[0m: name 'a' is not defined"
     ]
    }
   ],
   "source": [
    "#删除\n",
    "a = [1, 2, 3, 4, 5, 6, 7, 8]\n",
    "print(id(a), a)\n",
    "\n",
    "# 删除指定索引的元素\n",
    "del a[1]\n",
    "print(id(a), a)\n",
    "\n",
    "a.remove(3)\n",
    "print(id(a), a)\n",
    "\n",
    "# 删除整个列表a\n",
    "del a\n",
    "print(a)"
   ]
  },
  {
   "cell_type": "markdown",
   "metadata": {},
   "source": [
    "## list的常用操作：+、×\n",
    "- 运算\n",
    "    - 加：+，直接拼接\n",
    "    - 乘：×，重复拼接"
   ]
  },
  {
   "cell_type": "code",
   "execution_count": 33,
   "metadata": {},
   "outputs": [
    {
     "name": "stdout",
     "output_type": "stream",
     "text": [
      "[1, 2, 3, 4, 5, 3, 4, 5, 6, 7]\n",
      "[1, 2, 3, 4, 5, 1, 2, 3, 4, 5, 1, 2, 3, 4, 5]\n",
      "[0, 0, 0, 0, 0, 0, 0, 0, 0, 0]\n",
      "[[0, 0, 0, 0, 0], [0, 0, 0, 0, 0]]\n"
     ]
    }
   ],
   "source": [
    "a = [1, 2, 3, 4, 5]\n",
    "b = [3, 4, 5, 6, 7]\n",
    "\n",
    "# 加\n",
    "print(a+b)\n",
    "\n",
    "# 乘\n",
    "print(a*3)\n",
    "\n",
    "# 创建默认值的一维或二维列表\n",
    "c = [0] * 10\n",
    "d = [[0] * 5] * 2\n",
    "print(c, d, sep='\\n')"
   ]
  },
  {
   "cell_type": "markdown",
   "metadata": {},
   "source": [
    "## list的遍历\n",
    "- for\n",
    "- while"
   ]
  },
  {
   "cell_type": "code",
   "execution_count": 34,
   "metadata": {},
   "outputs": [
    {
     "name": "stdout",
     "output_type": "stream",
     "text": [
      "1\n",
      "2\n",
      "3\n",
      "4\n",
      "5\n"
     ]
    }
   ],
   "source": [
    "# for in list\n",
    "a = [1,2,3,4,5]\n",
    "\n",
    "# 挨个打印a里边的元素\n",
    "for i in a:\n",
    "    print(i)"
   ]
  },
  {
   "cell_type": "code",
   "execution_count": 35,
   "metadata": {},
   "outputs": [
    {
     "name": "stdout",
     "output_type": "stream",
     "text": [
      "1\n",
      "2\n",
      "3\n",
      "4\n",
      "5\n",
      "<class 'range'>\n"
     ]
    }
   ],
   "source": [
    "# range\n",
    "# in 后面的变量要求是可以可迭代的内容\n",
    "for i in range(1,6):\n",
    "    print(i)\n",
    "\n",
    "print(type(range(1,10)))"
   ]
  },
  {
   "cell_type": "code",
   "execution_count": 36,
   "metadata": {},
   "outputs": [
    {
     "name": "stdout",
     "output_type": "stream",
     "text": [
      "1\n",
      "2\n",
      "3\n",
      "4\n",
      "5\n",
      "6\n"
     ]
    }
   ],
   "source": [
    "# while循环访问list\n",
    "# 一般不用while遍历list\n",
    "\n",
    "a = [1,2,3,4,5,6]\n",
    "length = len(a)\n",
    "# indx表示的是list的下标\n",
    "indx = 0\n",
    "while indx < length:\n",
    "    print(a[indx])\n",
    "    indx += 1"
   ]
  },
  {
   "cell_type": "code",
   "execution_count": 37,
   "metadata": {},
   "outputs": [
    {
     "name": "stdout",
     "output_type": "stream",
     "text": [
      "one -- 1\n",
      "two -- 2\n",
      "three -- 3\n"
     ]
    }
   ],
   "source": [
    "# 双层列表循环\n",
    "\n",
    "#a 为嵌套列表，或者叫双层列表\n",
    "a = [[\"one\", 1], [\"two\", 2], [\"three\", 3] ]\n",
    "\n",
    "for k,v in a:\n",
    "    print(k, \"--\", v)"
   ]
  },
  {
   "cell_type": "code",
   "execution_count": 38,
   "metadata": {},
   "outputs": [
    {
     "ename": "ValueError",
     "evalue": "too many values to unpack (expected 2)",
     "output_type": "error",
     "traceback": [
      "\u001b[0;31m---------------------------------------------------------------------------\u001b[0m",
      "\u001b[0;31mValueError\u001b[0m                                Traceback (most recent call last)",
      "\u001b[0;32m<ipython-input-38-792b9170ab7f>\u001b[0m in \u001b[0;36m<module>\u001b[0;34m\u001b[0m\n\u001b[1;32m      4\u001b[0m \u001b[0ma\u001b[0m \u001b[0;34m=\u001b[0m \u001b[0;34m[\u001b[0m\u001b[0;34m[\u001b[0m\u001b[0;34m\"one\"\u001b[0m\u001b[0;34m,\u001b[0m \u001b[0;36m1\u001b[0m\u001b[0;34m,\u001b[0m \u001b[0;34m\"eins\"\u001b[0m\u001b[0;34m]\u001b[0m\u001b[0;34m,\u001b[0m \u001b[0;34m[\u001b[0m\u001b[0;34m\"two\"\u001b[0m\u001b[0;34m,\u001b[0m \u001b[0;36m2\u001b[0m\u001b[0;34m]\u001b[0m\u001b[0;34m,\u001b[0m \u001b[0;34m[\u001b[0m\u001b[0;34m\"three\"\u001b[0m\u001b[0;34m,\u001b[0m \u001b[0;36m3\u001b[0m\u001b[0;34m,\u001b[0m\u001b[0;36m4\u001b[0m\u001b[0;34m,\u001b[0m\u001b[0;36m5\u001b[0m\u001b[0;34m,\u001b[0m\u001b[0;36m6\u001b[0m\u001b[0;34m,\u001b[0m\u001b[0;36m8\u001b[0m\u001b[0;34m]\u001b[0m \u001b[0;34m]\u001b[0m\u001b[0;34m\u001b[0m\u001b[0;34m\u001b[0m\u001b[0m\n\u001b[1;32m      5\u001b[0m \u001b[0;34m\u001b[0m\u001b[0m\n\u001b[0;32m----> 6\u001b[0;31m \u001b[0;32mfor\u001b[0m \u001b[0mk\u001b[0m\u001b[0;34m,\u001b[0m\u001b[0mv\u001b[0m \u001b[0;32min\u001b[0m \u001b[0ma\u001b[0m\u001b[0;34m:\u001b[0m\u001b[0;34m\u001b[0m\u001b[0;34m\u001b[0m\u001b[0m\n\u001b[0m\u001b[1;32m      7\u001b[0m     \u001b[0mprint\u001b[0m\u001b[0;34m(\u001b[0m\u001b[0mk\u001b[0m\u001b[0;34m,\u001b[0m \u001b[0;34m\"--\"\u001b[0m\u001b[0;34m,\u001b[0m \u001b[0mv\u001b[0m\u001b[0;34m)\u001b[0m\u001b[0;34m\u001b[0m\u001b[0;34m\u001b[0m\u001b[0m\n",
      "\u001b[0;31mValueError\u001b[0m: too many values to unpack (expected 2)"
     ]
    }
   ],
   "source": [
    "# 双层列表循环变异\n",
    "\n",
    "#a 为嵌套列表，或者叫双层列表\n",
    "a = [[\"one\", 1, \"eins\"], [\"two\", 2], [\"three\", 3,4,5,6,8] ]\n",
    "\n",
    "for k,v in a:\n",
    "    print(k, \"--\", v)"
   ]
  },
  {
   "cell_type": "code",
   "execution_count": 39,
   "metadata": {},
   "outputs": [
    {
     "name": "stdout",
     "output_type": "stream",
     "text": [
      "one -- 1 -- eins\n",
      "two -- 2 -- zwei\n",
      "three -- 3 -- drei\n"
     ]
    }
   ],
   "source": [
    "# 双层列表循环变异\n",
    "\n",
    "#a 为嵌套列表，或者叫双层列表\n",
    "a = [[\"one\", 1, \"eins\"], [\"two\", 2,\"zwei\"], [\"three\", 3,\"drei\"] ]\n",
    "#这个例子说明，k，v,w的个数应该跟解包出来的变量个数一致\n",
    "for k,v,w in a:\n",
    "    print(k, \"--\", v, \"--\",w)"
   ]
  },
  {
   "cell_type": "markdown",
   "metadata": {},
   "source": [
    "# list相关函数\n",
    "- 统计函数，并不是list独有，可以适用多种数据类型\n",
    "- list内置函数"
   ]
  },
  {
   "cell_type": "markdown",
   "metadata": {},
   "source": [
    "## 统计函数\n",
    "- len()：求数据对象的长度，即元素个数\n",
    "- min()：求数据对象最小的元素\n",
    "- max()：求数据对象最大的元素"
   ]
  },
  {
   "cell_type": "code",
   "execution_count": 4,
   "metadata": {},
   "outputs": [
    {
     "name": "stdout",
     "output_type": "stream",
     "text": [
      "6\n",
      "10\n",
      "15\n",
      "['I', ' ', 'l', 'o', 'v', 'e', ' ', 'S', 'o', 'n', 'g', 'm', 'e', 'n', 'g', 'z', 'h', 'a', 'o']\n"
     ]
    }
   ],
   "source": [
    "# 求列表长度，即元素个数\n",
    "a = [x for x in range(10, 16)]\n",
    "print(len(a))\n",
    "\n",
    "# 求列表最小元素\n",
    "print(min(a))\n",
    "\n",
    "# 求列表最大元素\n",
    "print(max(a))\n",
    "\n",
    "# 将其他格式的数据转成list\n",
    "# 空格也是list中的一个元素\n",
    "s = 'I love Songmengzhao'\n",
    "l1 = list(s)\n",
    "print(l1)\n",
    "\n",
    "# 将range函数的结果转成list\n",
    "l2 = list(range(10, 16))\n",
    "print(l2)"
   ]
  },
  {
   "cell_type": "markdown",
   "metadata": {},
   "source": [
    "## list内置函数\n",
    "- append(el)：在list末尾处追加一个元素el\n",
    "- insert(idx, el)：在索引为idx处插入一个元素el\n",
    "- pop()：从list末尾去除一个元素，同时作为返回值。该方法会使list大小减1\n",
    "- remove(el)：删除掉el元素，有重复值时只删除索引最小的那个，可能报异常，需要使用tra-catch\n",
    "- reverse()：翻转list元素，在原list上进行操作\n",
    "- clear()：清空list，在原list上进行操作\n",
    "- extend()：等同+操作\n",
    "- count(el)：查找列表中指定值或元素的个数\n",
    "- copy()：此函数是浅拷贝\n",
    "- sort([reverse=False])：排序，默认升序；关键字参数reverse设置为True可实现降序"
   ]
  },
  {
   "cell_type": "code",
   "execution_count": 4,
   "metadata": {},
   "outputs": [
    {
     "name": "stdout",
     "output_type": "stream",
     "text": [
      "[4, 5, 4, 3, 2, 1]\n",
      "[]\n",
      "[1, 2, 3, 4, 1, 2, 3, 4, 4, 4, 2]\n",
      "4\n",
      "[1, 2, 3, 4, 1, 2, 3, 4, 4, 4, 2]\n",
      "[1, 2, 3, 1, 2, 3, 4, 4, 4, 2]\n"
     ]
    },
    {
     "ename": "ValueError",
     "evalue": "list.remove(x): x not in list",
     "output_type": "error",
     "traceback": [
      "\u001b[0;31m---------------------------------------------------------------------------\u001b[0m",
      "\u001b[0;31mValueError\u001b[0m                                Traceback (most recent call last)",
      "\u001b[0;32m<ipython-input-4-415257b5792c>\u001b[0m in \u001b[0;36m<module>\u001b[0;34m\u001b[0m\n\u001b[1;32m     22\u001b[0m \u001b[0mb\u001b[0m\u001b[0;34m.\u001b[0m\u001b[0mremove\u001b[0m\u001b[0;34m(\u001b[0m\u001b[0;36m4\u001b[0m\u001b[0;34m)\u001b[0m\u001b[0;34m\u001b[0m\u001b[0;34m\u001b[0m\u001b[0m\n\u001b[1;32m     23\u001b[0m \u001b[0mprint\u001b[0m\u001b[0;34m(\u001b[0m\u001b[0mb\u001b[0m\u001b[0;34m)\u001b[0m\u001b[0;34m\u001b[0m\u001b[0;34m\u001b[0m\u001b[0m\n\u001b[0;32m---> 24\u001b[0;31m \u001b[0mb\u001b[0m\u001b[0;34m.\u001b[0m\u001b[0mremove\u001b[0m\u001b[0;34m(\u001b[0m\u001b[0;36m100\u001b[0m\u001b[0;34m)\u001b[0m\u001b[0;34m\u001b[0m\u001b[0;34m\u001b[0m\u001b[0m\n\u001b[0m\u001b[1;32m     25\u001b[0m \u001b[0;34m\u001b[0m\u001b[0m\n\u001b[1;32m     26\u001b[0m \u001b[0;31m# pop\u001b[0m\u001b[0;34m\u001b[0m\u001b[0;34m\u001b[0m\u001b[0;34m\u001b[0m\u001b[0m\n",
      "\u001b[0;31mValueError\u001b[0m: list.remove(x): x not in list"
     ]
    }
   ],
   "source": [
    "# reverse()\n",
    "a = [1, 2, 3, 4, 5, 4]\n",
    "a.reverse()\n",
    "print(a)\n",
    "\n",
    "# clear()\n",
    "a.clear()\n",
    "print(a)\n",
    "\n",
    "# extend()\n",
    "b = [1, 2, 3, 4] * 2\n",
    "c = [4 , 4, 2]\n",
    "b.extend(c)\n",
    "print(b)\n",
    "\n",
    "# count()\n",
    "n = b.count(4)\n",
    "print(n)\n",
    "\n",
    "# remove\n",
    "print(b)\n",
    "b.remove(4)\n",
    "print(b)\n",
    "# 没有100元素，remove报错\n",
    "# b.remove(100)\n",
    "\n",
    "# pop\n",
    "el = b.pop()\n",
    "print(el, '\\t', b)"
   ]
  },
  {
   "cell_type": "code",
   "execution_count": 13,
   "metadata": {},
   "outputs": [
    {
     "name": "stdout",
     "output_type": "stream",
     "text": [
      "[1, 2, 3]\n",
      "[1, 2, 4] \t [1, 2, 4]\n",
      "****************************************************************************************************\n",
      "[1, 2, 3]\n",
      "[1, 2, 3] \t [1, 2, 4]\n",
      "****************************************************************************************************\n",
      "[1, 2, [1, 2, 3]]\n",
      "[1, 2, [1, 2, 4]] \t [1, 2, [1, 2, 4]]\n",
      "****************************************************************************************************\n",
      "[1, 2, [1, 2, 4]] \t [1, 2, [1, 2, 5]]\n"
     ]
    }
   ],
   "source": [
    "# copy 案例\n",
    "a = [1, 2, 3]\n",
    "b = a\n",
    "print(b)\n",
    "\n",
    "b[2] = 4\n",
    "# 改变b[2]的值后，打印a，a的第二个元素也改变了\n",
    "print(a, '\\t', b)\n",
    "\n",
    "print('*' * 100)\n",
    "\n",
    "c= [1, 2, 3]\n",
    "d = c.copy()\n",
    "print(d)\n",
    "\n",
    "d[2] = 4\n",
    "# 改变d[2]的值后，打印a，a的第二个元素没有发生变化\n",
    "print(c, '\\t', d)\n",
    "\n",
    "print('*' * 100)\n",
    "\n",
    "e = [1 , 2, [1, 2, 3]]\n",
    "f =e.copy()\n",
    "print(f)\n",
    "\n",
    "f[2][2] = 4\n",
    "# f的第二个值是一个列表，改变该列表的第二个值值后\n",
    "# 打印e，e中的列表的第二个值还是发生变化\n",
    "print(e, '\\t', f)\n",
    "\n",
    "print('*' * 100)\n",
    "#copy函数同样是浅拷贝\n",
    "# 神拷贝需要使用copy包\n",
    "import copy\n",
    "g = copy.deepcopy(e)\n",
    "g[2][2] = 5\n",
    "# g的第二个值是一个列表，改变该列表的第二个值值后\n",
    "# 打印e，e中的列表的第二个值还是发生变化\n",
    "print(e, '\\t', g)"
   ]
  },
  {
   "cell_type": "code",
   "execution_count": 5,
   "metadata": {},
   "outputs": [
    {
     "name": "stdout",
     "output_type": "stream",
     "text": [
      "[43, 5, 1, 7, 3, 8]\n",
      "[1, 3, 5, 7, 8, 43]\n",
      "[43, 8, 7, 5, 3, 1]\n"
     ]
    }
   ],
   "source": [
    "# sort\n",
    "a = [43, 5, 1, 7,  3, 8]\n",
    "print(a)\n",
    "\n",
    "a.sort()\n",
    "print(a)\n",
    "\n",
    "a.sort(reverse=True)\n",
    "print(a)"
   ]
  }
 ],
 "metadata": {
  "kernelspec": {
   "display_name": "Python 3",
   "language": "python",
   "name": "python3"
  },
  "language_info": {
   "codemirror_mode": {
    "name": "ipython",
    "version": 3
   },
   "file_extension": ".py",
   "mimetype": "text/x-python",
   "name": "python",
   "nbconvert_exporter": "python",
   "pygments_lexer": "ipython3",
   "version": "3.6.7"
  }
 },
 "nbformat": 4,
 "nbformat_minor": 2
}
