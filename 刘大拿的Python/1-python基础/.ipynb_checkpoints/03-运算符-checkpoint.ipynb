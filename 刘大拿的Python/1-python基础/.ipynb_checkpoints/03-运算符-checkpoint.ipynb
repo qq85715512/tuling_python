{
 "cells": [
  {
   "cell_type": "markdown",
   "metadata": {},
   "source": [
    "\n",
    "## 运算符\n",
    "- 由一个以上的变量或值经过一系列的运算得到新值的过程叫做运算\n",
    "- 用来操作运算的符号就做运算符\n",
    "- 运算符的分类\n",
    "    - 算术运算符\n",
    "    - 关系运算符（比较运算符）\n",
    "    - 赋值运算符\n",
    "    - 逻辑运算符\n",
    "    - 位运算\n",
    "    - 成员运算符\n",
    "    - 身份运算符"
   ]
  },
  {
   "cell_type": "markdown",
   "metadata": {},
   "source": [
    "## 算术运算符\n",
    "- 用来算术运算的符号\n",
    "- 通常用来表示加减乘除\n",
    "- python没有自增自减运算符"
   ]
  },
  {
   "cell_type": "code",
   "execution_count": 1,
   "metadata": {},
   "outputs": [
    {
     "name": "stdout",
     "output_type": "stream",
     "text": [
      "7, 11, 18, 4.5, 4\n",
      "1, -1, -5\n",
      "81\n"
     ]
    }
   ],
   "source": [
    "# 算数运算符案例\n",
    "a = 9 -2 \n",
    "b = 9 + 2\n",
    "c = 9 * 2\n",
    "d = 9 / 2\n",
    "e = 9 // 2\n",
    "print('{}, {}, {}, {}, {}'.format(a, b,c, d, e))\n",
    "\n",
    "# 取余\n",
    "# 除数 = 商的向下取整 * 被除数 + 余数\n",
    "# 9 / 2 = -4.5，向下取整=-5，所以余数=9 - -5 * -2 = -1\n",
    "f = 9 % 2\n",
    "g = 9 % -2\n",
    "h = 9 // -2\n",
    "print('{}, {}, {}'.format(f, g, h))\n",
    "\n",
    "i = 9 ** 2\n",
    "print(i)"
   ]
  },
  {
   "cell_type": "markdown",
   "metadata": {},
   "source": [
    "## 比较运算符\n",
    "- 对两个内容进行比较的运算符\n",
    "- 结果一定是布尔值，即True/False\n",
    "- ==, != , >, >=, <, <= "
   ]
  },
  {
   "cell_type": "code",
   "execution_count": 2,
   "metadata": {},
   "outputs": [
    {
     "name": "stdout",
     "output_type": "stream",
     "text": [
      "False\n",
      "True\n"
     ]
    }
   ],
   "source": [
    "# 等于 ==\n",
    "a = 3 == 4\n",
    "print(a)\n",
    "\n",
    "# 不等于  !=\n",
    "b = a != 4\n",
    "print(b)"
   ]
  },
  {
   "cell_type": "markdown",
   "metadata": {},
   "source": [
    "## 赋值运算符\n",
    "- 把一个值放到变量中"
   ]
  },
  {
   "cell_type": "code",
   "execution_count": 3,
   "metadata": {},
   "outputs": [
    {
     "name": "stdout",
     "output_type": "stream",
     "text": [
      "9\n",
      "9, 9, 9, 10\n",
      "17 6\n"
     ]
    }
   ],
   "source": [
    "# 赋值符号 = \n",
    "a = 9\n",
    "print(a)\n",
    "\n",
    "# 复杂赋值\n",
    "b = c = 9\n",
    "d, e = 9, 10\n",
    "print('{}, {}, {}, {}'.format(b, c, d, e))\n",
    "\n",
    "# 赋值的缩写\n",
    "a += 8\n",
    "b -= 3\n",
    "print(a, b)\n",
    "\n",
    "# 所有的算术运算符都可以缩写，没有自增和自减\n",
    "# -=， *= ， /+ ， //=， *=， **="
   ]
  },
  {
   "cell_type": "markdown",
   "metadata": {},
   "source": [
    "## 逻辑运算符\n",
    "- 对布尔类型变量或者进行运算的符号\n",
    "- and：逻辑与\n",
    "- or ：逻辑或\n",
    "- not： 逻辑非\n",
    "- python中没有逻辑异或\n",
    "- 运算规则\n",
    "    - and看作乘法，or看作加法\n",
    "    - True看作1，False看作0\n",
    "    - 逻辑运算就能转换成整数数学运算\n",
    "    - 最后结果如果是0则为False， 否则为True\n",
    "- 逻辑运算的短路问题\n",
    "    - 逻辑运算时，按照运算顺序计算，一旦能够确定整个式子最终的值，则不再进行计算，直接返回"
   ]
  },
  {
   "cell_type": "code",
   "execution_count": 4,
   "metadata": {},
   "outputs": [
    {
     "name": "stdout",
     "output_type": "stream",
     "text": [
      "True False\n",
      "False\n"
     ]
    }
   ],
   "source": [
    "# 逻辑表达式举例\n",
    "a = True\n",
    "b = True\n",
    "c = False\n",
    "\n",
    "aa = a and b\n",
    "bb = a and c\n",
    "print(aa, bb)\n",
    "\n",
    "cc = 100 and c\n",
    "print(cc)"
   ]
  },
  {
   "cell_type": "code",
   "execution_count": 5,
   "metadata": {},
   "outputs": [
    {
     "name": "stdout",
     "output_type": "stream",
     "text": [
      "True\n"
     ]
    }
   ],
   "source": [
    "# 短路问题案例1\n",
    "a = True\n",
    "b = True\n",
    "c = False\n",
    "\n",
    "aa = a or b and (a and b)\n",
    "print(aa)"
   ]
  },
  {
   "cell_type": "code",
   "execution_count": 6,
   "metadata": {},
   "outputs": [
    {
     "name": "stdout",
     "output_type": "stream",
     "text": [
      "a\n",
      "b\n",
      "AAAA\n",
      "****************************************************************************************************\n",
      "a\n",
      "BBBB\n"
     ]
    }
   ],
   "source": [
    "# 短路问题案例2\n",
    "def a():\n",
    "    print('a')\n",
    "    return True\n",
    "\n",
    "def b():\n",
    "    print('b')\n",
    "    return True\n",
    "\n",
    "if a() and b():\n",
    "    print('AAAA')\n",
    "    \n",
    "print('*' * 100)\n",
    "if a() or b():\n",
    "    print('BBBB')"
   ]
  },
  {
   "cell_type": "markdown",
   "metadata": {},
   "source": [
    "## 成员运算符\n",
    "- 用来检测一个值或变量是否在某个集合中\n",
    "- in：判断是否在\n",
    "- not in：判断是否不在"
   ]
  },
  {
   "cell_type": "code",
   "execution_count": 7,
   "metadata": {},
   "outputs": [
    {
     "name": "stdout",
     "output_type": "stream",
     "text": [
      "True\n",
      "False\n"
     ]
    }
   ],
   "source": [
    "# in ,not in案例\n",
    "l = [1, 2, 3, 4, 5]\n",
    "print(1 in l)\n",
    "print(1 not in l)"
   ]
  },
  {
   "cell_type": "markdown",
   "metadata": {},
   "source": [
    "## 身份运算符\n",
    "- 用来确定两个变量是否时同一个变量\n",
    "- is：是否是\n",
    "- is not： 是否不是\n",
    "- python 中已经在内存中预存号-5~256之间的值，解释器对他们做了单独的处理，放进了固定的内存中，不因你每次运行而变化\n",
    "\n",
    "这里再记录一些相关的。\n",
    "\n",
    "不仅对小整数有这样的处理，内建的类(int,staticmamethod,object,TypeError,,,)也都是这样处理的。 看一个变量的内存是不是这样处理的，无需运行两次，只要看id()编号的长度就行，它们都是10位的，普通变量都是十三位的。 其实并不是每次运行结果都是一样的，比如重启一下电脑再试试。 不同的软件打开的同一个python解释器结果也是不同的（最先打开的那个会影响其他的），比如我的电脑上先打开pycharm、cmd、jupyter得到的是不同的结果。 只要把解释器全部关闭再打开某一个，其余的都会是这个软件的值。 电脑不关机的话，软件重复关闭打开id值是一样的。 （当然同一台电脑上的不同python解释器结果肯定也不相同，不同电脑那就更不用说了，这一点我真不想写，但就怕不严谨）"
   ]
  },
  {
   "cell_type": "code",
   "execution_count": 8,
   "metadata": {},
   "outputs": [
    {
     "name": "stdout",
     "output_type": "stream",
     "text": [
      "False\n",
      "False\n",
      "****************************************************************************************************\n",
      "False\n",
      "True\n",
      "True\n",
      "False\n"
     ]
    }
   ],
   "source": [
    "# 身份运算符定义\n",
    "a = 1\n",
    "b = 10001\n",
    "aa = a is b\n",
    "print(aa)\n",
    "\n",
    "# a,b 仅仅是值一样，并不是代表a和b是同一个变量\n",
    "a = 10001\n",
    "b = 10001\n",
    "aa = a is b\n",
    "print(aa)\n",
    "\n",
    "# ****************************************************************************************************\n",
    "print('*' * 100)\n",
    "# [-5, 256]案例\n",
    "a = -6\n",
    "b = -6\n",
    "print(a is b)\n",
    "    \n",
    "a = -5\n",
    "b = -5\n",
    "print(a is b)\n",
    "\n",
    "a = 256\n",
    "b = 256\n",
    "print(a is b)\n",
    "\n",
    "a = 257\n",
    "b = 257\n",
    "print(a is b)"
   ]
  },
  {
   "cell_type": "markdown",
   "metadata": {},
   "source": [
    "## 运算符的优先级问题\n",
    "- 括号具有最高优先级，永远记住\n",
    "- 优先级表格：\n",
    "    - **  指数 (最高优先级)\n",
    "    - ~ + -   按位翻转, 一元加号和减号 (最后两个的方法名为 +@ 和 -@)\n",
    "    - *,  /,  %,  // ,   乘，除，取模和取整除\n",
    "    - +, - 加法减法\n",
    "    - (>>, <<)   右移，左移运算符\n",
    "    - &   位 'AND'\n",
    "    - ^ | 位运算符\n",
    "    - <= < > >=   比较运算符\n",
    "    - <> == !=    等于运算符\n",
    "    - = %= /= //= -= += *= **=    赋值运算符\n",
    "    - is is not   身份运算符\n",
    "    - in not in   成员运算符\n",
    "    - not or and  逻辑运算符"
   ]
  },
  {
   "cell_type": "code",
   "execution_count": 16,
   "metadata": {},
   "outputs": [
    {
     "name": "stdout",
     "output_type": "stream",
     "text": [
      "a = 9\n",
      "b = -10\n",
      "c = 9\n",
      "d = -10\n"
     ]
    }
   ],
   "source": [
    "# 按位翻转案例\n",
    "#~\n",
    "# 假设计算机是32位，则+9的表示如下\n",
    "# 0000 0000 0000 0000 0000 0000 0000 1001 最左位为0，表示正数，~运算后即~9，二进制数所有位取反操作\n",
    "# 1111   1111   1111    1111   1111   1111    1111    0110 最左边为0，表示负数，计算机使用补码来表示负数，因此需要取反再+1\n",
    "# 0000 0000 0000 0000 0000 0000 0000 1001 + 1 =\n",
    "# 0000 0000 0000 0000 0000 0000 0000 1010，再加上-，即-10\n",
    "# 结论：~n = -(n+1)\n",
    "a = 0b1001\n",
    "b = ~a\n",
    "\n",
    "c = 9\n",
    "d = ~c\n",
    "print('''a = {}\n",
    "b = {}\n",
    "c = {}\n",
    "d = {}'''.format(a, b, c, d))"
   ]
  },
  {
   "cell_type": "code",
   "execution_count": 12,
   "metadata": {},
   "outputs": [
    {
     "name": "stdout",
     "output_type": "stream",
     "text": [
      "a = -2\n",
      "b= 2\n",
      "c = -4\n",
      "d = 4\n",
      "e = 4\n"
     ]
    }
   ],
   "source": [
    "# 按位翻转案例\n",
    "# 一元加号，一元减号\n",
    "a = -2\n",
    "b = +2\n",
    "c = -2 ** 2\n",
    "d = (-2) ** 2\n",
    "e = +2 ** 2\n",
    "print('a = {}\\nb= {}\\nc = {}\\nd = {}\\ne = {}'.format(a, b, c, d, e))"
   ]
  }
 ],
 "metadata": {
  "kernelspec": {
   "display_name": "Python 3",
   "language": "python",
   "name": "python3"
  },
  "language_info": {
   "codemirror_mode": {
    "name": "ipython",
    "version": 3
   },
   "file_extension": ".py",
   "mimetype": "text/x-python",
   "name": "python",
   "nbconvert_exporter": "python",
   "pygments_lexer": "ipython3",
   "version": "3.6.7"
  }
 },
 "nbformat": 4,
 "nbformat_minor": 2
}
