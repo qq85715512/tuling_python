{
 "cells": [
  {
   "cell_type": "markdown",
   "metadata": {},
   "source": [
    "# 函数\n",
    "- 函数是代码的一种组织形式，行数控制在一屏\n",
    "- 函数应该能完成一项特定的工作，且一般只完成一项工作\n",
    "- 有些函数，分函数和过程两个概念，通俗解释是，有返回结果叫函数，无返回结果叫过程。python不做区分\n",
    "- 函数的使用\n",
    "    - 定义函数\n",
    "    - 调用函数\n",
    "- 定义函数\n",
    "    - def 关键字，后面跟一个空格\n",
    "    - 自定义函数名，需要顾名思义。命名遵循规则\n",
    "    - 后面的括号和冒号不能省略，括号内可以又参数\n",
    "    - 函数内所有代码缩进"
   ]
  },
  {
   "cell_type": "code",
   "execution_count": 2,
   "metadata": {},
   "outputs": [
    {
     "name": "stdout",
     "output_type": "stream",
     "text": [
      "函数结束了\n",
      "我是一个函数\n",
      "爱生活\n"
     ]
    },
    {
     "data": {
      "text/plain": [
       "<function __main__.func()>"
      ]
     },
     "execution_count": 2,
     "metadata": {},
     "output_type": "execute_result"
    }
   ],
   "source": [
    "# 定义一个函数\n",
    "# 只是定义函数是不会执行的，需要调用\n",
    "def func():\n",
    "    print('我是一个函数')\n",
    "    print('爱生活')\n",
    "print('函数结束了')\n",
    "\n",
    "\n",
    "# 函数的调用\n",
    "func()"
   ]
  },
  {
   "cell_type": "markdown",
   "metadata": {},
   "source": [
    "# 函数的参数和返回值\n",
    "- 参数：负责给函数传一些必要的数据或者信息\n",
    "    - 形参（形式参数）：在函数定义的时候用到的参数，没有具体值，只是一个占位符\n",
    "    - 实参（实际参数）：在调用函数的时候传入的值\n",
    "- 返回值：调用函数时的一个执行结果\n",
    "    - 使用return返回结果\n",
    "    - 如果没有只需要返回，推荐使用return None表示函数结束\n",
    "    - 函数一旦执行return，函数立即结束\n",
    "    - 如果函数没有return关键字，默认会返回None"
   ]
  },
  {
   "cell_type": "code",
   "execution_count": 5,
   "metadata": {},
   "outputs": [
    {
     "name": "stdout",
     "output_type": "stream",
     "text": [
      "小明,你好吗？\n",
      "小五,你好吗？\n",
      "None\n"
     ]
    }
   ],
   "source": [
    "# 形参和实参的案例\n",
    "# person是一个形参，只是一个符号\n",
    "# 调用函数的时候，传入的p（小明）是实参\n",
    "def hello(person):\n",
    "    print('{},你好吗？'.format(person))\n",
    "    \n",
    "p = '小明'\n",
    "# 调用函数\n",
    "hello(p)\n",
    "\n",
    "p1 = '小五'\n",
    "res = hello(p1)\n",
    "print(res)"
   ]
  },
  {
   "cell_type": "code",
   "execution_count": 7,
   "metadata": {},
   "outputs": [
    {
     "name": "stdout",
     "output_type": "stream",
     "text": [
      "Help on built-in function print in module builtins:\n",
      "\n",
      "print(...)\n",
      "    print(value, ..., sep=' ', end='\\n', file=sys.stdout, flush=False)\n",
      "    \n",
      "    Prints the values to a stream, or to sys.stdout by default.\n",
      "    Optional keyword arguments:\n",
      "    file:  a file-like object (stream); defaults to the current sys.stdout.\n",
      "    sep:   string inserted between values, default a space.\n",
      "    end:   string appended after the last value, default a newline.\n",
      "    flush: whether to forcibly flush the stream.\n",
      "\n",
      "****************************************************************************************************\n",
      "Help on NoneType object:\n",
      "\n",
      "class NoneType(object)\n",
      " |  Methods defined here:\n",
      " |  \n",
      " |  __bool__(self, /)\n",
      " |      self != 0\n",
      " |  \n",
      " |  __new__(*args, **kwargs) from builtins.type\n",
      " |      Create and return a new object.  See help(type) for accurate signature.\n",
      " |  \n",
      " |  __repr__(self, /)\n",
      " |      Return repr(self).\n",
      "\n"
     ]
    }
   ],
   "source": [
    "# help负责随时为你提供帮助\n",
    "# print的end默认时换行符，通过end可以自定义结束符号\n",
    "# sep可以指定打印的分隔符\n",
    "# file指定打印的文件\n",
    "help(print)\n",
    "print('*' * 100)\n",
    "help(None)"
   ]
  },
  {
   "cell_type": "code",
   "execution_count": 19,
   "metadata": {},
   "outputs": [
    {
     "name": "stdout",
     "output_type": "stream",
     "text": [
      "1 \n",
      "2 4 \n",
      "3 6 9 \n",
      "4 8 12 16 \n",
      "5 10 15 20 25 \n",
      "6 12 18 24 30 36 \n",
      "7 14 21 28 35 42 49 \n",
      "8 16 24 32 40 48 56 64 \n",
      "9 18 27 36 45 54 63 72 81 \n"
     ]
    }
   ],
   "source": [
    "# 九九乘法表\n",
    "def multi_table(num):\n",
    "    for i in range(1, num + 1):\n",
    "        line = ''\n",
    "        for j in range(1, i + 1):\n",
    "            line += str(i * j) + ' '\n",
    "        print(line)\n",
    "\n",
    "multi_table(9)"
   ]
  },
  {
   "cell_type": "code",
   "execution_count": 15,
   "metadata": {},
   "outputs": [
    {
     "name": "stdout",
     "output_type": "stream",
     "text": [
      "1 \n",
      "2 4 \n",
      "3 6 9 \n",
      "4 8 12 16 \n",
      "5 10 15 20 25 \n",
      "6 12 18 24 30 36 \n",
      "7 14 21 28 35 42 49 \n",
      "8 16 24 32 40 48 56 64 \n",
      "9 18 27 36 45 54 63 72 81 \n"
     ]
    }
   ],
   "source": [
    "# 改造九九乘法表\n",
    "\n",
    "def printLine(line_num):\n",
    "    '''\n",
    "    这是一行\n",
    "    '''\n",
    "    for i in range(1, line_num + 1):\n",
    "        print(i * line_num,  end=' ')\n",
    "    print()\n",
    "    \n",
    "def multi_table(num):\n",
    "    for i in range(1, num + 1):\n",
    "        printLine(i)\n",
    "        \n",
    "multi_table(9)"
   ]
  },
  {
   "cell_type": "markdown",
   "metadata": {},
   "source": [
    "# 参数详解\n",
    "- 参数分类\n",
    "    - 普通参数/位置参数\n",
    "    - 默认参数\n",
    "    - 关键字参数，不依赖参数位置\n",
    "    - 搜集参数"
   ]
  },
  {
   "cell_type": "code",
   "execution_count": 25,
   "metadata": {},
   "outputs": [
    {
     "name": "stdout",
     "output_type": "stream",
     "text": [
      "3\n"
     ]
    }
   ],
   "source": [
    "# 普通参数案例\n",
    "def normal_param(one, two, three):\n",
    "    print(one + two)\n",
    "\n",
    "# 调用normal_param必须传入三个参数，否则调用会报错\n",
    "normal_param(1, 2, 3)"
   ]
  },
  {
   "cell_type": "code",
   "execution_count": 27,
   "metadata": {},
   "outputs": [
    {
     "name": "stdout",
     "output_type": "stream",
     "text": [
      "6\n",
      "13\n"
     ]
    }
   ],
   "source": [
    "# 默认参数\n",
    "def default_param(one, two, three = 3):\n",
    "    print(one + two + three)\n",
    "\n",
    "default_param(1, 2)\n",
    "default_param(1, 2, 10)"
   ]
  },
  {
   "cell_type": "code",
   "execution_count": 53,
   "metadata": {},
   "outputs": [
    {
     "name": "stdout",
     "output_type": "stream",
     "text": [
      "6\n",
      "6\n",
      "6\n"
     ]
    }
   ],
   "source": [
    "# 关键字参数\n",
    "def keyword_param(one, two, three):\n",
    "    print(one + two + three)\n",
    "\n",
    "keyword_param(one=1, two=2, three=3)\n",
    "# 以下调用函数不依赖参数位置，可以指定形参关键字\n",
    "keyword_param(one=1, three=3, two=2)\n",
    "\n",
    "# 如果顺序一致，非必需使用关键字参数\n",
    "keyword_param(1, three=3, two=2)"
   ]
  },
  {
   "cell_type": "markdown",
   "metadata": {},
   "source": [
    "## 搜集参数\n",
    "- 把没有位置，不能和定义时的参数位置相对应的参数，放入一个特定的数据结构（元组：tuple）中\n",
    "- 语法\n",
    "\n",
    "            def func(*args):\n",
    "                func_body\n",
    "                按照元组使用方式访问args得到传入的参数\n",
    "        \n",
    "            调用：\n",
    "            func(pa, p2, p3, ……)\n",
    "- 参数名args不是必须这么写，约定俗成最好写成args\n",
    "- 参数名args前必须要有星号*\n",
    "- 收集参数可以和其他参数共存\n",
    "- 调用函数的时候可以不能传参"
   ]
  },
  {
   "cell_type": "code",
   "execution_count": 5,
   "metadata": {},
   "outputs": [
    {
     "name": "stdout",
     "output_type": "stream",
     "text": [
      "('caiwm', 27, '北京朝阳区', '已婚')\n",
      "<class 'tuple'>\n",
      "caiwm\n",
      "27\n",
      "北京朝阳区\n",
      "已婚\n",
      "****************************************************************************************************\n",
      "('大神',)\n",
      "<class 'tuple'>\n",
      "大神\n",
      "****************************************************************************************************\n",
      "()\n",
      "<class 'tuple'>\n",
      "****************************************************************************************************\n"
     ]
    }
   ],
   "source": [
    "# 搜集参数案例\n",
    "# 函数模拟一个学生进行自我介绍，但具体内容不清楚\n",
    "# args实际上是一个tuple\n",
    "def stu(*args):\n",
    "    # 打印args内容和其类型\n",
    "    print(args)\n",
    "    print(type(args))\n",
    "    for el in args:\n",
    "        print(el)\n",
    "    print('*' * 100)\n",
    "\n",
    "stu('caiwm', 27, '北京朝阳区', '已婚')\n",
    "stu('大神')\n",
    "stu()"
   ]
  },
  {
   "cell_type": "markdown",
   "metadata": {},
   "source": [
    "### 关键字搜集参数\n",
    "- 把关键字参数按照字典（dictionary）格式存入收集参数\n",
    "- 语法\n",
    "\n",
    "            def func(**args):\n",
    "                func_body\n",
    "                按照字典使用方式访问args得到传入的参数\n",
    "        \n",
    "            调用：\n",
    "            func(k1=v1, k2=v2, k3=v3, ……)\n",
    "- kwargs一般约定俗称\n",
    "- 调用时，把多余的关键字参数放入kwargs\n",
    "- 访问kwargs需要按照字典格式访问\n",
    "- 调用函数的时候同样可以不能传参"
   ]
  },
  {
   "cell_type": "code",
   "execution_count": 16,
   "metadata": {},
   "outputs": [
    {
     "name": "stdout",
     "output_type": "stream",
     "text": [
      "{'name': 'caiwm', 'age': 27, 'occup': 'data dev'}\n",
      "<class 'dict'>\n",
      "name \t caiwm\n",
      "age \t 27\n",
      "occup \t data dev\n",
      "****************************************************************************************************\n",
      "{'age': 21}\n",
      "<class 'dict'>\n",
      "age \t 21\n",
      "****************************************************************************************************\n"
     ]
    }
   ],
   "source": [
    "# 关键字参数案例\n",
    "def stu(**kwargs):\n",
    "    print(kwargs)\n",
    "    print(type(kwargs))\n",
    "    for k, v in kwargs.items():\n",
    "        print(k, '\\t', v)\n",
    "    print('*' * 100)\n",
    "        \n",
    "stu(name='caiwm', age=27, occup='data dev')\n",
    "stu(age=21)"
   ]
  },
  {
   "cell_type": "markdown",
   "metadata": {},
   "source": [
    "### 搜集参数混和调用的顺序问题\n",
    "- 搜集参数，关键字参数，普通参数可以混合使用\n",
    "- 使用规则就是，普通参数和关键参数优先使用\n",
    "- 定义的时候一般按照普通参数，搜集参数tuple，关键字参数，搜集参数dict的顺序"
   ]
  },
  {
   "cell_type": "code",
   "execution_count": 36,
   "metadata": {},
   "outputs": [
    {
     "name": "stdout",
     "output_type": "stream",
     "text": [
      "大家好\n",
      "我叫caiwm，今年27岁\n",
      "我没有爱好\n",
      "数据开发工程师\n",
      "穷鬼\n",
      "occup \t data dev\n",
      "****************************************************************************************************\n",
      "大家好\n",
      "我叫caiwm，今年27岁\n",
      "我的爱好是游泳\n",
      "数据开发工程师\n",
      "穷鬼\n",
      "occup \t data dev\n",
      "****************************************************************************************************\n"
     ]
    }
   ],
   "source": [
    "# 搜集参数混合调用案例\n",
    "# stu模拟一个学生的自我介绍\n",
    "def stu(name, age, *args, hobby='无', **kwargs):\n",
    "    pass\n",
    "    print('大家好')\n",
    "    print('我叫{}，今年{}岁'.format(name, age))\n",
    "    if hobby == '无':\n",
    "        print('我没有爱好')\n",
    "    else:\n",
    "        print('我的爱好是{}'.format(hobby))\n",
    "        \n",
    "    for el in args:\n",
    "        print(el)\n",
    "    \n",
    "    for k, v in kwargs.items():\n",
    "        print(k, '\\t', v)\n",
    "    print('*' * 100)\n",
    "        \n",
    "stu('caiwm', 27, '数据开发工程师', '穷鬼', occup='data dev')\n",
    "stu('caiwm', 27, '数据开发工程师', '穷鬼', hobby='游泳', occup='data dev')"
   ]
  },
  {
   "cell_type": "markdown",
   "metadata": {},
   "source": [
    "### 搜集参数的解包问题\n",
    "- 把参数放入list\\tuple或者dict中，然后直接作为参数去调用函数\n",
    "- 调用搜集函数时，传入参数时需要在参数前加一个星号*\n",
    "- 调用搜集关键字函数时，传入参数时需要在参数前加两个星号**"
   ]
  },
  {
   "cell_type": "code",
   "execution_count": 43,
   "metadata": {},
   "outputs": [
    {
     "name": "stdout",
     "output_type": "stream",
     "text": [
      "1\n",
      "2\n",
      "3\n",
      "4\n",
      "****************************************************************************************************\n",
      "1\n",
      "2\n",
      "3\n",
      "4\n",
      "****************************************************************************************************\n",
      "k1 \t 1\n",
      "k2 \t 2\n",
      "k3 \t 3\n"
     ]
    }
   ],
   "source": [
    "# 搜集参数解包案例\n",
    "# 解包的参数类型支持列表和元组（list/tuple）\n",
    "def for_args(*args):\n",
    "    for el in args:\n",
    "        print(el)\n",
    "    print('*' * 100)\n",
    "l = [1, 2, 3, 4]\n",
    "t = (1, 2, 3, 4)\n",
    "for_args(*l)\n",
    "for_args(*t)\n",
    "\n",
    "def for_dict(**kwargs):\n",
    "    for k, v in kwargs.items():\n",
    "        print(k, '\\t', v)\n",
    "d = {'k1': 1, 'k2': 2, 'k3': 3}\n",
    "for_dict(**d)\n",
    "# 搜集关键字参数解包案例"
   ]
  },
  {
   "cell_type": "markdown",
   "metadata": {},
   "source": [
    "## 传值和传址\n",
    "- 传值\n",
    "    - 对于简单的数值，采用传值操作，即在函数内对参数的操作不影响外面的变量\n",
    "- 传址\n",
    "    - 对于复杂变量，采用传地址操作，此时函数内的参数和外部变量是同一份内容，任何地方对此内容的更改都影响另外的变量或参数的使用"
   ]
  },
  {
   "cell_type": "code",
   "execution_count": 4,
   "metadata": {},
   "outputs": [
    {
     "name": "stdout",
     "output_type": "stream",
     "text": [
      "20\n",
      "3\n",
      "****************************************************************************************************\n",
      "1\n",
      "1\n"
     ]
    }
   ],
   "source": [
    "# 传值和传址案例\n",
    "def func_a(l):\n",
    "    l[2] = 3\n",
    "    return None\n",
    "\n",
    "def func_b(n):\n",
    "    n += 100\n",
    "    return None\n",
    "\n",
    "l = [1, 10, 20, 40]\n",
    "print(l[2])\n",
    "func_a(l)\n",
    "print(l[2])\n",
    "print('*' * 100)\n",
    "n = 1\n",
    "print(n)\n",
    "func_b(n)\n",
    "print(n)"
   ]
  },
  {
   "cell_type": "markdown",
   "metadata": {},
   "source": [
    "# 函数文档\n",
    "- 函数文档的作用时对当前函数提供使用相关的参考信息\n",
    "- 文档的写法\n",
    "    - 在函数内部开始的第一行三引号字符串描述\n",
    "    - 一般具有特定的格式\n",
    "    - 参考案例\n",
    "- 文档查看\n",
    "    - 使用help函数，形如help(func)\n",
    "    "
   ]
  },
  {
   "cell_type": "code",
   "execution_count": 48,
   "metadata": {},
   "outputs": [
    {
     "name": "stdout",
     "output_type": "stream",
     "text": [
      "Help on function func in module __main__:\n",
      "\n",
      "func()\n",
      "    this is doc\n",
      "    文档的第二行\n",
      "\n"
     ]
    },
    {
     "data": {
      "text/plain": [
       "'this is doc\\n    文档的第二行'"
      ]
     },
     "execution_count": 48,
     "metadata": {},
     "output_type": "execute_result"
    }
   ],
   "source": [
    "def func():\n",
    "    '''this is doc\n",
    "    文档的第二行'''\n",
    "    print('这是文档')\n",
    "help(func)\n",
    "\n",
    "func.__doc__"
   ]
  },
  {
   "cell_type": "code",
   "execution_count": 50,
   "metadata": {},
   "outputs": [
    {
     "name": "stdout",
     "output_type": "stream",
     "text": [
      "Help on function stu in module __main__:\n",
      "\n",
      "stu(name, age)\n",
      "    这是文档的文字内容\n",
      "    :param name: 表示学生的姓名\n",
      "    :param age: 表示学生的年龄\n",
      "    :return: 此函数没有返回值\n",
      "\n",
      "None\n",
      "****************************************************************************************************\n",
      "\n",
      "    这是文档的文字内容\n",
      "    :param name: 表示学生的姓名\n",
      "    :param age: 表示学生的年龄\n",
      "    :return: 此函数没有返回值\n",
      "    \n"
     ]
    }
   ],
   "source": [
    "def stu(name, age):\n",
    "    '''\n",
    "    这是文档的文字内容\n",
    "    :param name: 表示学生的姓名\n",
    "    :param age: 表示学生的年龄\n",
    "    :return: 此函数没有返回值\n",
    "    '''\n",
    "    pass\n",
    "\n",
    "\n",
    "print(help(stu))\n",
    "\n",
    "print(\"*\" * 100)\n",
    "\n",
    "print(stu.__doc__)"
   ]
  },
  {
   "cell_type": "markdown",
   "metadata": {},
   "source": [
    "# 变量的作用域\n",
    "- 变量有作用范围限制\n",
    "- 分类：按照作用域分类\n",
    "    - 全局（global）：在函数外部定义\n",
    "    - 局部（local）：在函数内部定义\n",
    "- 变量的作用范围\n",
    "    - 全局变量：在定义之后可以随意调用，包括函数内\n",
    "    - 局部变量：只能在相应的函数内调用\n",
    "- LEGB原则\n",
    "    - L（Local）：局部作用域\n",
    "    - E（Enclosing function locate）：外部潜逃函数作用域\n",
    "    - G（Global module）：函数定义所在模块作用域\n",
    "    - B（Build-in）：python内置模块作用域"
   ]
  },
  {
   "cell_type": "code",
   "execution_count": 61,
   "metadata": {},
   "outputs": [
    {
     "name": "stdout",
     "output_type": "stream",
     "text": [
      "1\n",
      "1\n",
      "2\n",
      "3\n"
     ]
    },
    {
     "ename": "NameError",
     "evalue": "name 'b' is not defined",
     "output_type": "error",
     "traceback": [
      "\u001b[0;31m---------------------------------------------------------------------------\u001b[0m",
      "\u001b[0;31mNameError\u001b[0m                                 Traceback (most recent call last)",
      "\u001b[0;32m<ipython-input-61-aaff45295f43>\u001b[0m in \u001b[0;36m<module>\u001b[0;34m\u001b[0m\n\u001b[1;32m     13\u001b[0m \u001b[0;34m\u001b[0m\u001b[0m\n\u001b[1;32m     14\u001b[0m \u001b[0;31m# 调用函数func内的局部变量b时，会报错\u001b[0m\u001b[0;34m\u001b[0m\u001b[0;34m\u001b[0m\u001b[0;34m\u001b[0m\u001b[0m\n\u001b[0;32m---> 15\u001b[0;31m \u001b[0mprint\u001b[0m\u001b[0;34m(\u001b[0m\u001b[0mb\u001b[0m\u001b[0;34m)\u001b[0m\u001b[0;34m\u001b[0m\u001b[0;34m\u001b[0m\u001b[0m\n\u001b[0m",
      "\u001b[0;31mNameError\u001b[0m: name 'b' is not defined"
     ]
    }
   ],
   "source": [
    "# a是全局变量\n",
    "a = 1 \n",
    "def func(c):\n",
    "    print(a)\n",
    "    b = 2\n",
    "    print(b)\n",
    "    print(c)\n",
    "\n",
    "# 定义a后可以在任意地方使用全局变量a\n",
    "print(a)\n",
    "# 调用func时，传入参数3，会付给c，c实际上是函数func的局部变量\n",
    "func(3)\n",
    "\n",
    "# 调用函数func内的局部变量b时，会报错\n",
    "print(b)"
   ]
  },
  {
   "cell_type": "code",
   "execution_count": 67,
   "metadata": {},
   "outputs": [
    {
     "name": "stdout",
     "output_type": "stream",
     "text": [
      "1\n"
     ]
    },
    {
     "ename": "NameError",
     "evalue": "name 'b' is not defined",
     "output_type": "error",
     "traceback": [
      "\u001b[0;31m---------------------------------------------------------------------------\u001b[0m",
      "\u001b[0;31mNameError\u001b[0m                                 Traceback (most recent call last)",
      "\u001b[0;32m<ipython-input-67-c96a36d01b80>\u001b[0m in \u001b[0;36m<module>\u001b[0;34m\u001b[0m\n\u001b[1;32m     11\u001b[0m \u001b[0;34m\u001b[0m\u001b[0m\n\u001b[1;32m     12\u001b[0m \u001b[0;31m# func_1中定义\u001b[0m\u001b[0;34m\u001b[0m\u001b[0;34m\u001b[0m\u001b[0;34m\u001b[0m\u001b[0m\n\u001b[0;32m---> 13\u001b[0;31m \u001b[0mfunc_1\u001b[0m\u001b[0;34m(\u001b[0m\u001b[0;34m)\u001b[0m\u001b[0;34m\u001b[0m\u001b[0;34m\u001b[0m\u001b[0m\n\u001b[0m",
      "\u001b[0;32m<ipython-input-67-c96a36d01b80>\u001b[0m in \u001b[0;36mfunc_1\u001b[0;34m()\u001b[0m\n\u001b[1;32m      8\u001b[0m     \u001b[0ma\u001b[0m \u001b[0;34m=\u001b[0m \u001b[0;36m1\u001b[0m\u001b[0;34m\u001b[0m\u001b[0;34m\u001b[0m\u001b[0m\n\u001b[1;32m      9\u001b[0m     \u001b[0mfunc_2\u001b[0m\u001b[0;34m(\u001b[0m\u001b[0;34m)\u001b[0m\u001b[0;34m\u001b[0m\u001b[0;34m\u001b[0m\u001b[0m\n\u001b[0;32m---> 10\u001b[0;31m     \u001b[0mprint\u001b[0m\u001b[0;34m(\u001b[0m\u001b[0mb\u001b[0m\u001b[0;34m)\u001b[0m\u001b[0;34m\u001b[0m\u001b[0;34m\u001b[0m\u001b[0m\n\u001b[0m\u001b[1;32m     11\u001b[0m \u001b[0;34m\u001b[0m\u001b[0m\n\u001b[1;32m     12\u001b[0m \u001b[0;31m# func_1中定义\u001b[0m\u001b[0;34m\u001b[0m\u001b[0;34m\u001b[0m\u001b[0;34m\u001b[0m\u001b[0m\n",
      "\u001b[0;31mNameError\u001b[0m: name 'b' is not defined"
     ]
    }
   ],
   "source": [
    "# 嵌套函数作用域\n",
    "# func_1中定义了一个局部变量a和一个内嵌函数func_2\n",
    "# func_2中也定义了一个局部变量b\n",
    "def func_1():\n",
    "    def func_2():\n",
    "        print(a)\n",
    "        b = 2\n",
    "    a = 1\n",
    "    func_2()\n",
    "    print(b)\n",
    "\n",
    "# 调用func_1时，func_2成功访问了func_1的局部变量a\n",
    "# 但是func_1是无法访问func_2中的局部变量b\n",
    "func_1()"
   ]
  },
  {
   "cell_type": "markdown",
   "metadata": {},
   "source": [
    "## global的用法\n",
    "- global的作用是在函数内部定义全局作用域"
   ]
  },
  {
   "cell_type": "code",
   "execution_count": 78,
   "metadata": {},
   "outputs": [
    {
     "name": "stdout",
     "output_type": "stream",
     "text": [
      "函数外打印a:1\n",
      "函数内打印a:1\n",
      "函数外打印a:1\n",
      "****************************************************************************************************\n",
      "函数内打印a:2\n",
      "****************************************************************************************************\n",
      "2\n",
      "3\n",
      "3\n"
     ]
    }
   ],
   "source": [
    "# global案例\n",
    "# 定义全局变量a\n",
    "a = 1\n",
    "print('函数外打印a:{}'.format(a))\n",
    "def func_1():\n",
    "    print('函数内打印a:{}'.format(a))\n",
    "    \n",
    "func_1()\n",
    "print('函数外打印a:{}'.format(a))\n",
    "\n",
    "print('*' * 100)\n",
    "# 修改全局变量a的值后再调用func_1，发现打印的是2\n",
    "a = 2\n",
    "func_1()\n",
    "\n",
    "print('*' * 100)\n",
    "# 在函数中修改全局变量a，会报错\n",
    "# 需要使用global关键字\n",
    "# 在函数内将a的值变更为3\n",
    "def func_2():\n",
    "    # 注意使用global关键字时，不能同时赋值\n",
    "    # global a = 3会报错\n",
    "    global a \n",
    "    print(a)\n",
    "    a = 3\n",
    "    print(a)\n",
    "    \n",
    "func_2()\n",
    "# 调用func_2后再访问a，发现值变更为3\n",
    "# 说明在函数内使用global关键字后，可以变更全局变量的值\n",
    "print(a)"
   ]
  },
  {
   "cell_type": "markdown",
   "metadata": {},
   "source": [
    "## globals()和locals()\n",
    "- globals()函数会以字典类型返回当前位置的全部全局变量\n",
    "- locals()函数会议字典类型返回当前位置的全部局部变量"
   ]
  },
  {
   "cell_type": "code",
   "execution_count": 1,
   "metadata": {},
   "outputs": [
    {
     "name": "stdout",
     "output_type": "stream",
     "text": [
      "Locals={'e': 111, 'd': 200, 'c': 100}\n",
      "Globals={'__name__': '__main__', '__doc__': 'Automatically created module for IPython interactive environment', '__package__': None, '__loader__': None, '__spec__': None, '__builtin__': <module 'builtins' (built-in)>, '__builtins__': <module 'builtins' (built-in)>, '_ih': ['', '# globals 和 locals\\n# globals 和 locals 叫做内建函数\\na = 1\\nb = 2\\n\\ndef fun(c,d):\\n    e = 111\\n    print(\"Locals={0}\".format(locals()))\\n    print(\"Globals={0}\".format(globals()))\\n    \\nfun(100, 200)'], '_oh': {}, '_dh': ['/home/caiwenming/.jupyter/myNotebook/刘大拿的Python'], 'In': ['', '# globals 和 locals\\n# globals 和 locals 叫做内建函数\\na = 1\\nb = 2\\n\\ndef fun(c,d):\\n    e = 111\\n    print(\"Locals={0}\".format(locals()))\\n    print(\"Globals={0}\".format(globals()))\\n    \\nfun(100, 200)'], 'Out': {}, 'get_ipython': <bound method InteractiveShell.get_ipython of <ipykernel.zmqshell.ZMQInteractiveShell object at 0x7f4e6f86aa20>>, 'exit': <IPython.core.autocall.ZMQExitAutocall object at 0x7f4e6f83ae80>, 'quit': <IPython.core.autocall.ZMQExitAutocall object at 0x7f4e6f83ae80>, '_': '', '__': '', '___': '', '_i': '', '_ii': '', '_iii': '', '_i1': '# globals 和 locals\\n# globals 和 locals 叫做内建函数\\na = 1\\nb = 2\\n\\ndef fun(c,d):\\n    e = 111\\n    print(\"Locals={0}\".format(locals()))\\n    print(\"Globals={0}\".format(globals()))\\n    \\nfun(100, 200)', 'a': 1, 'b': 2, 'fun': <function fun at 0x7f4e6c7252f0>}\n"
     ]
    }
   ],
   "source": [
    "# globals 和 locals\n",
    "# globals 和 locals 叫做内建函数\n",
    "a = 1\n",
    "b = 2\n",
    "\n",
    "def fun(c,d):\n",
    "    e = 111\n",
    "    print(\"Locals={0}\".format(locals()))\n",
    "    print(\"Globals={0}\".format(globals()))\n",
    "    \n",
    "fun(100, 200)"
   ]
  },
  {
   "cell_type": "markdown",
   "metadata": {},
   "source": [
    "# 一些常用的函数\n",
    "- eval()\n",
    "    - 把一个字符串当成一个表达式来执行，返回表达式执行后的结果\n",
    "    - 语法\n",
    "            eval(string_code, globals=Node, locals=None)\n",
    "- exec()\n",
    "    - 把一个字符串当成一个表达式来执行，不返回结果\n",
    "    - 语法\n",
    "            eval(string_code, globals=Node, locals=None)"
   ]
  },
  {
   "cell_type": "code",
   "execution_count": 6,
   "metadata": {},
   "outputs": [
    {
     "name": "stdout",
     "output_type": "stream",
     "text": [
      "3\n",
      "****************************************************************************************************\n",
      "3\n",
      "None\n"
     ]
    }
   ],
   "source": [
    "# eval案例\n",
    "a = 1\n",
    "b = 2\n",
    "c = eval('a+b')\n",
    "print(c)\n",
    "\n",
    "print('*' * 100)\n",
    "\n",
    "# exec案例\n",
    "# 定义并赋值给d的时候，执行了a+b\n",
    "d = exec('print(a+b)')\n",
    "print(d)"
   ]
  },
  {
   "cell_type": "markdown",
   "metadata": {},
   "source": [
    "# 递归函数\n",
    "- 函数直接或间接调用自身\n",
    "- python中递归函数的特性\n",
    "    - 对递归深度有限制，具体可以通过sys.getrecursionlimit()获得\n",
    "    - 报递归深度错误时，递归次数一般会小于默认值\n",
    "    - 通过sys设置递归深度不能过小（试了一下，52次及以上不会报错），否则也会报异常\n",
    "    - 耗费内存\n",
    "    - 简单易懂\n",
    "- 解决递归深度问题\n",
    "        import sys\n",
    "        # 获取系统默认的递归深度\n",
    "        rec_lmt = sys.getrecursionlimit()\n",
    "        # 该代码将递归深度调整为10000次\n",
    "        sys.setrecursionlimit(10000)\n",
    "- 在使用递归时，需要设置退出条件"
   ]
  },
  {
   "cell_type": "code",
   "execution_count": 1,
   "metadata": {},
   "outputs": [
    {
     "name": "stdout",
     "output_type": "stream",
     "text": [
      "3000\n",
      "52\n",
      "2\n",
      "3\n"
     ]
    }
   ],
   "source": [
    "import sys\n",
    "# 获取系统默认的递归深度\n",
    "print(sys.getrecursionlimit())\n",
    "# 将系统递归深度设置为10次\n",
    "sys.setrecursionlimit(52)\n",
    "print(sys.getrecursionlimit())\n",
    "x = 1\n",
    "def func():\n",
    "    global x\n",
    "    if x >= 3:\n",
    "        return None\n",
    "    x += 1\n",
    "    print(x)\n",
    "    func()\n",
    "func()"
   ]
  },
  {
   "cell_type": "code",
   "execution_count": 11,
   "metadata": {},
   "outputs": [
    {
     "name": "stdout",
     "output_type": "stream",
     "text": [
      "2\n",
      "None\n",
      "2\n"
     ]
    }
   ],
   "source": [
    "# 斐波那契数列\n",
    "# 1, 1, 2, 3, 5, 8, 11, 19......\n",
    "# 斐波那契数列存在一定问题：n是负数怎么办？为什么不用else语句\n",
    "def fib(n):\n",
    "    # 解决n是负数问题，n小于1的情况直接退出，或使用友好的提示\n",
    "    if n < 1:\n",
    "        return None\n",
    "    if n == 1:\n",
    "        return 1\n",
    "    if n == 2:\n",
    "        return 1\n",
    "    return fib(n-1) + fib(n-2)\n",
    "\n",
    "res = fib(3)\n",
    "print(res)\n",
    "print(fib(-1))\n",
    "\n",
    "# 使用else语句也是可以实现的，但是看起来代码不简洁也不必要\n",
    "def fib_else(n):\n",
    "    # 解决n是负数问题，n小于1的情况直接退出，或使用友好的提示\n",
    "    if n < 1:\n",
    "        return None\n",
    "    elif n == 1:\n",
    "        return 1\n",
    "    elif n == 2:\n",
    "        return 1\n",
    "    else:\n",
    "        return fib(n-1) + fib(n-2)\n",
    "    \n",
    "res = fib_else(3)\n",
    "print(res)"
   ]
  },
  {
   "cell_type": "markdown",
   "metadata": {},
   "source": [
    "## 汉诺塔问题\n",
    "- 规则：\n",
    "    1. 每次移动一个盘子\n",
    "    2. 任何时候大盘子在下面，小盘子在上面\n",
    "- 方法：\n",
    "    1. n=1： 直接把A上的一个盘子移动到C上， A->C\n",
    "    2. n=2：\n",
    "        1. 把小盘子从A放到B上， A->B\n",
    "        2. 把大盘子从A放到C上， A->C\n",
    "        3. 把小盘子从B放到C上， B->C        \n",
    "    3. n=3:        \n",
    "        1. 把A上的两个盘子，通过C移动到B上去， 调用递归实现        \n",
    "        2. 把A上剩下的一个最大盘子移动到C上， A->C        \n",
    "        3. 把B上两个盘子，借助于A，挪到C上去， 调用递归\n",
    "    4. n = n：      \n",
    "        1. 把A上的n-1个盘子，借助于C，移动到B上去，调用递归        \n",
    "        2. 把A上的最大盘子，也是唯一一个，移动到C上，A->C        \n",
    "        3. 把B上n-1个盘子，借助于A，移动到C上， 调用递归"
   ]
  },
  {
   "cell_type": "code",
   "execution_count": 5,
   "metadata": {},
   "outputs": [
    {
     "name": "stdout",
     "output_type": "stream",
     "text": [
      "A  ->  C\n",
      "A  ->  B\n",
      "C  ->  B\n",
      "A  ->  C\n",
      "B  ->  A\n",
      "B  ->  C\n",
      "A  ->  C\n"
     ]
    }
   ],
   "source": [
    "def hano(n, a, b, c):\n",
    "    '''\n",
    "    n：有n个盘子\n",
    "    a：源塔\n",
    "    b：中间塔\n",
    "    c：目标塔\n",
    "    '''\n",
    "    if n == 1:\n",
    "        print(a, ' -> ', c)\n",
    "        return None\n",
    "    \n",
    "    if n == 2:\n",
    "        print(a, ' -> ', b)\n",
    "        print(a, ' -> ', c)\n",
    "        print(b, ' -> ', c)\n",
    "        return None\n",
    "    \n",
    "    hano(n-1, a, c, b)\n",
    "    print(a, ' -> ', c)\n",
    "    hano(n-1, b, a, c)\n",
    "    \n",
    "hano(3, 'A', 'B', 'C')"
   ]
  },
  {
   "cell_type": "code",
   "execution_count": 7,
   "metadata": {},
   "outputs": [
    {
     "name": "stdout",
     "output_type": "stream",
     "text": [
      "A  ->  C\n",
      "A  ->  B\n",
      "C  ->  B\n",
      "A  ->  C\n",
      "B  ->  A\n",
      "B  ->  C\n",
      "A  ->  C\n"
     ]
    }
   ],
   "source": [
    "# 没有==2这个条件，函数也是正常的\n",
    "def hano(n, a, b, c):\n",
    "    '''\n",
    "    n：有n个盘子\n",
    "    a：源塔\n",
    "    b：中间塔\n",
    "    c：目标塔\n",
    "    '''\n",
    "    if n == 1:\n",
    "        print(a, ' -> ', c)\n",
    "        return None\n",
    "    \n",
    "    hano(n-1, a, c, b)\n",
    "    print(a, ' -> ', c)\n",
    "    hano(n-1, b, a, c)\n",
    "    \n",
    "hano(3, 'A', 'B', 'C')"
   ]
  },
  {
   "cell_type": "code",
   "execution_count": null,
   "metadata": {},
   "outputs": [],
   "source": []
  }
 ],
 "metadata": {
  "kernelspec": {
   "display_name": "Python 3",
   "language": "python",
   "name": "python3"
  },
  "language_info": {
   "codemirror_mode": {
    "name": "ipython",
    "version": 3
   },
   "file_extension": ".py",
   "mimetype": "text/x-python",
   "name": "python",
   "nbconvert_exporter": "python",
   "pygments_lexer": "ipython3",
   "version": "3.6.7"
  }
 },
 "nbformat": 4,
 "nbformat_minor": 2
}
