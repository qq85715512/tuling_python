{
 "cells": [
  {
   "cell_type": "markdown",
   "metadata": {},
   "source": [
    "# str字符串\n",
    "- str\n",
    "- 转义字符\n",
    "- 格式化\n",
    "- 内建函数"
   ]
  },
  {
   "cell_type": "markdown",
   "metadata": {},
   "source": [
    "# 字符串\n",
    "- 表示文字信息\n",
    "- 用单引号、双引号、单引号括起来"
   ]
  },
  {
   "cell_type": "code",
   "execution_count": 6,
   "metadata": {},
   "outputs": [
    {
     "name": "stdout",
     "output_type": "stream",
     "text": [
      "abc\n",
      "---------\n",
      "abc\n",
      "---------\n",
      "a\n",
      "b\n",
      "c\n",
      "---------\n",
      "a\n",
      "b\n",
      "c\n"
     ]
    }
   ],
   "source": [
    "s1 = 'abc'\n",
    "s2 = \"abc\"\n",
    "s3 = '''a\n",
    "b\n",
    "c'''\n",
    "\n",
    "s4 = \"\"\"a\n",
    "b\n",
    "c\"\"\"\n",
    "\n",
    "print(s1, s2, s3, s4, sep='\\n---------\\n')"
   ]
  },
  {
   "cell_type": "markdown",
   "metadata": {},
   "source": [
    "# 转义字符\n",
    "- 用一个特殊的方法表示一系列不方便写出的内容，比如回车键、换行符、退格等\n",
    "- 借助反斜杠“\\”，一旦字符串中有反斜杠，则反斜杠后面一个或几个字符表示已经不是原来的意思了，进行了转义\n",
    "- 不同系统对换行操作有不同的表示\n",
    "    - window：\\n\n",
    "    - linux：\\r\\n\n"
   ]
  },
  {
   "cell_type": "code",
   "execution_count": 15,
   "metadata": {},
   "outputs": [
    {
     "name": "stdout",
     "output_type": "stream",
     "text": [
      "Let's go\n",
      "Let's go\n",
      "c:\\path\\to\\dir\n",
      "I \n",
      "love \n",
      "you\n"
     ]
    }
   ],
   "source": [
    "# 转义字符的案例\n",
    "# 想表达Let's go\n",
    "s = 'Let\\'s go'\n",
    "print(s)\n",
    "\n",
    "# 使用单引号嵌套\n",
    "s = \"Let's go\"\n",
    "print(s)\n",
    "\n",
    "# 表示斜杠\n",
    "# 比如路径\n",
    "path = 'c:\\\\path\\\\to\\\\dir'\n",
    "print(path)\n",
    "\n",
    "# 回车换行\n",
    "s = 'I \\nlove \\nyou'\n",
    "print(s)"
   ]
  },
  {
   "cell_type": "markdown",
   "metadata": {},
   "source": [
    "## 常用转义字符\n",
    "- 转义字符列表\n",
    "            转义字符    意义                                ASCII码值（十进制）\n",
    "            \\a         响铃(BEL)                                            007\n",
    "            \\b         退格(BS) ，将当前位置移到前一列        008\n",
    "            \\f         换页(FF)，将当前位置移到下页开头       012\n",
    "            \\n         换行(LF) ，将当前位置移到下一行开头    010\n",
    "            \\r         回车(CR) ，将当前位置移到本行开头      013\n",
    "            \\t         水平制表(HT) （跳到下一个TAB位置）     009\n",
    "            \\v         垂直制表(VT)                                         011\n",
    "            \\\\         代表一个反斜线字符''\\'                           092\n",
    "            \\'         代表一个单引号（撇号）字符                   039\n",
    "            \\\"         代表一个双引号字符                              034\n",
    "            \\?         代表一个问号                                        063\n",
    "            \\0         空字符(NUL)                                          000\n",
    "            \\ddd       1到3位八进制数所代表的任意字符         三位八进制\n",
    "            \\xhh       1到2位十六进制所代表的任意字符         十六进制\n",
    "- 单个反斜杠的用法\n",
    "    - 在python中，反斜杠表示此行未结束，另起一行继续，但实际上还是一行\n",
    "    - 主要出于美观"
   ]
  },
  {
   "cell_type": "code",
   "execution_count": 17,
   "metadata": {},
   "outputs": [
    {
     "name": "stdout",
     "output_type": "stream",
     "text": [
      "6\n"
     ]
    }
   ],
   "source": [
    "# 单斜杆的案例\n",
    "# 不单单只是在定义函数师才可以用\n",
    "# 只要认为代码过长，都可以使用反斜杠换行继续\n",
    "def func(a,\\\n",
    "         b,\\\n",
    "         c):\n",
    "    print(a + b + c)\n",
    "\n",
    "func(1, 2, 3)"
   ]
  },
  {
   "cell_type": "markdown",
   "metadata": {},
   "source": [
    "# 格式化\n",
    "- 把字符串按照指定格式打印或填充\n",
    "- 格式化的分类\n",
    "    - 传统格式化，使用占位符%实现\n",
    "    - format()函数\n",
    "    \n",
    "## 传统格式化\n",
    "- 列表\n",
    "        %s：字符串\n",
    "        %r：字符串，使用正则\n",
    "        %c：整数转换为单个字符\n",
    "        %d：十进制整数\n",
    "        %u：无符号整数\n",
    "        %o：八进制\n",
    "        %x：十六进制，字母小写\n",
    "        %X：十六进制，字母大写\n",
    "        %e：科学计数法，e为小写。例如：2.87e+12\n",
    "        %E：科学记数法，E为大写。例如：2.87E+12\n",
    "        %f，%F：十进制浮点数\n",
    "        %g，%G：十进制浮点数或指数浮点数自动转换\n",
    "        格式字符前出现整数表示此占位符所占位置的宽度\n",
    "        格式字符前出现'-'表示左对齐\n",
    "        格式字符前出现'+'表示右对齐\n",
    "        0位数不足用'0'补齐\n",
    "        width表示宽度\n",
    "        precision表示精度\n",
    "- 占位符一般只能被同类型替换"
   ]
  },
  {
   "cell_type": "code",
   "execution_count": 31,
   "metadata": {},
   "outputs": [
    {
     "name": "stdout",
     "output_type": "stream",
     "text": [
      "i love %s\n",
      "i love smz\n",
      "i love 100\n",
      "我19岁了\n"
     ]
    }
   ],
   "source": [
    "# %s表示字符串\n",
    "s = \"i love %s\"\n",
    "print(s)\n",
    "print(s % \"smz\")\n",
    "\n",
    "# 以下传入整型也是可以\n",
    "print(s % 100)\n",
    "\n",
    "s1 = \"我%d岁了\"\n",
    "print(s1%19)\n",
    "\n",
    "# 如果传入字符串数值，则报错\n",
    "# print(s1 % \"19\")"
   ]
  },
  {
   "cell_type": "code",
   "execution_count": 30,
   "metadata": {},
   "outputs": [
    {
     "name": "stdout",
     "output_type": "stream",
     "text": [
      "我79.600000KG，1.810000m\n",
      "我79.60KG，1.81m\n"
     ]
    }
   ],
   "source": [
    "# 多个占位符\n",
    "# 使用括号将多个参数组合\n",
    "s = '我%fKG，%fm'\n",
    "print(s%(79.6, 1.81))\n",
    "\n",
    "\n",
    "s = '我%.2fKG，%.2fm'\n",
    "print(s%(79.6, 1.81))"
   ]
  },
  {
   "cell_type": "markdown",
   "metadata": {},
   "source": [
    "## format格式化\n",
    "- 使用函数形式进行格式化，代替以前的%\n",
    "- 使用方式\n",
    "    - 不指定位置\n",
    "    - 指定位置\n",
    "    - 命名参数\n",
    "    - 使用字典设置参数"
   ]
  },
  {
   "cell_type": "code",
   "execution_count": 35,
   "metadata": {},
   "outputs": [
    {
     "name": "stdout",
     "output_type": "stream",
     "text": [
      "hello world!\n",
      "hello world!\n"
     ]
    }
   ],
   "source": [
    "# 不用指定位置，按顺序读取\n",
    "s = '{} {}!'\n",
    "print(s.format('hello', 'world'))\n",
    "\n",
    "s = '{} {}!'.format('hello', 'world')\n",
    "print(s)"
   ]
  },
  {
   "cell_type": "code",
   "execution_count": 36,
   "metadata": {},
   "outputs": [
    {
     "name": "stdout",
     "output_type": "stream",
     "text": [
      "hello world!\n",
      "world world!\n"
     ]
    }
   ],
   "source": [
    "#  设置指定位置\n",
    "s = '{0} {1}!'.format('hello', 'world')\n",
    "print(s)\n",
    "\n",
    "s = '{1} {1}!'.format('hello', 'world')\n",
    "print(s)"
   ]
  },
  {
   "cell_type": "code",
   "execution_count": 38,
   "metadata": {},
   "outputs": [
    {
     "name": "stdout",
     "output_type": "stream",
     "text": [
      "我叫cwm，来自ustb\n"
     ]
    }
   ],
   "source": [
    "# 使用命名参数\n",
    "s = '我叫{name}，来自{school}'.format(name='cwm', school='ustb')\n",
    "print(s)"
   ]
  },
  {
   "cell_type": "code",
   "execution_count": 41,
   "metadata": {},
   "outputs": [
    {
     "name": "stdout",
     "output_type": "stream",
     "text": [
      "我叫cwm，来自ustb\n"
     ]
    }
   ],
   "source": [
    "# 使用字典设置参数，需要解包\n",
    "info = {'school': 'ustb', 'name': 'cwm'}\n",
    "# **是解包操作\n",
    "s = '我叫{name}，来自{school}'.format(**info)\n",
    "print(s)"
   ]
  },
  {
   "cell_type": "code",
   "execution_count": 42,
   "metadata": {},
   "outputs": [
    {
     "name": "stdout",
     "output_type": "stream",
     "text": [
      "我79.60KG，1.81m\n"
     ]
    }
   ],
   "source": [
    "# 对数字格式化需要用到\n",
    "s = '我{:.2f}KG，{:.2f}m'.format(79.6, 1.81)\n",
    "print(s)"
   ]
  },
  {
   "cell_type": "markdown",
   "metadata": {},
   "source": [
    "# str内置函数\n",
    "- 使用help(str)查看文档"
   ]
  },
  {
   "cell_type": "code",
   "execution_count": null,
   "metadata": {},
   "outputs": [],
   "source": []
  }
 ],
 "metadata": {
  "kernelspec": {
   "display_name": "Python 3",
   "language": "python",
   "name": "python3"
  },
  "language_info": {
   "codemirror_mode": {
    "name": "ipython",
    "version": 3
   },
   "file_extension": ".py",
   "mimetype": "text/x-python",
   "name": "python",
   "nbconvert_exporter": "python",
   "pygments_lexer": "ipython3",
   "version": "3.6.7"
  }
 },
 "nbformat": 4,
 "nbformat_minor": 2
}
