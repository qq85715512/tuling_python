{
 "cells": [
  {
   "cell_type": "markdown",
   "metadata": {},
   "source": [
    "# 水仙花数\n",
    "水仙花数（Narcissistic number）也被称为超完全数字不变数（pluperfect digital invariant, PPDI）、自恋数、自幂数、阿姆斯壮数或阿姆斯特朗数（Armstrong number），水仙花数是指一个 3 位数，它的每个位上的数字的 3次幂之和等于它本身（例如：1^3 + 5^3+ 3^3 = 153）"
   ]
  },
  {
   "cell_type": "code",
   "execution_count": 3,
   "metadata": {},
   "outputs": [
    {
     "name": "stdout",
     "output_type": "stream",
     "text": [
      "请输入一个3位正整数：873\n",
      "[153, 370, 371, 407]\n"
     ]
    }
   ],
   "source": [
    "# 输入一个正整数，输出小于该数的所有水仙花数\n",
    "try:\n",
    "    num = int(input('请输入一个3位正整数：'))\n",
    "    narcissistic_number_list = []\n",
    "    if num >= 100 and num <= 999:\n",
    "        for i in range(100, num + 1):\n",
    "            x = i // 100\n",
    "            y = (i - x * 100) // 10\n",
    "            z = i - x * 100 - y * 10\n",
    "            ret = x ** 3 + y ** 3 + z ** 3\n",
    "            if ret == i:\n",
    "                narcissistic_number_list.append(ret)\n",
    "        print(narcissistic_number_list)\n",
    "    else:\n",
    "        print('输入有误！')\n",
    "except Exception as e:\n",
    "    print('请输入有效内容')"
   ]
  },
  {
   "cell_type": "markdown",
   "metadata": {},
   "source": [
    "# 完美数\n",
    "完全数（Perfect number），又称完美数或完备数，是一些特殊的自然数。它所有的真因子（即除了自身以外的约数）的和（即因子函数），恰好等于它本身。如果一个数恰好等于它的因子之和，则称该数为“完全数”。第一个完全数是6，第二个完全数是28，第三个完全数是496，后面的完全数还有8128、33550336等等。"
   ]
  },
  {
   "cell_type": "code",
   "execution_count": 8,
   "metadata": {},
   "outputs": [
    {
     "name": "stdout",
     "output_type": "stream",
     "text": [
      "请输入一个正整数：500\n",
      "[6, 28, 496]\n"
     ]
    }
   ],
   "source": [
    "# 输入一个正整数，输出小于该数的所有完美数\n",
    "try:\n",
    "    num = int(input('请输入一个正整数：'))\n",
    "    perfect_number_list = []\n",
    "    for i in range(1, num + 1):\n",
    "        approximate_number = []\n",
    "        for j in range(1, i):\n",
    "            if i % j == 0:\n",
    "                approximate_number.append(j)\n",
    "        approximate_sum = sum(approximate_number)\n",
    "        if approximate_sum == i:\n",
    "            perfect_number_list.append(i)\n",
    "    print(perfect_number_list)\n",
    "except Exception as e:\n",
    "    print('请输入有效内容')"
   ]
  },
  {
   "cell_type": "markdown",
   "metadata": {},
   "source": [
    "# 百钱百鸡\n",
    "我国古代数学家张丘建在《算经》一书中提出的数学问题：鸡翁一值钱五，鸡母一值钱三，鸡雏三值钱一。百钱买百鸡，问鸡翁、鸡母、鸡雏各几何？"
   ]
  },
  {
   "cell_type": "code",
   "execution_count": 10,
   "metadata": {},
   "outputs": [
    {
     "name": "stdout",
     "output_type": "stream",
     "text": [
      "0 25 75\n",
      "4 18 78\n",
      "8 11 81\n",
      "12 4 84\n"
     ]
    }
   ],
   "source": [
    "for i in range(21):\n",
    "    money_bal = 100 - i * 5\n",
    "    mother_num = money_bal // 3\n",
    "    for j in range(money_bal + 1):\n",
    "        money_bal_new = money_bal - j * 3\n",
    "        son_num = 3 * money_bal_new\n",
    "        if i + j + son_num == 100:\n",
    "            print(i, j, son_num)"
   ]
  },
  {
   "cell_type": "markdown",
   "metadata": {},
   "source": [
    "# 斐波那契数列\n",
    "斐波那契数列（Fibonacci sequence），又称黄金分割数列、因数学家列昂纳多·斐波那契（Leonardoda Fibonacci）以兔子繁殖为例子而引入，故又称为“兔子数列”，指的是这样一个数列：1、1、2、3、5、8、13、21、34、……在数学上，斐波纳契数列以如下被以递推的方法定义：F(1)=1，F(2)=1, F(n)=F(n-1)+F(n-2)（n>=3，n∈N*）在现代物理、准晶体结构、化学等领域，斐波纳契数列都有直接的应用，为此，美国数学会从1963年起出版了以《斐波纳契数列季刊》为名的一份数学杂志，用于专门刊载这方面的研究成果。"
   ]
  },
  {
   "cell_type": "code",
   "execution_count": 11,
   "metadata": {},
   "outputs": [
    {
     "name": "stdout",
     "output_type": "stream",
     "text": [
      "请输入一个正整数：4\n",
      "3\n"
     ]
    }
   ],
   "source": [
    "# 输入一个正整数，输出斐波那契数列的第n个数\n",
    "def fibonacci(n):\n",
    "    if n <= 2:\n",
    "        return 1\n",
    "    return fibonacci(n - 1) + fibonacci(n - 2)\n",
    "\n",
    "try:\n",
    "    num = int(input('请输入一个正整数：'))\n",
    "    print(fibonacci(num))\n",
    "    \n",
    "except Exception as e:\n",
    "    print('请输入有效内容')"
   ]
  },
  {
   "cell_type": "code",
   "execution_count": 25,
   "metadata": {},
   "outputs": [
    {
     "name": "stdout",
     "output_type": "stream",
     "text": [
      "7\n"
     ]
    }
   ],
   "source": [
    "def fib_inner(n, x, y):\n",
    "    if n == 1:\n",
    "        return x\n",
    "    if n == 2:\n",
    "        return y\n",
    "    return fib(n - 1, y, x + y)\n",
    "\n",
    "\n",
    "def fib_outter(n):\n",
    "    return fib_inner(n, 1, 1)\n",
    "print(fib_outter(8))"
   ]
  },
  {
   "cell_type": "code",
   "execution_count": null,
   "metadata": {},
   "outputs": [],
   "source": []
  }
 ],
 "metadata": {
  "kernelspec": {
   "display_name": "Python 3",
   "language": "python",
   "name": "python3"
  },
  "language_info": {
   "codemirror_mode": {
    "name": "ipython",
    "version": 3
   },
   "file_extension": ".py",
   "mimetype": "text/x-python",
   "name": "python",
   "nbconvert_exporter": "python",
   "pygments_lexer": "ipython3",
   "version": "3.6.7"
  }
 },
 "nbformat": 4,
 "nbformat_minor": 2
}
